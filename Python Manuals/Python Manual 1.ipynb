{
 "cells": [
  {
   "cell_type": "code",
   "execution_count": null,
   "metadata": {},
   "outputs": [],
   "source": [
    "# !/usr/bin/env python\n",
    "# coding: utf-8\n"
   ]
  },
  {
   "cell_type": "code",
   "execution_count": null,
   "metadata": {},
   "outputs": [],
   "source": [
    "# Print\n",
    "print(\"Cyberseef\") # Print the string"
   ]
  },
  {
   "cell_type": "code",
   "execution_count": null,
   "metadata": {},
   "outputs": [],
   "source": [
    "# Input\n",
    "a = int(input()) # Take input from user\n",
    "b = int(input()) # Take input from user\n",
    "\n",
    "# Output\n",
    "sum=a+b # Add two variable\n",
    "\n",
    "# Print\n",
    "print(\"Sum of two variable is \", sum) # Print the string"
   ]
  },
  {
   "cell_type": "code",
   "execution_count": null,
   "metadata": {},
   "outputs": [],
   "source": [
    "# Print\n",
    "name = \"Alexander Hamilton\" # String\n",
    "print(f\"hello {name}\") # Print the string"
   ]
  },
  {
   "cell_type": "code",
   "execution_count": null,
   "metadata": {},
   "outputs": [],
   "source": [
    "# Conditionals\n",
    "num1 = 2 # Integer\n",
    "num2 = 3 # Integer\n",
    "\n",
    "if num1 < num2:     # If condition\n",
    "    print(\"PASS\")   # Print the string\n",
    "elif num1 > num2:   # Else if condition\n",
    "    print(\"OHO\")    # Print the string\n",
    "else:               # Else condition\n",
    "    print(\"FAIL\")   # Print the string  "
   ]
  },
  {
   "cell_type": "code",
   "execution_count": null,
   "metadata": {},
   "outputs": [],
   "source": [
    "# Comparison\n",
    "a = int(input(\"Enter the Value or A: \")) # Take input from user\n",
    "b = int(input(\"Enter the Valur of B:\" )) # Take input from user\n",
    "if a < b:                               # If condition\n",
    "    print(\"B is greater\")               # Print the string\n",
    "else:                                   # Else condition\n",
    "    print(\"A is Greater\")               # Print the string"
   ]
  },
  {
   "cell_type": "code",
   "execution_count": null,
   "metadata": {},
   "outputs": [],
   "source": [
    "# List & Loops\n",
    "a = [2, \"Sameel\", 3.24] # List\n",
    "\n",
    "for i in a:             # For loop\n",
    "    i[:]                # Slice\n",
    "\n",
    "a[2]\n",
    "\n",
    "a[1:]\n",
    "\n",
    "a = [1,2,3]     # List\n",
    "for i in a:     # For loop\n",
    "    print(i)    # Print the string\n",
    "\n",
    "for i in range(10): # For loop\n",
    "    print(i, end='') # Print the string\n",
    "\n",
    "b = [1,2,3]\n",
    "x = len(b)\n",
    "for i in range(x):\n",
    "    print(a[i],end='')"
   ]
  },
  {
   "cell_type": "code",
   "execution_count": null,
   "metadata": {},
   "outputs": [],
   "source": [
    "# Extend & Append\n",
    "a = [1,2,3]     # List\n",
    "a.append(2)    # Append\n",
    "a.append([1,3,5]) # Append\n",
    "a.extend([1,3,5]) # Extend\n",
    "print(a)       # Print the string"
   ]
  },
  {
   "cell_type": "code",
   "execution_count": null,
   "metadata": {},
   "outputs": [],
   "source": [
    "# Packing Touple\n",
    "a = (\"Sameel\",1, [1, 3.14])\n",
    "c,d,f = a\n",
    "print(a[2])\n",
    "print(c)\n",
    "print(d)\n",
    "print(f)\n",
    "print(a[2][1])"
   ]
  }
 ],
 "metadata": {
  "kernelspec": {
   "display_name": "Python 3",
   "language": "python",
   "name": "python3"
  },
  "language_info": {
   "codemirror_mode": {
    "name": "ipython",
    "version": 3
   },
   "file_extension": ".py",
   "mimetype": "text/x-python",
   "name": "python",
   "nbconvert_exporter": "python",
   "pygments_lexer": "ipython3",
   "version": "3.11.2"
  },
  "orig_nbformat": 4,
  "vscode": {
   "interpreter": {
    "hash": "2a5e0e52a088b649155d4b0d7a1390d71c1fe55bd07b067cd7bff3efb10bcdcf"
   }
  }
 },
 "nbformat": 4,
 "nbformat_minor": 2
}
