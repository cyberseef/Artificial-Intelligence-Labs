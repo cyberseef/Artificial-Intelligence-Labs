{
 "cells": [
  {
   "cell_type": "code",
   "execution_count": 8,
   "metadata": {},
   "outputs": [],
   "source": [
    "# !/usr/bin/env python\n",
    "# coding: utf-8\n"
   ]
  },
  {
   "cell_type": "code",
   "execution_count": 9,
   "metadata": {},
   "outputs": [
    {
     "name": "stdout",
     "output_type": "stream",
     "text": [
      "Cyberseef\n"
     ]
    }
   ],
   "source": [
    "# Print\n",
    "print(\"Cyberseef\") # Print the string"
   ]
  },
  {
   "cell_type": "code",
   "execution_count": 10,
   "metadata": {},
   "outputs": [
    {
     "ename": "ValueError",
     "evalue": "invalid literal for int() with base 10: ''",
     "output_type": "error",
     "traceback": [
      "\u001b[1;31m---------------------------------------------------------------------------\u001b[0m",
      "\u001b[1;31mValueError\u001b[0m                                Traceback (most recent call last)",
      "Cell \u001b[1;32mIn[10], line 3\u001b[0m\n\u001b[0;32m      1\u001b[0m \u001b[39m# Input\u001b[39;00m\n\u001b[0;32m      2\u001b[0m a \u001b[39m=\u001b[39m \u001b[39mint\u001b[39m(\u001b[39minput\u001b[39m()) \u001b[39m# Take input from user\u001b[39;00m\n\u001b[1;32m----> 3\u001b[0m b \u001b[39m=\u001b[39m \u001b[39mint\u001b[39;49m(\u001b[39minput\u001b[39;49m()) \u001b[39m# Take input from user\u001b[39;00m\n\u001b[0;32m      5\u001b[0m \u001b[39m# Output\u001b[39;00m\n\u001b[0;32m      6\u001b[0m \u001b[39msum\u001b[39m\u001b[39m=\u001b[39ma\u001b[39m+\u001b[39mb \u001b[39m# Add two variable\u001b[39;00m\n",
      "\u001b[1;31mValueError\u001b[0m: invalid literal for int() with base 10: ''"
     ]
    }
   ],
   "source": [
    "# Input\n",
    "a = int(input()) # Take input from user\n",
    "b = int(input()) # Take input from user\n",
    "\n",
    "# Output\n",
    "sum=a+b # Add two variable\n",
    "\n",
    "# Print\n",
    "print(\"Sum of two variable is \", sum) # Print the string"
   ]
  },
  {
   "cell_type": "code",
   "execution_count": null,
   "metadata": {},
   "outputs": [
    {
     "name": "stdout",
     "output_type": "stream",
     "text": [
      "hello Alexander Hamilton\n"
     ]
    }
   ],
   "source": [
    "# Print\n",
    "name = \"Alexander Hamilton\" # String\n",
    "print(f\"hello {name}\") # Print the string"
   ]
  },
  {
   "cell_type": "code",
   "execution_count": null,
   "metadata": {},
   "outputs": [
    {
     "name": "stdout",
     "output_type": "stream",
     "text": [
      "PASS\n"
     ]
    }
   ],
   "source": [
    "# Conditionals\n",
    "num1 = 2 # Integer\n",
    "num2 = 3 # Integer\n",
    "\n",
    "if num1 < num2:     # If condition\n",
    "    print(\"PASS\")   # Print the string\n",
    "elif num1 > num2:   # Else if condition\n",
    "    print(\"OHO\")    # Print the string\n",
    "else:               # Else condition\n",
    "    print(\"FAIL\")   # Print the string  "
   ]
  },
  {
   "cell_type": "code",
   "execution_count": null,
   "metadata": {},
   "outputs": [
    {
     "name": "stdout",
     "output_type": "stream",
     "text": [
      "B is greater\n"
     ]
    }
   ],
   "source": [
    "# Comparison\n",
    "a = int(input(\"Enter the Value or A: \")) # Take input from user\n",
    "b = int(input(\"Enter the Value of B:\" )) # Take input from user\n",
    "if a < b:                               # If condition\n",
    "    print(\"B is greater\")               # Print the string\n",
    "else:                                   # Else condition\n",
    "    print(\"A is Greater\")               # Print the string"
   ]
  },
  {
   "cell_type": "code",
   "execution_count": null,
   "metadata": {},
   "outputs": [
    {
     "ename": "TypeError",
     "evalue": "'int' object is not subscriptable",
     "output_type": "error",
     "traceback": [
      "\u001b[1;31m---------------------------------------------------------------------------\u001b[0m",
      "\u001b[1;31mTypeError\u001b[0m                                 Traceback (most recent call last)",
      "Cell \u001b[1;32mIn[7], line 5\u001b[0m\n\u001b[0;32m      2\u001b[0m a \u001b[39m=\u001b[39m [\u001b[39m2\u001b[39m, \u001b[39m\"\u001b[39m\u001b[39mSameel\u001b[39m\u001b[39m\"\u001b[39m, \u001b[39m3.24\u001b[39m] \u001b[39m# List\u001b[39;00m\n\u001b[0;32m      4\u001b[0m \u001b[39mfor\u001b[39;00m i \u001b[39min\u001b[39;00m a:             \u001b[39m# For loop\u001b[39;00m\n\u001b[1;32m----> 5\u001b[0m     i[:]                \u001b[39m# Slice\u001b[39;00m\n\u001b[0;32m      7\u001b[0m a[\u001b[39m2\u001b[39m]\n\u001b[0;32m      9\u001b[0m a[\u001b[39m1\u001b[39m:]\n",
      "\u001b[1;31mTypeError\u001b[0m: 'int' object is not subscriptable"
     ]
    }
   ],
   "source": [
    "# List & Loops\n",
    "a = [2, \"Sameel\", 3.24] # List\n",
    "\n",
    "for i in a:             # For loop\n",
    "    i[:]                # Slice\n",
    "\n",
    "a[2]\n",
    "\n",
    "a[1:]\n",
    "\n",
    "a = [1,2,3]     # List\n",
    "for i in a:     # For loop\n",
    "    print(i)    # Print the string\n",
    "\n",
    "for i in range(10): # For loop\n",
    "    print(i, end='') # Print the string\n",
    "\n",
    "b = [1,2,3]\n",
    "x = len(b)\n",
    "for i in range(x):\n",
    "    print(a[i],end='')"
   ]
  },
  {
   "cell_type": "code",
   "execution_count": 11,
   "metadata": {},
   "outputs": [
    {
     "name": "stdout",
     "output_type": "stream",
     "text": [
      "[1, 2, 3, 2, [1, 3, 5], 1, 3, 5]\n"
     ]
    }
   ],
   "source": [
    "# Extend & Append\n",
    "a = [1,2,3]     # List\n",
    "a.append(2)    # Append\n",
    "a.append([1,3,5]) # Append\n",
    "a.extend([1,3,5]) # Extend\n",
    "print(a)       # Print the string"
   ]
  },
  {
   "cell_type": "code",
   "execution_count": 12,
   "metadata": {},
   "outputs": [
    {
     "name": "stdout",
     "output_type": "stream",
     "text": [
      "[1, 3.14]\n",
      "Sameel\n",
      "1\n",
      "[1, 3.14]\n",
      "3.14\n"
     ]
    }
   ],
   "source": [
    "# Packing Touple\n",
    "a = (\"Sameel\",1, [1, 3.14])\n",
    "c,d,f = a\n",
    "print(a[2])\n",
    "print(c)\n",
    "print(d)\n",
    "print(f)\n",
    "print(a[2][1])"
   ]
  }
 ],
 "metadata": {
  "kernelspec": {
   "display_name": "Python 3",
   "language": "python",
   "name": "python3"
  },
  "language_info": {
   "codemirror_mode": {
    "name": "ipython",
    "version": 3
   },
   "file_extension": ".py",
   "mimetype": "text/x-python",
   "name": "python",
   "nbconvert_exporter": "python",
   "pygments_lexer": "ipython3",
   "version": "3.11.3"
  },
  "orig_nbformat": 4,
  "vscode": {
   "interpreter": {
    "hash": "2a5e0e52a088b649155d4b0d7a1390d71c1fe55bd07b067cd7bff3efb10bcdcf"
   }
  }
 },
 "nbformat": 4,
 "nbformat_minor": 2
}
