{
 "cells": [
  {
   "cell_type": "code",
   "execution_count": 1,
   "metadata": {},
   "outputs": [
    {
     "name": "stdout",
     "output_type": "stream",
     "text": [
      "{'name': 'John Cena', 'age': 27}\n",
      "{'name': 'John Cena', 'age': 27, 'address': 'USA'}\n"
     ]
    }
   ],
   "source": [
    "# Dictionary\n",
    "dict = {'name':'John Cena','age':26}     #Making Dictionary\n",
    "dict ['age']=27                          #Updating Dictionary\n",
    "print(dict)                              #Printing Dictionary\n",
    "dict['address']='USA'                    #Adding new key-value pair\n",
    "print(dict)                              #Printing Dictionary"
   ]
  },
  {
   "cell_type": "code",
   "execution_count": 2,
   "metadata": {},
   "outputs": [
    {
     "name": "stdout",
     "output_type": "stream",
     "text": [
      "16\n",
      "16\n",
      "16\n",
      "{1: 1, 2: 4, 3: 9, 5: 25}\n",
      "(5, 25)\n",
      "{1: 1, 2: 4, 3: 9}\n"
     ]
    }
   ],
   "source": [
    "square = {1:1,2:4,3:9,4:16,5:25}         #Making Dictionary\n",
    "print(square[4])                         #Printing value of key 4\n",
    "print(square.get(4))                     #Printing value of key 4\n",
    "print(square.pop(4))                     #Printing value of key 4 and removing key-value pair\n",
    "print(square)                            #Printing Dictionary\n",
    "print(square.popitem())                  #Printing last key-value pair and removing it\n",
    "print(square)                            #Printing Dictionary\n",
    "square.clear()                           #Removing all key-value pairs\n",
    "del square                               #Deleting Dictionary\n"
   ]
  },
  {
   "cell_type": "code",
   "execution_count": 3,
   "metadata": {},
   "outputs": [
    {
     "name": "stdout",
     "output_type": "stream",
     "text": [
      "<class 'dict'>\n"
     ]
    }
   ],
   "source": [
    "a = {}                                   #Making Dictionary\n",
    "print(type(a))                           #Printing type of a\n",
    "del a                                    #Deleting Dictionary"
   ]
  },
  {
   "cell_type": "code",
   "execution_count": 4,
   "metadata": {},
   "outputs": [
    {
     "name": "stdout",
     "output_type": "stream",
     "text": [
      "{1, 2, 3, 4}\n",
      "{1, 2, 3, 4, 5, 6, 7}\n",
      "{1, 2, 3, 5, 6, 7}\n",
      "{1, 2, 3, 5, 6, 7}\n",
      "{2, 3, 5, 6, 7}\n"
     ]
    }
   ],
   "source": [
    "# Sets\n",
    "myset = {1,2,3}                          #Creating set\n",
    "myset.add(4)                             #Adding element to set\n",
    "print(myset)                             #Printing set\n",
    "myset.update([4,7,6,5])                  #Adding multiple elements to set\n",
    "print(myset)                             #Printing set\n",
    "set(sorted(myset))                       #Sorting set\n",
    "myset.remove(4)                          #Removing element from set\n",
    "print(myset)                             #Printing set\n",
    "myset.discard(4)                         #Removing element from set\n",
    "print(myset)                             #Printing set\n",
    "myset.pop()                              #Removing random element from set\n",
    "print(myset)                             #Printing set\n",
    "myset.clear()                            #Removing all elements from set\n",
    "del myset                                #Deleting set"
   ]
  },
  {
   "cell_type": "code",
   "execution_count": 5,
   "metadata": {},
   "outputs": [
    {
     "name": "stdout",
     "output_type": "stream",
     "text": [
      "Hello John Cena\n",
      "20 32.5 314\n"
     ]
    }
   ],
   "source": [
    "# Functions\n",
    "def Name(val):                           #Creating function\n",
    "    print(\"Hello \"+val)                  #Printing value\n",
    "\n",
    "Name(\"John Cena\")                        #Calling function\n",
    "\n",
    "def Double(val):                         #Creating function\n",
    "    return val+val                       #Returning value\n",
    "\n",
    "Double(20)                               #Calling function\n",
    "Double(\"Abc\")                            #Calling function\n",
    "\n",
    "def Test(val):                           #Packing\n",
    "    return val+10, val+22.5, val+304     #Returning multiple values\n",
    "\n",
    "a,b,c = Test(10)                         #Unpacking\n",
    "print(a,b,c)                             #Printing values\n"
   ]
  },
  {
   "cell_type": "code",
   "execution_count": 6,
   "metadata": {},
   "outputs": [
    {
     "name": "stdout",
     "output_type": "stream",
     "text": [
      "Constructor\n",
      "Hello\n",
      "100\n",
      "1000\n",
      "Destructor\n"
     ]
    }
   ],
   "source": [
    "# Classes\n",
    "class Test:                              #Creating class\n",
    "    def __init__(self):                  #Constructor\n",
    "        print(\"Constructor\")             #Printing value\n",
    "    def __del__(self):                   #Destructor\n",
    "        print(\"Destructor\")              #Printing value\n",
    "    def Display(self):                   #Creating method\n",
    "        print(\"Hello\")                   #Printing value\n",
    "    def Squeare(self,val):               #Creating method\n",
    "        return val*val                   #Returning value\n",
    "    def Cube(self,val):                  #Creating method\n",
    "        return val*val*val               #Returning value\n",
    "        #return val**3                   #Returning value\n",
    "    \n",
    "obj = Test()                             #Creating object\n",
    "obj.Display()                            #Calling method\n",
    "print(obj.Squeare(10))                   #Calling method\n",
    "print(obj.Cube(10))                      #Calling method\n",
    "del obj    "
   ]
  },
  {
   "cell_type": "code",
   "execution_count": 8,
   "metadata": {},
   "outputs": [
    {
     "name": "stdout",
     "output_type": "stream",
     "text": [
      "Name: Rohan\n",
      "Roll Number: 20\n",
      "Name: Akmal\n",
      "Roll Number: 19\n"
     ]
    }
   ],
   "source": [
    "class Student:\n",
    "#class Student(Object):                #Inheritance\n",
    "    name = \"\"                           #Creating class variable\n",
    "    rollNumber = 0                      #Creating class variable\n",
    "    def __init__(self):                #Constructor\n",
    "        self.setData()                  #Calling method\n",
    "    def setData(self):                #Creating method or Setter\n",
    "        self.name = input(\"Enter name: \") #Taking input\n",
    "        self.rollNumber = int(input(\"Enter roll number: \")) #Taking input\n",
    "    \n",
    "    #def getData(self):                #Creating method or Getter\n",
    "        print(\"Name: \"+self.name)       #Printing value\n",
    "        print(\"Roll Number: \"+str(self.rollNumber)) #Printing value\n",
    "\n",
    "    def aFunction(self):                    #Creating method\n",
    "        var1=10                         #Creating local variable\n",
    "        self.var2=20                    #Creating instance variable\n",
    "\n",
    "obj = Student()\n",
    "obj.setData()                           #Calling method\n",
    "obj.aFunction()                         #Calling method"
   ]
  }
 ],
 "metadata": {
  "kernelspec": {
   "display_name": "Python 3",
   "language": "python",
   "name": "python3"
  },
  "language_info": {
   "codemirror_mode": {
    "name": "ipython",
    "version": 3
   },
   "file_extension": ".py",
   "mimetype": "text/x-python",
   "name": "python",
   "nbconvert_exporter": "python",
   "pygments_lexer": "ipython3",
   "version": "3.11.3"
  },
  "orig_nbformat": 4,
  "vscode": {
   "interpreter": {
    "hash": "2a5e0e52a088b649155d4b0d7a1390d71c1fe55bd07b067cd7bff3efb10bcdcf"
   }
  }
 },
 "nbformat": 4,
 "nbformat_minor": 2
}
