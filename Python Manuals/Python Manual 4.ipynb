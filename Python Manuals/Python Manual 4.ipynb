{
 "cells": [
  {
   "cell_type": "code",
   "execution_count": null,
   "metadata": {},
   "outputs": [],
   "source": [
    "import numpy as np"
   ]
  },
  {
   "cell_type": "code",
   "execution_count": null,
   "metadata": {},
   "outputs": [],
   "source": [
    "#Create a ramge\n",
    "v = np.arange(0, 10, 2) #start, stop, step\n",
    "v"
   ]
  },
  {
   "cell_type": "code",
   "execution_count": null,
   "metadata": {},
   "outputs": [],
   "source": [
    "#Create a range with float\n",
    "v = np.arange(0, 10, 0.5) #start, stop, step\n",
    "v # 0.0, 0.5, 1.0, 1.5, 2.0, 2.5, 3.0, 3.5, 4.0, 4.5, 5.0, 5.5, 6.0, 6.5, 7.0, 7.5, 8.0, 8.5, 9.0, 9.5"
   ]
  },
  {
   "cell_type": "code",
   "execution_count": null,
   "metadata": {},
   "outputs": [],
   "source": [
    "# Using linspace, both end points ARE INCLUDED\n",
    "v = np.linspace(0, 10, 2) #start, stop, number of points\n",
    "v # 2 points, 0 and 10"
   ]
  },
  {
   "cell_type": "code",
   "execution_count": null,
   "metadata": {},
   "outputs": [],
   "source": [
    "# Uniform random numbers in [0,1]\n",
    "from numpy import random\n",
    "v = random.rand(3,3) #3x3 matrix\n",
    "v #uniform random numbers in [0,1]\n"
   ]
  },
  {
   "cell_type": "code",
   "execution_count": null,
   "metadata": {},
   "outputs": [],
   "source": [
    "# Uniform random numbers in [2,5]\n",
    "v = random.rand(5,5) * 3 + 2\n",
    "v  # 5x5 matrix with random numbers in [2,5]"
   ]
  },
  {
   "cell_type": "code",
   "execution_count": null,
   "metadata": {},
   "outputs": [],
   "source": [
    "# Diagonal with offset from the main diagonal\n",
    "M = np.diag([1,2,3,4,5,6], k=-1) # k = 0 is the main diagonal\n",
    "M # k = 1 is the first diagonal above the main diagonal, k = -1 is the first diagonal below the main diagonal"
   ]
  },
  {
   "cell_type": "code",
   "execution_count": null,
   "metadata": {},
   "outputs": [],
   "source": [
    "# Matrix creation by array input\n",
    "M = np.array([[1,21,18],[63,5,6],[7,8,9]]) # 3x3 matrix"
   ]
  },
  {
   "cell_type": "code",
   "execution_count": null,
   "metadata": {},
   "outputs": [],
   "source": [
    "# main diagonals\n",
    "print(\"Main Diagonal Elements:\\n\", np.diag(M)) # main diagonals"
   ]
  },
  {
   "cell_type": "code",
   "execution_count": null,
   "metadata": {},
   "outputs": [],
   "source": [
    "# Flipped main diagonals\n",
    "print(\"Right Diagonal Elements:\\n\", np.diag(np.fliplr(M))) #flip left to right\n",
    "print(\"\\nRight Diagonal Elements:\\n\", np.diag(np.flipud(M),-1)) #flip up to down\n",
    "print(\"\\nRight Diagonal Elements:\\n\", np.diag(np.flipud(M),+1)) #flip up to down"
   ]
  },
  {
   "cell_type": "code",
   "execution_count": null,
   "metadata": {},
   "outputs": [],
   "source": [
    "# Zeroes and Ones\n",
    "# Zeroes\n",
    "M = np.zeros((6,3)) # 6 rows, 3 columns\n",
    "M # 6x3 matrix with all zeros"
   ]
  },
  {
   "cell_type": "code",
   "execution_count": null,
   "metadata": {},
   "outputs": [],
   "source": [
    "# Ones\n",
    "M = np.ones((8,4)) # 8 rows, 4 columns\n",
    "M # 8x4 matrix with all ones"
   ]
  },
  {
   "cell_type": "code",
   "execution_count": null,
   "metadata": {},
   "outputs": [],
   "source": [
    "# Loading a .csv file using numpy\n",
    "from numpy import genfromtxt # import genfromtxt\n",
    "my_data = genfromtxt('data.csv', delimiter=',') # load data\n",
    "my_data # 2D array"
   ]
  },
  {
   "cell_type": "code",
   "execution_count": null,
   "metadata": {},
   "outputs": [],
   "source": [
    "# Shape of the array\n",
    "my_data.shape # (100, 3) 100 rows, 3 columns"
   ]
  },
  {
   "cell_type": "code",
   "execution_count": null,
   "metadata": {},
   "outputs": [],
   "source": [
    "# To plot the data, we use matplotlib\n",
    "from matplotlib import pyplot as plt"
   ]
  },
  {
   "cell_type": "code",
   "execution_count": null,
   "metadata": {},
   "outputs": [],
   "source": [
    "# Plot the data\n",
    "X = [0, 7, 4] # x coordinates\n",
    "Y = [0, 3, 4] # y coordinates"
   ]
  },
  {
   "cell_type": "code",
   "execution_count": null,
   "metadata": {},
   "outputs": [],
   "source": [
    "# Plot the data\n",
    "plt.plot(X, Y) # plot the data"
   ]
  },
  {
   "cell_type": "code",
   "execution_count": null,
   "metadata": {},
   "outputs": [],
   "source": [
    "# Plot from Diabetes dataset\n",
    "data = genfromtxt('diabetes.csv', delimiter=',') # load data\n",
    "data # 2D array"
   ]
  },
  {
   "cell_type": "code",
   "execution_count": null,
   "metadata": {},
   "outputs": [],
   "source": [
    "# Generate a matrix\n",
    "M = random.rand(5,5) # 5x5 matrix"
   ]
  },
  {
   "cell_type": "code",
   "execution_count": null,
   "metadata": {},
   "outputs": [],
   "source": [
    "# Save the matrix\n",
    "np.savetxt('my_matrix.csv', M, delimiter=',') # save the matrix"
   ]
  },
  {
   "cell_type": "code",
   "execution_count": null,
   "metadata": {},
   "outputs": [],
   "source": [
    "# Load the matrix\n",
    "!cat my_matrix.csv # print the matrix"
   ]
  },
  {
   "cell_type": "code",
   "execution_count": null,
   "metadata": {},
   "outputs": [],
   "source": []
  }
 ],
 "metadata": {
  "kernelspec": {
   "display_name": "Python 3",
   "language": "python",
   "name": "python3"
  },
  "language_info": {
   "name": "python",
   "version": "3.11.2"
  },
  "orig_nbformat": 4,
  "vscode": {
   "interpreter": {
    "hash": "2a5e0e52a088b649155d4b0d7a1390d71c1fe55bd07b067cd7bff3efb10bcdcf"
   }
  }
 },
 "nbformat": 4,
 "nbformat_minor": 2
}
