{
 "cells": [
  {
   "cell_type": "code",
   "execution_count": null,
   "metadata": {},
   "outputs": [],
   "source": [
    "import numpy as np"
   ]
  },
  {
   "cell_type": "code",
   "execution_count": null,
   "metadata": {},
   "outputs": [],
   "source": [
    "#Create a ramge\n",
    "v = np.arange(0, 10, 2) #start, stop, step\n",
    "v"
   ]
  },
  {
   "cell_type": "code",
   "execution_count": null,
   "metadata": {},
   "outputs": [],
   "source": [
    "#Create a range with float\n",
    "v = np.arange(0, 10, 0.5) #start, stop, step\n",
    "v # 0.0, 0.5, 1.0, 1.5, 2.0, 2.5, 3.0, 3.5, 4.0, 4.5, 5.0, 5.5, 6.0, 6.5, 7.0, 7.5, 8.0, 8.5, 9.0, 9.5"
   ]
  },
  {
   "cell_type": "code",
   "execution_count": null,
   "metadata": {},
   "outputs": [],
   "source": [
    "# Using linspace, both end points ARE INCLUDED\n",
    "v = np.linspace(0, 10, 2) #start, stop, number of points\n",
    "v # 2 points, 0 and 10"
   ]
  },
  {
   "cell_type": "code",
   "execution_count": null,
   "metadata": {},
   "outputs": [],
   "source": [
    "# Uniform random numbers in [0,1]\n",
    "from numpy import random\n",
    "v = random.rand(3,3) #3x3 matrix\n",
    "v #uniform random numbers in [0,1]\n"
   ]
  },
  {
   "cell_type": "code",
   "execution_count": null,
   "metadata": {},
   "outputs": [],
   "source": [
    "# Uniform random numbers in [2,5]\n",
    "v = random.rand(5,5) * 3 + 2\n",
    "v  # 5x5 matrix with random numbers in [2,5]"
   ]
  },
  {
   "cell_type": "code",
   "execution_count": null,
   "metadata": {},
   "outputs": [],
   "source": [
    "# Diagonal with offset from the main diagonal\n",
    "M = np.diag([1,2,3,4,5,6], k=-1) # k = 0 is the main diagonal\n",
    "M # k = 1 is the first diagonal above the main diagonal, k = -1 is the first diagonal below the main diagonal"
   ]
  },
  {
   "cell_type": "code",
   "execution_count": null,
   "metadata": {},
   "outputs": [],
   "source": [
    "# Matrix creation by array input\n",
    "M = np.array([[1,21,18],[63,5,6],[7,8,9]]) # 3x3 matrix"
   ]
  },
  {
   "cell_type": "code",
   "execution_count": null,
   "metadata": {},
   "outputs": [],
   "source": [
    "# main diagonals\n",
    "print(\"Main Diagonal Elements:\\n\", np.diag(M)) # main diagonals"
   ]
  },
  {
   "cell_type": "code",
   "execution_count": null,
   "metadata": {},
   "outputs": [],
   "source": [
    "# Flipped main diagonals\n",
    "print(\"Right Diagonal Elements:\\n\", np.diag(np.fliplr(M))) #flip left to right\n",
    "print(\"\\nRight Diagonal Elements:\\n\", np.diag(np.flipud(M),-1)) #flip up to down\n",
    "print(\"\\nRight Diagonal Elements:\\n\", np.diag(np.flipud(M),+1)) #flip up to down"
   ]
  },
  {
   "cell_type": "code",
   "execution_count": null,
   "metadata": {},
   "outputs": [],
   "source": [
    "# Zeroes and Ones\n",
    "# Zeroes\n",
    "M = np.zeros((6,3)) # 6 rows, 3 columns\n",
    "M # 6x3 matrix with all zeros"
   ]
  },
  {
   "cell_type": "code",
   "execution_count": null,
   "metadata": {},
   "outputs": [],
   "source": [
    "# Ones\n",
    "M = np.ones((8,4)) # 8 rows, 4 columns\n",
    "M # 8x4 matrix with all ones"
   ]
  },
  {
   "cell_type": "code",
   "execution_count": null,
   "metadata": {},
   "outputs": [],
   "source": [
    "# Loading a .csv file using numpy\n",
    "from numpy import genfromtxt # import genfromtxt\n",
    "my_data = genfromtxt('data.csv', delimiter=',') # load data\n",
    "my_data # 2D array"
   ]
  },
  {
   "cell_type": "code",
   "execution_count": null,
   "metadata": {},
   "outputs": [],
   "source": [
    "# Shape of the array\n",
    "my_data.shape # (100, 3) 100 rows, 3 columns"
   ]
  },
  {
   "cell_type": "code",
   "execution_count": null,
   "metadata": {},
   "outputs": [],
   "source": [
    "# To plot the data, we use matplotlib\n",
    "from matplotlib import pyplot as plt"
   ]
  },
  {
   "cell_type": "code",
   "execution_count": null,
   "metadata": {},
   "outputs": [],
   "source": [
    "# Plot the data\n",
    "X = [0, 7, 4] # x coordinates\n",
    "Y = [0, 3, 4] # y coordinates"
   ]
  },
  {
   "cell_type": "code",
   "execution_count": null,
   "metadata": {},
   "outputs": [],
   "source": [
    "# Plot the data\n",
    "plt.plot(X, Y) # plot the data"
   ]
  },
  {
   "cell_type": "code",
   "execution_count": null,
   "metadata": {},
   "outputs": [],
   "source": [
    "# Plot from Diabetes dataset\n",
    "data = genfromtxt('diabetes.csv', delimiter=',') # load data\n",
    "data # 2D array"
   ]
  },
  {
   "cell_type": "code",
   "execution_count": null,
   "metadata": {},
   "outputs": [],
   "source": [
    "# Generate a matrix\n",
    "M = random.rand(5,5) # 5x5 matrix"
   ]
  },
  {
   "cell_type": "code",
   "execution_count": null,
   "metadata": {},
   "outputs": [],
   "source": [
    "# Save the matrix\n",
    "np.savetxt('my_matrix.csv', M, delimiter=',') # save the matrix"
   ]
  },
  {
   "cell_type": "code",
   "execution_count": null,
   "metadata": {},
   "outputs": [],
   "source": [
    "# Load the matrix\n",
    "!cat my_matrix.csv # print the matrix"
   ]
  },
  {
   "cell_type": "code",
   "execution_count": null,
   "metadata": {},
   "outputs": [],
   "source": [
    "# Save the matrix\n",
    "M = np.savetxt('my_matrix.csv', M, fmt='%.2f') # save the matrix\n",
    "!cat random_matrix.csv # print the matrix"
   ]
  },
  {
   "cell_type": "code",
   "execution_count": null,
   "metadata": {},
   "outputs": [],
   "source": [
    "# Numpy's native format\n",
    "M = random.rand(10,5) # 10x5 matrix\n",
    "np.save('my_matrix.npy', M) # save the matrix"
   ]
  },
  {
   "cell_type": "code",
   "execution_count": null,
   "metadata": {},
   "outputs": [],
   "source": [
    "# Load the matrix\n",
    "np.load('my_matrix.npy') # load the matrix"
   ]
  },
  {
   "cell_type": "code",
   "execution_count": null,
   "metadata": {},
   "outputs": [],
   "source": [
    "# Numpy's native format\n",
    "M.itemsize # bytes per element"
   ]
  },
  {
   "cell_type": "code",
   "execution_count": null,
   "metadata": {},
   "outputs": [],
   "source": [
    "# Numpy's native format\n",
    "M.nbytes # total bytes"
   ]
  },
  {
   "cell_type": "code",
   "execution_count": null,
   "metadata": {},
   "outputs": [],
   "source": [
    "# Numpy's native format\n",
    "M.ndim # number of dimensions"
   ]
  },
  {
   "cell_type": "code",
   "execution_count": null,
   "metadata": {},
   "outputs": [],
   "source": [
    "# M is a matrix, or a 2-dimensional array, taking two indices\n",
    "M[1,1] # second row, second column\n",
    "M[1][1] # second row, second column"
   ]
  },
  {
   "cell_type": "code",
   "execution_count": null,
   "metadata": {},
   "outputs": [],
   "source": [
    "# Also works for rows and columns\n",
    "M[1,:] = 0 # second row, all columns\n",
    "M[:,1] = 0 # all rows, second column"
   ]
  },
  {
   "cell_type": "code",
   "execution_count": null,
   "metadata": {},
   "outputs": [],
   "source": [
    "# M is a matrix, or a 2-dimensional array, taking two indices\n",
    "v[::] # lower bound, upper bound, step all take default values"
   ]
  },
  {
   "cell_type": "code",
   "execution_count": null,
   "metadata": {},
   "outputs": [],
   "source": [
    "# Create a vector\n",
    "v = np.array([1,2,3,4,5,6,7,8,9,10]) # 1D array\n",
    "v[::2] # 1,3,5,7,9"
   ]
  },
  {
   "cell_type": "code",
   "execution_count": null,
   "metadata": {},
   "outputs": [],
   "source": [
    "exm =[i for i in range[10]] # 1D array\n",
    "exm # 1,2,3,4,5,6,7,8,9,10"
   ]
  },
  {
   "cell_type": "code",
   "execution_count": null,
   "metadata": {},
   "outputs": [],
   "source": [
    "M = np.array(\n",
    "    [\n",
    "        [m for n in range(5)] for m in range(5) # 5x5 matrix\n",
    "    ]\n",
    ")\n",
    "M # 5x5 matrix"
   ]
  },
  {
   "cell_type": "code",
   "execution_count": null,
   "metadata": {},
   "outputs": [],
   "source": [
    "# Fancy indexing is the name for when an array or list is used in-place of an index\n",
    "row_indices = [0, -1]\n",
    "M[row_indices] # first and last row"
   ]
  },
  {
   "cell_type": "code",
   "execution_count": null,
   "metadata": {},
   "outputs": [],
   "source": [
    "col_indices = [0, -1] # remember, index -1 means the last element\n",
    "M[:, col_indices] # first and last column"
   ]
  },
  {
   "cell_type": "code",
   "execution_count": null,
   "metadata": {},
   "outputs": [],
   "source": [
    "# Matric Algebra\n",
    "A = np.array([[1,2],[3,4]]) # 2x2 matrix"
   ]
  },
  {
   "cell_type": "code",
   "execution_count": null,
   "metadata": {},
   "outputs": [],
   "source": [
    "np.dot(A,A) # matrix multiplication"
   ]
  },
  {
   "cell_type": "code",
   "execution_count": null,
   "metadata": {},
   "outputs": [],
   "source": [
    "np.dot(A,A.T) # matrix multiplication"
   ]
  },
  {
   "cell_type": "code",
   "execution_count": null,
   "metadata": {},
   "outputs": [],
   "source": [
    "# Inner Product\n",
    "v.T = v # transpose of v"
   ]
  },
  {
   "cell_type": "code",
   "execution_count": null,
   "metadata": {},
   "outputs": [],
   "source": [
    "# Outer Product\n",
    "v = v.T # transpose of v"
   ]
  },
  {
   "cell_type": "code",
   "execution_count": null,
   "metadata": {},
   "outputs": [],
   "source": [
    "# Determinant\n",
    "D = np.linalg.det(A) # determinant of A\n",
    "D"
   ]
  },
  {
   "cell_type": "code",
   "execution_count": null,
   "metadata": {},
   "outputs": [],
   "source": [
    "# Inverse\n",
    "I = np.linalg.inv(A) # inverse of A\n",
    "I"
   ]
  },
  {
   "cell_type": "code",
   "execution_count": null,
   "metadata": {},
   "outputs": [],
   "source": [
    "# Global Maximum\n",
    "M.globalmax() # global maximum of M"
   ]
  },
  {
   "cell_type": "code",
   "execution_count": null,
   "metadata": {},
   "outputs": [],
   "source": [
    "# Naximum of each column\n",
    "M.max(axis=0) # maximum of each column"
   ]
  },
  {
   "cell_type": "code",
   "execution_count": null,
   "metadata": {},
   "outputs": [],
   "source": [
    "# Maximum of each row\n",
    "M.max(axis=1) # maximum of each row"
   ]
  },
  {
   "cell_type": "code",
   "execution_count": null,
   "metadata": {},
   "outputs": [],
   "source": [
    "# Minimum of each column\n",
    "M.min(axis=0) # minimum of each column"
   ]
  },
  {
   "cell_type": "code",
   "execution_count": null,
   "metadata": {},
   "outputs": [],
   "source": [
    "# Minimum of each row\n",
    "M.min(axis=1) # minimum of each row"
   ]
  },
  {
   "cell_type": "code",
   "execution_count": null,
   "metadata": {},
   "outputs": [],
   "source": [
    "v1 = np.arange(0, 10000)\n",
    "v1"
   ]
  },
  {
   "cell_type": "code",
   "execution_count": null,
   "metadata": {},
   "outputs": [],
   "source": [
    "%%time\n",
    "for i in range(v1.shape[0]):\n",
    "    v1[i] = 2 * v1[i]"
   ]
  },
  {
   "cell_type": "code",
   "execution_count": null,
   "metadata": {},
   "outputs": [],
   "source": [
    "# Scalar Array Operations\n",
    "v1 + 2 # add 2 to each element"
   ]
  },
  {
   "cell_type": "code",
   "execution_count": null,
   "metadata": {},
   "outputs": [],
   "source": [
    "print(v1 *2) # multiply by 2\n",
    "v1 + 2 # add 2"
   ]
  },
  {
   "cell_type": "code",
   "execution_count": null,
   "metadata": {},
   "outputs": [],
   "source": [
    "# Reshaping, Resizing and Stacking Arrays\n",
    "v = np.array([1,2,3,4,5,6,7,8,9,10]) # 1D array\n",
    "v"
   ]
  },
  {
   "cell_type": "code",
   "execution_count": null,
   "metadata": {},
   "outputs": [],
   "source": [
    "# Reshape\n",
    "v.reshape(2,5) # 2x5 matrix"
   ]
  },
  {
   "cell_type": "code",
   "execution_count": null,
   "metadata": {},
   "outputs": [],
   "source": [
    "v.reshape(5,2) # 5x2 matrix"
   ]
  },
  {
   "cell_type": "code",
   "execution_count": null,
   "metadata": {},
   "outputs": [],
   "source": [
    "# Resize\n",
    "v.resize(2,5) # 2x5 matrix\n",
    "v"
   ]
  },
  {
   "cell_type": "code",
   "execution_count": null,
   "metadata": {},
   "outputs": [],
   "source": [
    "v.resize(5,2) # 5x2 matrix"
   ]
  },
  {
   "cell_type": "code",
   "execution_count": null,
   "metadata": {},
   "outputs": [],
   "source": [
    "# Stacking\n",
    "v1 = np.array([1,2,3,4,5,6,7,8,9,10]) # 1D array\n",
    "v2 = np.array([11,12,13,14,15,16,17,18,19,20]) # 1D array"
   ]
  },
  {
   "cell_type": "code",
   "execution_count": null,
   "metadata": {},
   "outputs": [],
   "source": [
    "# Stack vertically\n",
    "np.vstack([v1, v2]) # 2x10 matrix"
   ]
  },
  {
   "cell_type": "code",
   "execution_count": null,
   "metadata": {},
   "outputs": [],
   "source": [
    "# Stack horizontally\n",
    "np.hstack([v1, v2]) # 1x20 matrix"
   ]
  }
 ],
 "metadata": {
  "kernelspec": {
   "display_name": "Python 3",
   "language": "python",
   "name": "python3"
  },
  "language_info": {
   "codemirror_mode": {
    "name": "ipython",
    "version": 3
   },
   "file_extension": ".py",
   "mimetype": "text/x-python",
   "name": "python",
   "nbconvert_exporter": "python",
   "pygments_lexer": "ipython3",
   "version": "3.11.2"
  },
  "orig_nbformat": 4,
  "vscode": {
   "interpreter": {
    "hash": "2a5e0e52a088b649155d4b0d7a1390d71c1fe55bd07b067cd7bff3efb10bcdcf"
   }
  }
 },
 "nbformat": 4,
 "nbformat_minor": 2
}
