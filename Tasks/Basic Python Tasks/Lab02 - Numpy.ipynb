{
 "cells": [
  {
   "cell_type": "markdown",
   "id": "f7715c1a",
   "metadata": {},
   "source": [
    "<p style=\"color: red; font-size: 20pt; margin: 2%;\"><b>1. Fundamentals of NumPy</b></p>"
   ]
  },
  {
   "cell_type": "code",
   "execution_count": 1,
   "id": "71c6d5e8",
   "metadata": {},
   "outputs": [
    {
     "name": "stdout",
     "output_type": "stream",
     "text": [
      "Requirement already satisfied: numpy in /Users/usmankhan/opt/anaconda3/lib/python3.9/site-packages (1.20.3)\r\n"
     ]
    }
   ],
   "source": [
    "# To install numpy\n",
    "!pip install numpy"
   ]
  },
  {
   "cell_type": "code",
   "execution_count": 2,
   "id": "d62ceb4a",
   "metadata": {},
   "outputs": [],
   "source": [
    "# Import numpy module\n",
    "import numpy as np"
   ]
  },
  {
   "cell_type": "code",
   "execution_count": 3,
   "id": "ee6359e2",
   "metadata": {},
   "outputs": [
    {
     "data": {
      "text/plain": [
       "array([1, 2, 3, 4])"
      ]
     },
     "execution_count": 3,
     "metadata": {},
     "output_type": "execute_result"
    }
   ],
   "source": [
    "# A vector: the argument to the array function is a Python list\n",
    "v = np.array([1,2,3,4])\n",
    "v"
   ]
  },
  {
   "cell_type": "code",
   "execution_count": 7,
   "id": "3ea4a7f7",
   "metadata": {},
   "outputs": [
    {
     "data": {
      "text/plain": [
       "array([[1, 2, 5, 6, 7],\n",
       "       [3, 4, 7, 7, 8],\n",
       "       [4, 5, 6, 8, 9]])"
      ]
     },
     "execution_count": 7,
     "metadata": {},
     "output_type": "execute_result"
    }
   ],
   "source": [
    "# A matrix: the argument to the array function is a nested Python list\n",
    "M = np.array(\n",
    "    [\n",
    "        [1,2,5,6,7],\n",
    "        [3,4,7,7,8],\n",
    "        [4,5,6,8,9]\n",
    "    ]\n",
    ")\n",
    "M"
   ]
  },
  {
   "cell_type": "code",
   "execution_count": 6,
   "id": "2828a487",
   "metadata": {},
   "outputs": [
    {
     "data": {
      "text/plain": [
       "(numpy.ndarray, numpy.ndarray)"
      ]
     },
     "execution_count": 6,
     "metadata": {},
     "output_type": "execute_result"
    }
   ],
   "source": [
    "type(v), type(M)"
   ]
  },
  {
   "cell_type": "code",
   "execution_count": 76,
   "id": "d9963fe7",
   "metadata": {},
   "outputs": [
    {
     "name": "stdout",
     "output_type": "stream",
     "text": [
      "Vector's shape: (4,)\n",
      "Matrix's shape: (3, 5)\n"
     ]
    }
   ],
   "source": [
    "# Dimensions of matrix(Rows*Cols) or vector\n",
    "print(\"Vector's shape:\", v.shape)\n",
    "print(\"Matrix's shape:\", M.shape)"
   ]
  },
  {
   "cell_type": "code",
   "execution_count": 75,
   "id": "fbedb1fe",
   "metadata": {},
   "outputs": [
    {
     "name": "stdout",
     "output_type": "stream",
     "text": [
      "Vector's shape: (4,)\n",
      "Matrix's shape: (3, 5)\n"
     ]
    }
   ],
   "source": [
    "# Also dimensions of matrix(Rows*Cols) or vector\n",
    "print(\"Vector's shape:\", np.shape(v))\n",
    "print(\"Matrix's shape:\", np.shape(M))"
   ]
  },
  {
   "cell_type": "code",
   "execution_count": 77,
   "id": "07e72e48",
   "metadata": {},
   "outputs": [
    {
     "name": "stdout",
     "output_type": "stream",
     "text": [
      "Vector's size: 4\n",
      "Matrix's size: 15\n"
     ]
    }
   ],
   "source": [
    "# Elements present in the vector or matrix\n",
    "print(\"Vector's size:\",v.size)\n",
    "print(\"Matrix's size:\",M.size)"
   ]
  },
  {
   "cell_type": "code",
   "execution_count": 8,
   "id": "2fa6ea8a",
   "metadata": {},
   "outputs": [
    {
     "name": "stdout",
     "output_type": "stream",
     "text": [
      "Vector's : int64\n",
      "Matrix's : int64\n"
     ]
    }
   ],
   "source": [
    "# Data types of the numpy array\n",
    "print(\"Vector's :\", v.dtype)\n",
    "print(\"Matrix's :\", M.dtype)"
   ]
  },
  {
   "cell_type": "markdown",
   "id": "b478a46a",
   "metadata": {},
   "source": [
    "<img src=\"dtypes.jpeg\">"
   ]
  },
  {
   "cell_type": "code",
   "execution_count": 80,
   "id": "4a298b02",
   "metadata": {},
   "outputs": [
    {
     "data": {
      "text/plain": [
       "array([1, 2, 3, 4])"
      ]
     },
     "execution_count": 80,
     "metadata": {},
     "output_type": "execute_result"
    }
   ],
   "source": [
    "v"
   ]
  },
  {
   "cell_type": "code",
   "execution_count": 81,
   "id": "e2781b74",
   "metadata": {},
   "outputs": [
    {
     "data": {
      "text/plain": [
       "array([[1., 2., 5., 6., 7.],\n",
       "       [3., 4., 7., 7., 8.],\n",
       "       [4., 5., 6., 8., 9.]])"
      ]
     },
     "execution_count": 81,
     "metadata": {},
     "output_type": "execute_result"
    }
   ],
   "source": [
    "M"
   ]
  },
  {
   "cell_type": "code",
   "execution_count": 11,
   "id": "e4d27ed3",
   "metadata": {},
   "outputs": [
    {
     "name": "stdout",
     "output_type": "stream",
     "text": [
      "Vector after\n",
      " [371   2   3 371]\n",
      "Matrix after\n",
      " [[371   2   5   6 371]\n",
      " [  3   4   7   7   8]\n",
      " [  4   5   6   8   9]]\n"
     ]
    }
   ],
   "source": [
    "# Replacing a value upon an index\n",
    "v[-1] = 371\n",
    "M[0][-1] = 371\n",
    "print(\"Vector after\\n\",v)\n",
    "print(\"Matrix after\\n\",M)"
   ]
  },
  {
   "cell_type": "code",
   "execution_count": 12,
   "id": "fd9f0a85",
   "metadata": {},
   "outputs": [
    {
     "ename": "ValueError",
     "evalue": "invalid literal for int() with base 10: 'hello'",
     "output_type": "error",
     "traceback": [
      "\u001b[0;31m---------------------------------------------------------------------------\u001b[0m",
      "\u001b[0;31mValueError\u001b[0m                                Traceback (most recent call last)",
      "\u001b[0;32m/var/folders/pb/r59cpd1n6_92ml2jcn5bhnqr0000gn/T/ipykernel_2463/4220490659.py\u001b[0m in \u001b[0;36m<module>\u001b[0;34m\u001b[0m\n\u001b[1;32m      1\u001b[0m \u001b[0;31m# Can't store a string value in numpy array\u001b[0m\u001b[0;34m\u001b[0m\u001b[0;34m\u001b[0m\u001b[0m\n\u001b[0;32m----> 2\u001b[0;31m \u001b[0mM\u001b[0m\u001b[0;34m[\u001b[0m\u001b[0;36m0\u001b[0m\u001b[0;34m]\u001b[0m\u001b[0;34m[\u001b[0m\u001b[0;36m0\u001b[0m\u001b[0;34m]\u001b[0m \u001b[0;34m=\u001b[0m \u001b[0;34m\"hello\"\u001b[0m\u001b[0;34m\u001b[0m\u001b[0;34m\u001b[0m\u001b[0m\n\u001b[0m",
      "\u001b[0;31mValueError\u001b[0m: invalid literal for int() with base 10: 'hello'"
     ]
    }
   ],
   "source": [
    "# Can't store a string value in numpy array\n",
    "M[0][0] = \"hello\""
   ]
  },
  {
   "cell_type": "code",
   "execution_count": 13,
   "id": "b801f1bc",
   "metadata": {},
   "outputs": [
    {
     "name": "stdout",
     "output_type": "stream",
     "text": [
      "Matrix:\n",
      " [[1.+0.j 2.+0.j]\n",
      " [3.+0.j 4.+0.j]]\n",
      "\n",
      "Dtype of the matrix: complex128\n"
     ]
    }
   ],
   "source": [
    "# Specifying the dtype yourself\n",
    "M = np.array(\n",
    "    [\n",
    "        [1, 2],\n",
    "        [3, 4]\n",
    "    ], dtype=complex\n",
    ")\n",
    "print(\"Matrix:\\n\",M)\n",
    "print(\"\\nDtype of the matrix:\",M.dtype)"
   ]
  },
  {
   "cell_type": "code",
   "execution_count": 14,
   "id": "10d67f5d",
   "metadata": {},
   "outputs": [
    {
     "name": "stdout",
     "output_type": "stream",
     "text": [
      "Matrix:\n",
      " [[1 2]\n",
      " [3 4]]\n",
      "\n",
      "Dtype of the matrix: int16\n"
     ]
    }
   ],
   "source": [
    "# Specifying the dtype yourself\n",
    "M = np.array(\n",
    "    [\n",
    "        [1, 2],\n",
    "        [3, 4]\n",
    "    ], dtype='int16'\n",
    ")\n",
    "print(\"Matrix:\\n\",M)\n",
    "print(\"\\nDtype of the matrix:\",M.dtype)"
   ]
  },
  {
   "cell_type": "markdown",
   "id": "3e79c1bf",
   "metadata": {},
   "source": [
    "<p style=\"color: red; font-size: 20pt; margin: 2%;\"><b>2. Creating NumPy Arrays</b></p>"
   ]
  },
  {
   "cell_type": "code",
   "execution_count": 17,
   "id": "691fdb67",
   "metadata": {},
   "outputs": [
    {
     "data": {
      "text/plain": [
       "array([0. , 0.5, 1. , 1.5, 2. , 2.5, 3. , 3.5, 4. , 4.5, 5. , 5.5, 6. ,\n",
       "       6.5, 7. , 7.5, 8. , 8.5, 9. , 9.5])"
      ]
     },
     "execution_count": 17,
     "metadata": {},
     "output_type": "execute_result"
    }
   ],
   "source": [
    "# Create a range\n",
    "v = np.arange(0, 10, 0.5) # arguments: start, stop, jump\n",
    "v"
   ]
  },
  {
   "cell_type": "code",
   "execution_count": 88,
   "id": "f3137440",
   "metadata": {},
   "outputs": [
    {
     "data": {
      "text/plain": [
       "array([-1.00000000e+00, -9.00000000e-01, -8.00000000e-01, -7.00000000e-01,\n",
       "       -6.00000000e-01, -5.00000000e-01, -4.00000000e-01, -3.00000000e-01,\n",
       "       -2.00000000e-01, -1.00000000e-01, -2.22044605e-16,  1.00000000e-01,\n",
       "        2.00000000e-01,  3.00000000e-01,  4.00000000e-01,  5.00000000e-01,\n",
       "        6.00000000e-01,  7.00000000e-01,  8.00000000e-01,  9.00000000e-01])"
      ]
     },
     "execution_count": 88,
     "metadata": {},
     "output_type": "execute_result"
    }
   ],
   "source": [
    "v = np.arange(-1, 1, 0.1)\n",
    "v"
   ]
  },
  {
   "cell_type": "markdown",
   "id": "e1b43c1c",
   "metadata": {},
   "source": [
    "#### Linspace"
   ]
  },
  {
   "cell_type": "code",
   "execution_count": 24,
   "id": "1a5d5576",
   "metadata": {},
   "outputs": [
    {
     "data": {
      "text/plain": [
       "array([ 0.        ,  0.20408163,  0.40816327,  0.6122449 ,  0.81632653,\n",
       "        1.02040816,  1.2244898 ,  1.42857143,  1.63265306,  1.83673469,\n",
       "        2.04081633,  2.24489796,  2.44897959,  2.65306122,  2.85714286,\n",
       "        3.06122449,  3.26530612,  3.46938776,  3.67346939,  3.87755102,\n",
       "        4.08163265,  4.28571429,  4.48979592,  4.69387755,  4.89795918,\n",
       "        5.10204082,  5.30612245,  5.51020408,  5.71428571,  5.91836735,\n",
       "        6.12244898,  6.32653061,  6.53061224,  6.73469388,  6.93877551,\n",
       "        7.14285714,  7.34693878,  7.55102041,  7.75510204,  7.95918367,\n",
       "        8.16326531,  8.36734694,  8.57142857,  8.7755102 ,  8.97959184,\n",
       "        9.18367347,  9.3877551 ,  9.59183673,  9.79591837, 10.        ])"
      ]
     },
     "execution_count": 24,
     "metadata": {},
     "output_type": "execute_result"
    }
   ],
   "source": [
    "# Using linspace, both end points ARE included\n",
    "v = np.linspace(0, 10, 50)\n",
    "v"
   ]
  },
  {
   "cell_type": "markdown",
   "id": "7f5fbadd",
   "metadata": {},
   "source": [
    "#### Random Data"
   ]
  },
  {
   "cell_type": "code",
   "execution_count": 26,
   "id": "4df49c30",
   "metadata": {},
   "outputs": [
    {
     "data": {
      "text/plain": [
       "array([[0.78518301, 0.98356247, 0.01701858],\n",
       "       [0.99260594, 0.28435778, 0.73197583],\n",
       "       [0.80458229, 0.69893734, 0.32138844]])"
      ]
     },
     "execution_count": 26,
     "metadata": {},
     "output_type": "execute_result"
    }
   ],
   "source": [
    "# Uniform random numbers in [0 Rows 1 Columns]\n",
    "from numpy import random\n",
    "v = random.rand(3,3)\n",
    "v"
   ]
  },
  {
   "cell_type": "code",
   "execution_count": 96,
   "id": "fed2556e",
   "metadata": {},
   "outputs": [
    {
     "data": {
      "text/plain": [
       "array([[0.40433063, 0.99960068, 0.3146163 , 0.74174549, 0.5777627 ],\n",
       "       [0.44957051, 0.25262639, 0.51513638, 0.91071117, 0.85599485],\n",
       "       [0.99310281, 0.58358258, 0.25840743, 0.93897386, 0.14316238],\n",
       "       [0.28560291, 0.34545478, 0.42861395, 0.44521778, 0.15986652],\n",
       "       [0.44147297, 0.86239305, 0.02705506, 0.57451826, 0.45638092]])"
      ]
     },
     "execution_count": 96,
     "metadata": {},
     "output_type": "execute_result"
    }
   ],
   "source": [
    "# Uniform random numbers in [2 Rows 5 Columns]\n",
    "v = random.rand(5,5)\n",
    "v"
   ]
  },
  {
   "cell_type": "markdown",
   "id": "805037a1",
   "metadata": {},
   "source": [
    "#### Diagonal"
   ]
  },
  {
   "cell_type": "code",
   "execution_count": 99,
   "id": "ab5cbfc8",
   "metadata": {},
   "outputs": [
    {
     "data": {
      "text/plain": [
       "array([[1, 0, 0, 0, 0, 0],\n",
       "       [0, 2, 0, 0, 0, 0],\n",
       "       [0, 0, 3, 0, 0, 0],\n",
       "       [0, 0, 0, 4, 0, 0],\n",
       "       [0, 0, 0, 0, 5, 0],\n",
       "       [0, 0, 0, 0, 0, 6]])"
      ]
     },
     "execution_count": 99,
     "metadata": {},
     "output_type": "execute_result"
    }
   ],
   "source": [
    "# A diagonal matrix\n",
    "M = np.diag([1,2,3,4,5,6])\n",
    "M"
   ]
  },
  {
   "cell_type": "code",
   "execution_count": 27,
   "id": "9d28681c",
   "metadata": {},
   "outputs": [
    {
     "data": {
      "text/plain": [
       "array([[0, 0, 0, 0, 0, 0, 0],\n",
       "       [1, 0, 0, 0, 0, 0, 0],\n",
       "       [0, 2, 0, 0, 0, 0, 0],\n",
       "       [0, 0, 3, 0, 0, 0, 0],\n",
       "       [0, 0, 0, 4, 0, 0, 0],\n",
       "       [0, 0, 0, 0, 5, 0, 0],\n",
       "       [0, 0, 0, 0, 0, 6, 0]])"
      ]
     },
     "execution_count": 27,
     "metadata": {},
     "output_type": "execute_result"
    }
   ],
   "source": [
    "# Diagonal with offset from the main diagonal\n",
    "M = np.diag([1,2,3,4,5,6], k=-1)\n",
    "M"
   ]
  },
  {
   "cell_type": "code",
   "execution_count": 28,
   "id": "a1d7975b",
   "metadata": {},
   "outputs": [],
   "source": [
    "# Matrix creation by array input \n",
    "M = np.array([[1,   21,   30], \n",
    "              [63,  434,  3], \n",
    "              [54,  54,   56]])"
   ]
  },
  {
   "cell_type": "code",
   "execution_count": 29,
   "id": "9090f3c0",
   "metadata": {},
   "outputs": [
    {
     "name": "stdout",
     "output_type": "stream",
     "text": [
      "Main diagnol elements:\n",
      " [  1 434  56]\n",
      "\n",
      "Diagnol above main diagnol:\n",
      " [21  3]\n",
      "\n",
      "Diagnol below main diagnol:\n",
      " [63 54]\n"
     ]
    }
   ],
   "source": [
    "# Main diagonals\n",
    "print(\"Main diagnol elements:\\n\",        np.diag(M)) \n",
    "print(\"\\nDiagnol above main diagnol:\\n\", np.diag(M, +1)) \n",
    "print(\"\\nDiagnol below main diagnol:\\n\", np.diag(M, -1))"
   ]
  },
  {
   "cell_type": "code",
   "execution_count": 30,
   "id": "b148b31e",
   "metadata": {},
   "outputs": [
    {
     "data": {
      "text/plain": [
       "array([[  1,  21,  30],\n",
       "       [ 63, 434,   3],\n",
       "       [ 54,  54,  56]])"
      ]
     },
     "execution_count": 30,
     "metadata": {},
     "output_type": "execute_result"
    }
   ],
   "source": [
    "M = np.array([[1,   21,   30], \n",
    "              [63,  434,  3], \n",
    "              [54,  54,   56]])\n",
    "M"
   ]
  },
  {
   "cell_type": "code",
   "execution_count": 32,
   "id": "ac08a9a1",
   "metadata": {},
   "outputs": [
    {
     "name": "stdout",
     "output_type": "stream",
     "text": [
      "Right diagnol elements : \n",
      " [ 30 434  54]\n",
      "\n",
      "Right diagnol elements : \n",
      " [ 3 54]\n",
      "\n",
      "Right diagnol elements : \n",
      " [21 63]\n"
     ]
    }
   ],
   "source": [
    "# Flipped main diagonals\n",
    "print(\"Right diagnol elements : \\n\",np.diag( np.fliplr(M) ))\n",
    "print(\"\\nRight diagnol elements : \\n\",np.diag(np.fliplr(M),-1))\n",
    "print(\"\\nRight diagnol elements : \\n\",np.diag(np.fliplr(M),+1))"
   ]
  },
  {
   "cell_type": "markdown",
   "id": "fbd3eb46",
   "metadata": {},
   "source": [
    "#### Zeros and Ones"
   ]
  },
  {
   "cell_type": "code",
   "execution_count": 105,
   "id": "c429da72",
   "metadata": {},
   "outputs": [
    {
     "data": {
      "text/plain": [
       "array([[0., 0., 0.],\n",
       "       [0., 0., 0.],\n",
       "       [0., 0., 0.],\n",
       "       [0., 0., 0.],\n",
       "       [0., 0., 0.],\n",
       "       [0., 0., 0.]])"
      ]
     },
     "execution_count": 105,
     "metadata": {},
     "output_type": "execute_result"
    }
   ],
   "source": [
    "M = np.zeros((6,3))\n",
    "M"
   ]
  },
  {
   "cell_type": "code",
   "execution_count": 106,
   "id": "42d9cd3a",
   "metadata": {},
   "outputs": [
    {
     "data": {
      "text/plain": [
       "array([[1., 1., 1., 1.],\n",
       "       [1., 1., 1., 1.],\n",
       "       [1., 1., 1., 1.],\n",
       "       [1., 1., 1., 1.],\n",
       "       [1., 1., 1., 1.],\n",
       "       [1., 1., 1., 1.],\n",
       "       [1., 1., 1., 1.],\n",
       "       [1., 1., 1., 1.]])"
      ]
     },
     "execution_count": 106,
     "metadata": {},
     "output_type": "execute_result"
    }
   ],
   "source": [
    "M = np.ones((8,4))\n",
    "M"
   ]
  },
  {
   "cell_type": "markdown",
   "id": "1ce63d34",
   "metadata": {},
   "source": [
    "<p style=\"color: red; font-size: 20pt; margin: 2%;\"><b>3. Files I/O</b></p>"
   ]
  },
  {
   "cell_type": "code",
   "execution_count": 33,
   "id": "d69aa5eb",
   "metadata": {},
   "outputs": [
    {
     "data": {
      "text/plain": [
       "array([[      nan,       nan],\n",
       "       [8.920e+02, 0.000e+00],\n",
       "       [8.930e+02, 0.000e+00],\n",
       "       [8.940e+02, 0.000e+00],\n",
       "       [8.950e+02, 0.000e+00],\n",
       "       [8.960e+02, 1.000e+00],\n",
       "       [8.970e+02, 0.000e+00],\n",
       "       [8.980e+02, 1.000e+00],\n",
       "       [8.990e+02, 0.000e+00],\n",
       "       [9.000e+02, 1.000e+00],\n",
       "       [9.010e+02, 0.000e+00],\n",
       "       [9.020e+02, 0.000e+00],\n",
       "       [9.030e+02, 1.000e+00],\n",
       "       [9.040e+02, 1.000e+00],\n",
       "       [9.050e+02, 0.000e+00],\n",
       "       [9.060e+02, 1.000e+00],\n",
       "       [9.070e+02, 1.000e+00],\n",
       "       [9.080e+02, 0.000e+00],\n",
       "       [9.090e+02, 0.000e+00],\n",
       "       [9.100e+02, 0.000e+00],\n",
       "       [9.110e+02, 0.000e+00],\n",
       "       [9.120e+02, 0.000e+00],\n",
       "       [9.130e+02, 0.000e+00],\n",
       "       [9.140e+02, 1.000e+00],\n",
       "       [9.150e+02, 1.000e+00],\n",
       "       [9.160e+02, 1.000e+00],\n",
       "       [9.170e+02, 0.000e+00],\n",
       "       [9.180e+02, 1.000e+00],\n",
       "       [9.190e+02, 0.000e+00],\n",
       "       [9.200e+02, 1.000e+00],\n",
       "       [9.210e+02, 0.000e+00],\n",
       "       [9.220e+02, 0.000e+00],\n",
       "       [9.230e+02, 0.000e+00],\n",
       "       [9.240e+02, 1.000e+00],\n",
       "       [9.250e+02, 0.000e+00],\n",
       "       [9.260e+02, 1.000e+00],\n",
       "       [9.270e+02, 0.000e+00],\n",
       "       [9.280e+02, 0.000e+00],\n",
       "       [9.290e+02, 0.000e+00],\n",
       "       [9.300e+02, 0.000e+00],\n",
       "       [9.310e+02, 0.000e+00],\n",
       "       [9.320e+02, 0.000e+00],\n",
       "       [9.330e+02, 1.000e+00],\n",
       "       [9.340e+02, 0.000e+00],\n",
       "       [9.350e+02, 1.000e+00],\n",
       "       [9.360e+02, 1.000e+00],\n",
       "       [9.370e+02, 0.000e+00],\n",
       "       [9.380e+02, 0.000e+00],\n",
       "       [9.390e+02, 0.000e+00],\n",
       "       [9.400e+02, 1.000e+00],\n",
       "       [9.410e+02, 1.000e+00],\n",
       "       [9.420e+02, 0.000e+00],\n",
       "       [9.430e+02, 0.000e+00],\n",
       "       [9.440e+02, 1.000e+00],\n",
       "       [9.450e+02, 1.000e+00],\n",
       "       [9.460e+02, 0.000e+00],\n",
       "       [9.470e+02, 0.000e+00],\n",
       "       [9.480e+02, 0.000e+00],\n",
       "       [9.490e+02, 0.000e+00],\n",
       "       [9.500e+02, 0.000e+00],\n",
       "       [9.510e+02, 1.000e+00],\n",
       "       [9.520e+02, 0.000e+00],\n",
       "       [9.530e+02, 1.000e+00],\n",
       "       [9.540e+02, 0.000e+00],\n",
       "       [9.550e+02, 1.000e+00],\n",
       "       [9.560e+02, 1.000e+00],\n",
       "       [9.570e+02, 1.000e+00],\n",
       "       [9.580e+02, 1.000e+00],\n",
       "       [9.590e+02, 0.000e+00],\n",
       "       [9.600e+02, 0.000e+00],\n",
       "       [9.610e+02, 1.000e+00],\n",
       "       [9.620e+02, 1.000e+00],\n",
       "       [9.630e+02, 0.000e+00],\n",
       "       [9.640e+02, 0.000e+00],\n",
       "       [9.650e+02, 0.000e+00],\n",
       "       [9.660e+02, 1.000e+00],\n",
       "       [9.670e+02, 0.000e+00],\n",
       "       [9.680e+02, 0.000e+00],\n",
       "       [9.690e+02, 1.000e+00],\n",
       "       [9.700e+02, 0.000e+00],\n",
       "       [9.710e+02, 1.000e+00],\n",
       "       [9.720e+02, 1.000e+00],\n",
       "       [9.730e+02, 0.000e+00],\n",
       "       [9.740e+02, 1.000e+00],\n",
       "       [9.750e+02, 0.000e+00],\n",
       "       [9.760e+02, 0.000e+00],\n",
       "       [9.770e+02, 0.000e+00],\n",
       "       [9.780e+02, 1.000e+00],\n",
       "       [9.790e+02, 0.000e+00],\n",
       "       [9.800e+02, 1.000e+00],\n",
       "       [9.810e+02, 1.000e+00],\n",
       "       [9.820e+02, 1.000e+00],\n",
       "       [9.830e+02, 0.000e+00],\n",
       "       [9.840e+02, 1.000e+00],\n",
       "       [9.850e+02, 0.000e+00],\n",
       "       [9.860e+02, 1.000e+00],\n",
       "       [9.870e+02, 0.000e+00],\n",
       "       [9.880e+02, 1.000e+00],\n",
       "       [9.890e+02, 0.000e+00],\n",
       "       [9.900e+02, 1.000e+00],\n",
       "       [9.910e+02, 0.000e+00],\n",
       "       [9.920e+02, 1.000e+00],\n",
       "       [9.930e+02, 0.000e+00],\n",
       "       [9.940e+02, 0.000e+00],\n",
       "       [9.950e+02, 0.000e+00],\n",
       "       [9.960e+02, 1.000e+00],\n",
       "       [9.970e+02, 0.000e+00],\n",
       "       [9.980e+02, 0.000e+00],\n",
       "       [9.990e+02, 0.000e+00],\n",
       "       [1.000e+03, 0.000e+00],\n",
       "       [1.001e+03, 0.000e+00],\n",
       "       [1.002e+03, 0.000e+00],\n",
       "       [1.003e+03, 0.000e+00],\n",
       "       [1.004e+03, 1.000e+00],\n",
       "       [1.005e+03, 1.000e+00],\n",
       "       [1.006e+03, 1.000e+00],\n",
       "       [1.007e+03, 0.000e+00],\n",
       "       [1.008e+03, 0.000e+00],\n",
       "       [1.009e+03, 1.000e+00],\n",
       "       [1.010e+03, 0.000e+00],\n",
       "       [1.011e+03, 1.000e+00],\n",
       "       [1.012e+03, 1.000e+00],\n",
       "       [1.013e+03, 0.000e+00],\n",
       "       [1.014e+03, 1.000e+00],\n",
       "       [1.015e+03, 0.000e+00],\n",
       "       [1.016e+03, 0.000e+00],\n",
       "       [1.017e+03, 0.000e+00],\n",
       "       [1.018e+03, 0.000e+00],\n",
       "       [1.019e+03, 1.000e+00],\n",
       "       [1.020e+03, 0.000e+00],\n",
       "       [1.021e+03, 0.000e+00],\n",
       "       [1.022e+03, 0.000e+00],\n",
       "       [1.023e+03, 0.000e+00],\n",
       "       [1.024e+03, 0.000e+00],\n",
       "       [1.025e+03, 0.000e+00],\n",
       "       [1.026e+03, 0.000e+00],\n",
       "       [1.027e+03, 0.000e+00],\n",
       "       [1.028e+03, 0.000e+00],\n",
       "       [1.029e+03, 0.000e+00],\n",
       "       [1.030e+03, 0.000e+00],\n",
       "       [1.031e+03, 0.000e+00],\n",
       "       [1.032e+03, 0.000e+00],\n",
       "       [1.033e+03, 1.000e+00],\n",
       "       [1.034e+03, 0.000e+00],\n",
       "       [1.035e+03, 0.000e+00],\n",
       "       [1.036e+03, 1.000e+00],\n",
       "       [1.037e+03, 0.000e+00],\n",
       "       [1.038e+03, 0.000e+00],\n",
       "       [1.039e+03, 0.000e+00],\n",
       "       [1.040e+03, 1.000e+00],\n",
       "       [1.041e+03, 0.000e+00],\n",
       "       [1.042e+03, 1.000e+00],\n",
       "       [1.043e+03, 0.000e+00],\n",
       "       [1.044e+03, 0.000e+00],\n",
       "       [1.045e+03, 1.000e+00],\n",
       "       [1.046e+03, 0.000e+00],\n",
       "       [1.047e+03, 0.000e+00],\n",
       "       [1.048e+03, 1.000e+00],\n",
       "       [1.049e+03, 1.000e+00],\n",
       "       [1.050e+03, 1.000e+00],\n",
       "       [1.051e+03, 1.000e+00],\n",
       "       [1.052e+03, 1.000e+00],\n",
       "       [1.053e+03, 1.000e+00],\n",
       "       [1.054e+03, 1.000e+00],\n",
       "       [1.055e+03, 0.000e+00],\n",
       "       [1.056e+03, 0.000e+00],\n",
       "       [1.057e+03, 0.000e+00],\n",
       "       [1.058e+03, 0.000e+00],\n",
       "       [1.059e+03, 0.000e+00],\n",
       "       [1.060e+03, 1.000e+00],\n",
       "       [1.061e+03, 0.000e+00],\n",
       "       [1.062e+03, 0.000e+00],\n",
       "       [1.063e+03, 0.000e+00],\n",
       "       [1.064e+03, 0.000e+00],\n",
       "       [1.065e+03, 0.000e+00],\n",
       "       [1.066e+03, 0.000e+00],\n",
       "       [1.067e+03, 1.000e+00],\n",
       "       [1.068e+03, 1.000e+00],\n",
       "       [1.069e+03, 0.000e+00],\n",
       "       [1.070e+03, 1.000e+00],\n",
       "       [1.071e+03, 1.000e+00],\n",
       "       [1.072e+03, 0.000e+00],\n",
       "       [1.073e+03, 0.000e+00],\n",
       "       [1.074e+03, 1.000e+00],\n",
       "       [1.075e+03, 0.000e+00],\n",
       "       [1.076e+03, 1.000e+00],\n",
       "       [1.077e+03, 0.000e+00],\n",
       "       [1.078e+03, 1.000e+00],\n",
       "       [1.079e+03, 0.000e+00],\n",
       "       [1.080e+03, 0.000e+00],\n",
       "       [1.081e+03, 0.000e+00],\n",
       "       [1.082e+03, 0.000e+00],\n",
       "       [1.083e+03, 1.000e+00],\n",
       "       [1.084e+03, 1.000e+00],\n",
       "       [1.085e+03, 0.000e+00],\n",
       "       [1.086e+03, 1.000e+00],\n",
       "       [1.087e+03, 0.000e+00],\n",
       "       [1.088e+03, 1.000e+00],\n",
       "       [1.089e+03, 1.000e+00],\n",
       "       [1.090e+03, 0.000e+00],\n",
       "       [1.091e+03, 0.000e+00],\n",
       "       [1.092e+03, 1.000e+00],\n",
       "       [1.093e+03, 1.000e+00],\n",
       "       [1.094e+03, 0.000e+00],\n",
       "       [1.095e+03, 1.000e+00],\n",
       "       [1.096e+03, 0.000e+00],\n",
       "       [1.097e+03, 0.000e+00],\n",
       "       [1.098e+03, 1.000e+00],\n",
       "       [1.099e+03, 0.000e+00],\n",
       "       [1.100e+03, 1.000e+00],\n",
       "       [1.101e+03, 0.000e+00],\n",
       "       [1.102e+03, 0.000e+00],\n",
       "       [1.103e+03, 0.000e+00],\n",
       "       [1.104e+03, 0.000e+00],\n",
       "       [1.105e+03, 1.000e+00],\n",
       "       [1.106e+03, 0.000e+00],\n",
       "       [1.107e+03, 0.000e+00],\n",
       "       [1.108e+03, 1.000e+00],\n",
       "       [1.109e+03, 0.000e+00],\n",
       "       [1.110e+03, 1.000e+00],\n",
       "       [1.111e+03, 0.000e+00],\n",
       "       [1.112e+03, 1.000e+00],\n",
       "       [1.113e+03, 0.000e+00],\n",
       "       [1.114e+03, 1.000e+00],\n",
       "       [1.115e+03, 0.000e+00],\n",
       "       [1.116e+03, 1.000e+00],\n",
       "       [1.117e+03, 1.000e+00],\n",
       "       [1.118e+03, 0.000e+00],\n",
       "       [1.119e+03, 1.000e+00],\n",
       "       [1.120e+03, 0.000e+00],\n",
       "       [1.121e+03, 0.000e+00],\n",
       "       [1.122e+03, 0.000e+00],\n",
       "       [1.123e+03, 1.000e+00],\n",
       "       [1.124e+03, 0.000e+00],\n",
       "       [1.125e+03, 1.000e+00],\n",
       "       [1.126e+03, 1.000e+00],\n",
       "       [1.127e+03, 0.000e+00],\n",
       "       [1.128e+03, 0.000e+00],\n",
       "       [1.129e+03, 1.000e+00],\n",
       "       [1.130e+03, 1.000e+00],\n",
       "       [1.131e+03, 1.000e+00],\n",
       "       [1.132e+03, 1.000e+00],\n",
       "       [1.133e+03, 1.000e+00],\n",
       "       [1.134e+03, 0.000e+00],\n",
       "       [1.135e+03, 0.000e+00],\n",
       "       [1.136e+03, 0.000e+00],\n",
       "       [1.137e+03, 0.000e+00],\n",
       "       [1.138e+03, 1.000e+00],\n",
       "       [1.139e+03, 0.000e+00],\n",
       "       [1.140e+03, 1.000e+00],\n",
       "       [1.141e+03, 1.000e+00],\n",
       "       [1.142e+03, 1.000e+00],\n",
       "       [1.143e+03, 0.000e+00],\n",
       "       [1.144e+03, 0.000e+00],\n",
       "       [1.145e+03, 0.000e+00],\n",
       "       [1.146e+03, 0.000e+00],\n",
       "       [1.147e+03, 0.000e+00],\n",
       "       [1.148e+03, 1.000e+00],\n",
       "       [1.149e+03, 0.000e+00],\n",
       "       [1.150e+03, 1.000e+00],\n",
       "       [1.151e+03, 0.000e+00],\n",
       "       [1.152e+03, 0.000e+00],\n",
       "       [1.153e+03, 0.000e+00],\n",
       "       [1.154e+03, 1.000e+00],\n",
       "       [1.155e+03, 1.000e+00],\n",
       "       [1.156e+03, 0.000e+00],\n",
       "       [1.157e+03, 0.000e+00],\n",
       "       [1.158e+03, 0.000e+00],\n",
       "       [1.159e+03, 0.000e+00],\n",
       "       [1.160e+03, 1.000e+00],\n",
       "       [1.161e+03, 0.000e+00],\n",
       "       [1.162e+03, 0.000e+00],\n",
       "       [1.163e+03, 0.000e+00],\n",
       "       [1.164e+03, 1.000e+00],\n",
       "       [1.165e+03, 1.000e+00],\n",
       "       [1.166e+03, 0.000e+00],\n",
       "       [1.167e+03, 1.000e+00],\n",
       "       [1.168e+03, 0.000e+00],\n",
       "       [1.169e+03, 0.000e+00],\n",
       "       [1.170e+03, 0.000e+00],\n",
       "       [1.171e+03, 0.000e+00],\n",
       "       [1.172e+03, 0.000e+00],\n",
       "       [1.173e+03, 1.000e+00],\n",
       "       [1.174e+03, 1.000e+00],\n",
       "       [1.175e+03, 0.000e+00],\n",
       "       [1.176e+03, 1.000e+00],\n",
       "       [1.177e+03, 0.000e+00],\n",
       "       [1.178e+03, 0.000e+00],\n",
       "       [1.179e+03, 0.000e+00],\n",
       "       [1.180e+03, 0.000e+00],\n",
       "       [1.181e+03, 0.000e+00],\n",
       "       [1.182e+03, 0.000e+00],\n",
       "       [1.183e+03, 0.000e+00],\n",
       "       [1.184e+03, 0.000e+00],\n",
       "       [1.185e+03, 0.000e+00],\n",
       "       [1.186e+03, 0.000e+00],\n",
       "       [1.187e+03, 0.000e+00],\n",
       "       [1.188e+03, 1.000e+00],\n",
       "       [1.189e+03, 1.000e+00],\n",
       "       [1.190e+03, 0.000e+00],\n",
       "       [1.191e+03, 0.000e+00],\n",
       "       [1.192e+03, 0.000e+00],\n",
       "       [1.193e+03, 0.000e+00],\n",
       "       [1.194e+03, 0.000e+00],\n",
       "       [1.195e+03, 0.000e+00],\n",
       "       [1.196e+03, 0.000e+00],\n",
       "       [1.197e+03, 1.000e+00],\n",
       "       [1.198e+03, 0.000e+00],\n",
       "       [1.199e+03, 1.000e+00],\n",
       "       [1.200e+03, 0.000e+00],\n",
       "       [1.201e+03, 0.000e+00],\n",
       "       [1.202e+03, 0.000e+00],\n",
       "       [1.203e+03, 0.000e+00],\n",
       "       [1.204e+03, 0.000e+00],\n",
       "       [1.205e+03, 1.000e+00],\n",
       "       [1.206e+03, 1.000e+00],\n",
       "       [1.207e+03, 1.000e+00],\n",
       "       [1.208e+03, 0.000e+00],\n",
       "       [1.209e+03, 0.000e+00],\n",
       "       [1.210e+03, 0.000e+00],\n",
       "       [1.211e+03, 0.000e+00],\n",
       "       [1.212e+03, 0.000e+00],\n",
       "       [1.213e+03, 0.000e+00],\n",
       "       [1.214e+03, 0.000e+00],\n",
       "       [1.215e+03, 0.000e+00],\n",
       "       [1.216e+03, 1.000e+00],\n",
       "       [1.217e+03, 0.000e+00],\n",
       "       [1.218e+03, 1.000e+00],\n",
       "       [1.219e+03, 0.000e+00],\n",
       "       [1.220e+03, 0.000e+00],\n",
       "       [1.221e+03, 0.000e+00],\n",
       "       [1.222e+03, 1.000e+00],\n",
       "       [1.223e+03, 0.000e+00],\n",
       "       [1.224e+03, 0.000e+00],\n",
       "       [1.225e+03, 0.000e+00],\n",
       "       [1.226e+03, 0.000e+00],\n",
       "       [1.227e+03, 0.000e+00],\n",
       "       [1.228e+03, 1.000e+00],\n",
       "       [1.229e+03, 0.000e+00],\n",
       "       [1.230e+03, 0.000e+00],\n",
       "       [1.231e+03, 0.000e+00],\n",
       "       [1.232e+03, 0.000e+00],\n",
       "       [1.233e+03, 0.000e+00],\n",
       "       [1.234e+03, 0.000e+00],\n",
       "       [1.235e+03, 1.000e+00],\n",
       "       [1.236e+03, 0.000e+00],\n",
       "       [1.237e+03, 1.000e+00],\n",
       "       [1.238e+03, 0.000e+00],\n",
       "       [1.239e+03, 1.000e+00],\n",
       "       [1.240e+03, 0.000e+00],\n",
       "       [1.241e+03, 1.000e+00],\n",
       "       [1.242e+03, 1.000e+00],\n",
       "       [1.243e+03, 0.000e+00],\n",
       "       [1.244e+03, 0.000e+00],\n",
       "       [1.245e+03, 0.000e+00],\n",
       "       [1.246e+03, 1.000e+00],\n",
       "       [1.247e+03, 1.000e+00],\n",
       "       [1.248e+03, 1.000e+00],\n",
       "       [1.249e+03, 0.000e+00],\n",
       "       [1.250e+03, 0.000e+00],\n",
       "       [1.251e+03, 0.000e+00],\n",
       "       [1.252e+03, 0.000e+00],\n",
       "       [1.253e+03, 1.000e+00],\n",
       "       [1.254e+03, 1.000e+00],\n",
       "       [1.255e+03, 0.000e+00],\n",
       "       [1.256e+03, 1.000e+00],\n",
       "       [1.257e+03, 0.000e+00],\n",
       "       [1.258e+03, 0.000e+00],\n",
       "       [1.259e+03, 0.000e+00],\n",
       "       [1.260e+03, 1.000e+00],\n",
       "       [1.261e+03, 0.000e+00],\n",
       "       [1.262e+03, 0.000e+00],\n",
       "       [1.263e+03, 1.000e+00],\n",
       "       [1.264e+03, 0.000e+00],\n",
       "       [1.265e+03, 0.000e+00],\n",
       "       [1.266e+03, 1.000e+00],\n",
       "       [1.267e+03, 1.000e+00],\n",
       "       [1.268e+03, 0.000e+00],\n",
       "       [1.269e+03, 0.000e+00],\n",
       "       [1.270e+03, 0.000e+00],\n",
       "       [1.271e+03, 1.000e+00],\n",
       "       [1.272e+03, 0.000e+00],\n",
       "       [1.273e+03, 0.000e+00],\n",
       "       [1.274e+03, 0.000e+00],\n",
       "       [1.275e+03, 1.000e+00],\n",
       "       [1.276e+03, 0.000e+00],\n",
       "       [1.277e+03, 1.000e+00],\n",
       "       [1.278e+03, 0.000e+00],\n",
       "       [1.279e+03, 0.000e+00],\n",
       "       [1.280e+03, 0.000e+00],\n",
       "       [1.281e+03, 0.000e+00],\n",
       "       [1.282e+03, 0.000e+00],\n",
       "       [1.283e+03, 1.000e+00],\n",
       "       [1.284e+03, 1.000e+00],\n",
       "       [1.285e+03, 0.000e+00],\n",
       "       [1.286e+03, 0.000e+00],\n",
       "       [1.287e+03, 1.000e+00],\n",
       "       [1.288e+03, 0.000e+00],\n",
       "       [1.289e+03, 1.000e+00],\n",
       "       [1.290e+03, 0.000e+00],\n",
       "       [1.291e+03, 0.000e+00],\n",
       "       [1.292e+03, 1.000e+00],\n",
       "       [1.293e+03, 0.000e+00],\n",
       "       [1.294e+03, 1.000e+00],\n",
       "       [1.295e+03, 0.000e+00],\n",
       "       [1.296e+03, 0.000e+00],\n",
       "       [1.297e+03, 0.000e+00],\n",
       "       [1.298e+03, 0.000e+00],\n",
       "       [1.299e+03, 0.000e+00],\n",
       "       [1.300e+03, 1.000e+00],\n",
       "       [1.301e+03, 1.000e+00],\n",
       "       [1.302e+03, 1.000e+00],\n",
       "       [1.303e+03, 1.000e+00],\n",
       "       [1.304e+03, 0.000e+00],\n",
       "       [1.305e+03, 0.000e+00],\n",
       "       [1.306e+03, 1.000e+00],\n",
       "       [1.307e+03, 0.000e+00],\n",
       "       [1.308e+03, 0.000e+00],\n",
       "       [1.309e+03, 0.000e+00]])"
      ]
     },
     "execution_count": 33,
     "metadata": {},
     "output_type": "execute_result"
    }
   ],
   "source": [
    "# Loading a .csv file using NumPy\n",
    "from numpy import genfromtxt\n",
    "data = genfromtxt('titanic.csv', delimiter=',')\n",
    "data"
   ]
  },
  {
   "cell_type": "code",
   "execution_count": 35,
   "id": "9f844f12",
   "metadata": {},
   "outputs": [
    {
     "data": {
      "text/plain": [
       "(419, 2)"
      ]
     },
     "execution_count": 35,
     "metadata": {},
     "output_type": "execute_result"
    }
   ],
   "source": [
    "data.shape"
   ]
  },
  {
   "cell_type": "code",
   "execution_count": 38,
   "id": "da160bc0",
   "metadata": {},
   "outputs": [],
   "source": [
    "# To plot the data, we use matplotlib\n",
    "from matplotlib import pyplot as plt"
   ]
  },
  {
   "cell_type": "code",
   "execution_count": 36,
   "id": "4b2e07e1",
   "metadata": {},
   "outputs": [],
   "source": [
    "X = [6, 7, 8]\n",
    "Y = [0, 1, 2]"
   ]
  },
  {
   "cell_type": "code",
   "execution_count": 37,
   "id": "dfe1956c",
   "metadata": {},
   "outputs": [
    {
     "data": {
      "text/plain": [
       "[<matplotlib.lines.Line2D at 0x7ff245964250>]"
      ]
     },
     "execution_count": 37,
     "metadata": {},
     "output_type": "execute_result"
    },
    {
     "data": {
      "image/png": "[encoded data removed]",
      "text/plain": [
       "<Figure size 432x288 with 1 Axes>"
      ]
     },
     "metadata": {
      "needs_background": "light"
     },
     "output_type": "display_data"
    }
   ],
   "source": [
    "plt.plot(X,Y)"
   ]
  },
  {
   "cell_type": "code",
   "execution_count": 39,
   "id": "937dda30",
   "metadata": {},
   "outputs": [
    {
     "data": {
      "text/plain": [
       "Text(0.5, 1.0, 'Example')"
      ]
     },
     "execution_count": 39,
     "metadata": {},
     "output_type": "execute_result"
    },
    {
     "data": {
      "image/png": "[encoded data removed]",
      "text/plain": [
       "<Figure size 1008x288 with 1 Axes>"
      ]
     },
     "metadata": {
      "needs_background": "light"
     },
     "output_type": "display_data"
    }
   ],
   "source": [
    "fig, ax = plt.subplots(figsize=(14,4))\n",
    "ax.scatter(data[:,1], data[:,0])\n",
    "ax.set_title('Example')"
   ]
  },
  {
   "cell_type": "code",
   "execution_count": 118,
   "id": "9b00ff0d",
   "metadata": {},
   "outputs": [
    {
     "data": {
      "text/plain": [
       "array([[    nan,     nan,     nan, ...,     nan,     nan,     nan],\n",
       "       [  6.   , 148.   ,  72.   , ...,   0.627,  50.   ,   1.   ],\n",
       "       [  1.   ,  85.   ,  66.   , ...,   0.351,  31.   ,   0.   ],\n",
       "       ...,\n",
       "       [  5.   , 121.   ,  72.   , ...,   0.245,  30.   ,   0.   ],\n",
       "       [  1.   , 126.   ,  60.   , ...,   0.349,  47.   ,   1.   ],\n",
       "       [  1.   ,  93.   ,  70.   , ...,   0.315,  23.   ,   0.   ]])"
      ]
     },
     "execution_count": 118,
     "metadata": {},
     "output_type": "execute_result"
    }
   ],
   "source": [
    "data = genfromtxt('diabetes.csv', delimiter=',')\n",
    "data"
   ]
  },
  {
   "cell_type": "code",
   "execution_count": 119,
   "id": "a5f1d901",
   "metadata": {},
   "outputs": [
    {
     "data": {
      "image/png": "[encoded data removed]",
      "text/plain": [
       "<Figure size 1008x288 with 1 Axes>"
      ]
     },
     "metadata": {
      "needs_background": "light"
     },
     "output_type": "display_data"
    }
   ],
   "source": [
    "fig, ax = plt.subplots(figsize=(14,4))\n",
    "ax.scatter(data[:,0], data[:,1])\n",
    "ax.set_title('<Title Here>')\n",
    "ax.set_xlabel('<X Axis>')\n",
    "ax.set_ylabel('<Y Axis>');"
   ]
  },
  {
   "cell_type": "markdown",
   "id": "d7a8c9bc",
   "metadata": {},
   "source": [
    "#### Writing to a .csv"
   ]
  },
  {
   "cell_type": "code",
   "execution_count": 40,
   "id": "1e01303e",
   "metadata": {},
   "outputs": [
    {
     "data": {
      "text/plain": [
       "array([[0.02943014, 0.27502908, 0.01778004, 0.10126547, 0.7346846 ],\n",
       "       [0.36262337, 0.57049244, 0.49633183, 0.38839115, 0.96513999],\n",
       "       [0.65093405, 0.94244192, 0.95435051, 0.83267815, 0.71053536],\n",
       "       [0.71986439, 0.24972448, 0.8500301 , 0.78998843, 0.64033313],\n",
       "       [0.98526863, 0.67084423, 0.54372145, 0.15661233, 0.20364632],\n",
       "       [0.6369895 , 0.99191922, 0.82110923, 0.18195985, 0.47163658],\n",
       "       [0.68524862, 0.02965963, 0.70769927, 0.60819678, 0.06135734],\n",
       "       [0.51231496, 0.78546891, 0.75479295, 0.3945202 , 0.3595179 ],\n",
       "       [0.20475501, 0.0660418 , 0.53467067, 0.41413925, 0.49536186],\n",
       "       [0.49616693, 0.9878692 , 0.04508468, 0.79308234, 0.06893999]])"
      ]
     },
     "execution_count": 40,
     "metadata": {},
     "output_type": "execute_result"
    }
   ],
   "source": [
    "# Generate a matrix\n",
    "M = random.rand(10,5)                                                                                                                                    \n",
    "M"
   ]
  },
  {
   "cell_type": "code",
   "execution_count": 41,
   "id": "53a4992d",
   "metadata": {},
   "outputs": [],
   "source": [
    "np.savetxt(\"random-matrix.csv\", M, delimiter=',')"
   ]
  },
  {
   "cell_type": "code",
   "execution_count": 123,
   "id": "de3f2834",
   "metadata": {},
   "outputs": [
    {
     "name": "stdout",
     "output_type": "stream",
     "text": [
      "7.660038184769965008e-01,9.149075451705342976e-01,1.019075201445426293e-01,1.014679690554525227e-01,2.118879518312944965e-01\r\n",
      "4.281115066676915992e-01,7.538665624448795954e-01,5.829682407056612226e-01,3.091684920572138617e-01,9.092038647479179225e-01\r\n",
      "8.473987271519796138e-01,4.703837294466473029e-01,1.212702942649239723e-01,4.464800103560234712e-01,1.428476673472858227e-01\r\n",
      "1.364762394270719881e-01,6.993945307298701231e-01,4.211944081676353147e-01,1.505283819264942036e-01,4.818427467312907941e-01\r\n",
      "2.849945397861335383e-01,4.490932205904253349e-01,9.204959927821330101e-01,7.156131547232408296e-01,9.037806294773433891e-01\r\n",
      "6.038787312006077546e-01,8.812118940648057119e-01,9.485532880416928103e-01,4.315432136370387362e-01,6.913304928233074964e-01\r\n",
      "3.763588349001508737e-01,9.651063142301709030e-01,5.183209527847382203e-01,8.699976101020265862e-01,7.496009606019577998e-01\r\n",
      "1.008961629319460318e-02,4.065364424346396000e-01,3.176042385501668397e-01,2.204024451528417972e-01,6.543758657828568914e-01\r\n",
      "6.976438272624831960e-01,6.413227809746798735e-01,3.735187647175691739e-01,3.541898703184919173e-01,9.153049290765413737e-01\r\n",
      "3.021197559785157027e-01,6.096270550819662404e-01,1.809971246921873167e-01,6.977326496389206767e-01,5.170258554689746155e-01\r\n"
     ]
    }
   ],
   "source": [
    "!cat random-matrix.csv"
   ]
  },
  {
   "cell_type": "code",
   "execution_count": 124,
   "id": "7848fc40",
   "metadata": {},
   "outputs": [
    {
     "name": "stdout",
     "output_type": "stream",
     "text": [
      "0.77 0.91 0.10 0.10 0.21\r\n",
      "0.43 0.75 0.58 0.31 0.91\r\n",
      "0.85 0.47 0.12 0.45 0.14\r\n",
      "0.14 0.70 0.42 0.15 0.48\r\n",
      "0.28 0.45 0.92 0.72 0.90\r\n",
      "0.60 0.88 0.95 0.43 0.69\r\n",
      "0.38 0.97 0.52 0.87 0.75\r\n",
      "0.01 0.41 0.32 0.22 0.65\r\n",
      "0.70 0.64 0.37 0.35 0.92\r\n",
      "0.30 0.61 0.18 0.70 0.52\r\n"
     ]
    }
   ],
   "source": [
    "M = np.savetxt(\"random-matrix.csv\", M, fmt='%.2f') # fmt specifies the format (Rounding floating points)\n",
    "!cat random-matrix.csv"
   ]
  },
  {
   "cell_type": "code",
   "execution_count": 42,
   "id": "16cbe67b",
   "metadata": {},
   "outputs": [],
   "source": [
    "# Numpy's native format\n",
    "M = random.rand(10,5)   \n",
    "np.save(\"random-matrix.npy\", M)"
   ]
  },
  {
   "cell_type": "code",
   "execution_count": 43,
   "id": "5ebd7094",
   "metadata": {},
   "outputs": [
    {
     "data": {
      "text/plain": [
       "array([[2.07853978e-01, 1.88185684e-01, 3.57540318e-01, 3.91374622e-01,\n",
       "        4.58912926e-01],\n",
       "       [6.36433577e-02, 8.20616799e-02, 8.70998683e-02, 2.42588258e-01,\n",
       "        1.20146608e-01],\n",
       "       [9.39659278e-01, 2.61817120e-01, 8.37317302e-01, 6.41311349e-02,\n",
       "        4.94600538e-02],\n",
       "       [6.16776210e-01, 1.76380066e-01, 5.93837937e-01, 1.83291903e-01,\n",
       "        5.77229543e-01],\n",
       "       [7.90811736e-01, 9.19826288e-01, 1.39240567e-01, 6.19235301e-01,\n",
       "        2.49721102e-01],\n",
       "       [1.66998558e-02, 9.98389087e-02, 6.06692979e-01, 3.44489249e-04,\n",
       "        1.71534177e-01],\n",
       "       [4.04062434e-01, 9.99416992e-01, 2.84799067e-01, 5.15278752e-01,\n",
       "        8.40714180e-01],\n",
       "       [7.66205729e-01, 9.17103865e-01, 7.52163263e-02, 9.45037065e-01,\n",
       "        5.06127516e-01],\n",
       "       [2.52750801e-01, 9.87088070e-02, 4.76444654e-01, 6.83090613e-01,\n",
       "        5.78100711e-01],\n",
       "       [7.41195259e-01, 4.91588880e-01, 6.71089544e-01, 5.23543736e-01,\n",
       "        5.22387815e-01]])"
      ]
     },
     "execution_count": 43,
     "metadata": {},
     "output_type": "execute_result"
    }
   ],
   "source": [
    "np.load(\"random-matrix.npy\")"
   ]
  },
  {
   "cell_type": "markdown",
   "id": "348029b0",
   "metadata": {},
   "source": [
    "#### More Properties"
   ]
  },
  {
   "cell_type": "code",
   "execution_count": 44,
   "id": "0009e060",
   "metadata": {},
   "outputs": [
    {
     "data": {
      "text/plain": [
       "array([[0.10023228, 0.14068321, 0.06599832],\n",
       "       [0.71052735, 0.83653262, 0.68036801]])"
      ]
     },
     "execution_count": 44,
     "metadata": {},
     "output_type": "execute_result"
    }
   ],
   "source": [
    "M = random.rand(2,3)\n",
    "M"
   ]
  },
  {
   "cell_type": "code",
   "execution_count": 45,
   "id": "e228623c",
   "metadata": {},
   "outputs": [
    {
     "data": {
      "text/plain": [
       "8"
      ]
     },
     "execution_count": 45,
     "metadata": {},
     "output_type": "execute_result"
    }
   ],
   "source": [
    "M.itemsize # bytes per element"
   ]
  },
  {
   "cell_type": "code",
   "execution_count": 46,
   "id": "d1a59a31",
   "metadata": {},
   "outputs": [
    {
     "data": {
      "text/plain": [
       "48"
      ]
     },
     "execution_count": 46,
     "metadata": {},
     "output_type": "execute_result"
    }
   ],
   "source": [
    "M.nbytes # number of bytes"
   ]
  },
  {
   "cell_type": "code",
   "execution_count": 47,
   "id": "35359b09",
   "metadata": {},
   "outputs": [
    {
     "data": {
      "text/plain": [
       "6.0"
      ]
     },
     "execution_count": 47,
     "metadata": {},
     "output_type": "execute_result"
    }
   ],
   "source": [
    "items = M.nbytes/M.itemsize # total number of items\n",
    "items"
   ]
  },
  {
   "cell_type": "code",
   "execution_count": 134,
   "id": "4e994d68",
   "metadata": {},
   "outputs": [
    {
     "data": {
      "text/plain": [
       "2"
      ]
     },
     "execution_count": 134,
     "metadata": {},
     "output_type": "execute_result"
    }
   ],
   "source": [
    "M.ndim # number of dimensions"
   ]
  },
  {
   "cell_type": "markdown",
   "id": "94034d57",
   "metadata": {},
   "source": [
    "#### Indexing"
   ]
  },
  {
   "cell_type": "code",
   "execution_count": 49,
   "id": "8d4e7a49",
   "metadata": {},
   "outputs": [
    {
     "data": {
      "text/plain": [
       "1"
      ]
     },
     "execution_count": 49,
     "metadata": {},
     "output_type": "execute_result"
    }
   ],
   "source": [
    "# v is a vector, and has only one dimension, taking one index\n",
    "v = np.array([1,2,3,4])\n",
    "v[0]"
   ]
  },
  {
   "cell_type": "code",
   "execution_count": 50,
   "id": "78e030f6",
   "metadata": {},
   "outputs": [
    {
     "data": {
      "text/plain": [
       "array([[0.10023228, 0.14068321, 0.06599832],\n",
       "       [0.71052735, 0.83653262, 0.68036801]])"
      ]
     },
     "execution_count": 50,
     "metadata": {},
     "output_type": "execute_result"
    }
   ],
   "source": [
    "M"
   ]
  },
  {
   "cell_type": "code",
   "execution_count": 52,
   "id": "68bc0c0d",
   "metadata": {},
   "outputs": [
    {
     "data": {
      "text/plain": [
       "0.8365326180924546"
      ]
     },
     "execution_count": 52,
     "metadata": {},
     "output_type": "execute_result"
    }
   ],
   "source": [
    "# M is a matrix, or a 2 dimensional array, taking two indices \n",
    "M[1,1]\n",
    "M[1][1]"
   ]
  },
  {
   "cell_type": "code",
   "execution_count": 58,
   "id": "9a37c3f1",
   "metadata": {},
   "outputs": [
    {
     "data": {
      "text/plain": [
       "array([0.71052735, 0.83653262, 0.68036801])"
      ]
     },
     "execution_count": 58,
     "metadata": {},
     "output_type": "execute_result"
    }
   ],
   "source": [
    "M[1]"
   ]
  },
  {
   "cell_type": "code",
   "execution_count": 59,
   "id": "9e44e2d2",
   "metadata": {},
   "outputs": [
    {
     "data": {
      "text/plain": [
       "array([0.10023228, 0.14068321, 0.06599832])"
      ]
     },
     "execution_count": 59,
     "metadata": {},
     "output_type": "execute_result"
    }
   ],
   "source": [
    "M[0, :] # row 1"
   ]
  },
  {
   "cell_type": "code",
   "execution_count": 61,
   "id": "bc09cb9c",
   "metadata": {},
   "outputs": [
    {
     "data": {
      "text/plain": [
       "array([0.06599832, 0.68036801])"
      ]
     },
     "execution_count": 61,
     "metadata": {},
     "output_type": "execute_result"
    }
   ],
   "source": [
    "M[:,2] # column 1"
   ]
  },
  {
   "cell_type": "code",
   "execution_count": 141,
   "id": "3fcc9aeb",
   "metadata": {},
   "outputs": [
    {
     "data": {
      "text/plain": [
       "array([[1.        , 0.03495649, 0.75229822],\n",
       "       [0.05765048, 0.0788325 , 0.37087094]])"
      ]
     },
     "execution_count": 141,
     "metadata": {},
     "output_type": "execute_result"
    }
   ],
   "source": [
    "# Replacing a value\n",
    "M[0,0] = 1\n",
    "M"
   ]
  },
  {
   "cell_type": "code",
   "execution_count": 62,
   "id": "1788d3e0",
   "metadata": {},
   "outputs": [
    {
     "data": {
      "text/plain": [
       "array([[ 0.10023228,  0.14068321, -1.        ],\n",
       "       [ 0.        ,  0.        , -1.        ]])"
      ]
     },
     "execution_count": 62,
     "metadata": {},
     "output_type": "execute_result"
    }
   ],
   "source": [
    "# Also works for rows and columns\n",
    "M[1,:] = 0\n",
    "M[:,2] = -1\n",
    "M"
   ]
  },
  {
   "cell_type": "markdown",
   "id": "39077452",
   "metadata": {},
   "source": [
    "#### Slicing Indexing and Negative Indexing"
   ]
  },
  {
   "cell_type": "code",
   "execution_count": 63,
   "id": "b925d7b1",
   "metadata": {},
   "outputs": [
    {
     "data": {
      "text/plain": [
       "array([1, 2, 3, 4, 5])"
      ]
     },
     "execution_count": 63,
     "metadata": {},
     "output_type": "execute_result"
    }
   ],
   "source": [
    "v = np.array([1,2,3,4,5])\n",
    "v"
   ]
  },
  {
   "cell_type": "code",
   "execution_count": 64,
   "id": "54587db1",
   "metadata": {},
   "outputs": [
    {
     "data": {
      "text/plain": [
       "array([2, 3])"
      ]
     },
     "execution_count": 64,
     "metadata": {},
     "output_type": "execute_result"
    }
   ],
   "source": [
    "v[1:3]"
   ]
  },
  {
   "cell_type": "code",
   "execution_count": 65,
   "id": "699eebd7",
   "metadata": {},
   "outputs": [
    {
     "data": {
      "text/plain": [
       "array([1, 7, 7, 4, 5])"
      ]
     },
     "execution_count": 65,
     "metadata": {},
     "output_type": "execute_result"
    }
   ],
   "source": [
    "v[1:3] = [7]\n",
    "v"
   ]
  },
  {
   "cell_type": "markdown",
   "id": "4c0b0131",
   "metadata": {},
   "source": [
    "We can omit any of the three parameters in `M[lower:upper:step]`:"
   ]
  },
  {
   "cell_type": "code",
   "execution_count": 143,
   "id": "00bbd3c1",
   "metadata": {},
   "outputs": [
    {
     "data": {
      "text/plain": [
       "array([1, 2, 3, 4])"
      ]
     },
     "execution_count": 143,
     "metadata": {},
     "output_type": "execute_result"
    }
   ],
   "source": [
    "v[::] # lower, upper, step all take the default values"
   ]
  },
  {
   "cell_type": "code",
   "execution_count": 67,
   "id": "b3413cb4",
   "metadata": {},
   "outputs": [
    {
     "data": {
      "text/plain": [
       "array([ 1,  2,  3,  4,  5,  6,  7,  8,  9, 10])"
      ]
     },
     "execution_count": 67,
     "metadata": {},
     "output_type": "execute_result"
    }
   ],
   "source": [
    "v = np.array([1,2,3,4,5,6,7,8,9,10])\n",
    "v[::1] # step is 2, lower and upper defaults to the beginning and end of the array"
   ]
  },
  {
   "cell_type": "code",
   "execution_count": null,
   "id": "4087f493",
   "metadata": {},
   "outputs": [],
   "source": [
    "v[:3] # first three elements"
   ]
  },
  {
   "cell_type": "code",
   "execution_count": null,
   "id": "f9f3c478",
   "metadata": {},
   "outputs": [],
   "source": [
    "v[3:] # elements from index 3"
   ]
  },
  {
   "cell_type": "code",
   "execution_count": null,
   "id": "d63e91fc",
   "metadata": {},
   "outputs": [],
   "source": [
    "v[-1] # the last element in the array"
   ]
  },
  {
   "cell_type": "code",
   "execution_count": null,
   "id": "ecd3a1be",
   "metadata": {},
   "outputs": [],
   "source": [
    "v[-3:] # the last three elements"
   ]
  },
  {
   "cell_type": "code",
   "execution_count": 147,
   "id": "8e29b9b6",
   "metadata": {},
   "outputs": [
    {
     "data": {
      "text/plain": [
       "[0, 1, 2, 3, 4, 5, 6, 7, 8, 9]"
      ]
     },
     "execution_count": 147,
     "metadata": {},
     "output_type": "execute_result"
    }
   ],
   "source": [
    "exm = [i for i in range(10)]\n",
    "exm"
   ]
  },
  {
   "cell_type": "code",
   "execution_count": 68,
   "id": "cf946680",
   "metadata": {},
   "outputs": [
    {
     "data": {
      "text/plain": [
       "array([[0, 0, 0, 0, 0],\n",
       "       [1, 1, 1, 1, 1],\n",
       "       [2, 2, 2, 2, 2],\n",
       "       [3, 3, 3, 3, 3],\n",
       "       [4, 4, 4, 4, 4]])"
      ]
     },
     "execution_count": 68,
     "metadata": {},
     "output_type": "execute_result"
    }
   ],
   "source": [
    "M = np.array(\n",
    "    [\n",
    "        [m for n in range(5)] for m in range(5)\n",
    "    ]\n",
    ")\n",
    "M"
   ]
  },
  {
   "cell_type": "code",
   "execution_count": 69,
   "id": "ade85bac",
   "metadata": {},
   "outputs": [
    {
     "data": {
      "text/plain": [
       "array([[ 0,  1,  2,  3,  4],\n",
       "       [10, 11, 12, 13, 14],\n",
       "       [20, 21, 22, 23, 24],\n",
       "       [30, 31, 32, 33, 34],\n",
       "       [40, 41, 42, 43, 44]])"
      ]
     },
     "execution_count": 69,
     "metadata": {},
     "output_type": "execute_result"
    }
   ],
   "source": [
    "M = np.array(\n",
    "    [\n",
    "        [n+m*10 for n in range(5)] for m in range(5)\n",
    "    ]\n",
    ")\n",
    "M"
   ]
  },
  {
   "cell_type": "code",
   "execution_count": null,
   "id": "817fc548",
   "metadata": {},
   "outputs": [],
   "source": [
    "# Strides - Columns and Rows Jumping\n",
    "M[::2, ::2]"
   ]
  },
  {
   "cell_type": "markdown",
   "id": "608067e3",
   "metadata": {},
   "source": [
    "#### Fancy Indexing"
   ]
  },
  {
   "cell_type": "code",
   "execution_count": 74,
   "id": "70d5529b",
   "metadata": {},
   "outputs": [
    {
     "data": {
      "text/plain": [
       "array([[0, 0, 0, 0, 0],\n",
       "       [1, 1, 1, 1, 1],\n",
       "       [2, 2, 2, 2, 2],\n",
       "       [3, 3, 3, 3, 3],\n",
       "       [4, 4, 4, 4, 4]])"
      ]
     },
     "execution_count": 74,
     "metadata": {},
     "output_type": "execute_result"
    }
   ],
   "source": [
    "M = np.array(\n",
    "    [\n",
    "        [m for n in range(5)] for m in range(5)\n",
    "    ]\n",
    ")\n",
    "M"
   ]
  },
  {
   "cell_type": "code",
   "execution_count": 75,
   "id": "55ed056a",
   "metadata": {},
   "outputs": [
    {
     "data": {
      "text/plain": [
       "array([[0, 0, 0, 0, 0],\n",
       "       [4, 4, 4, 4, 4]])"
      ]
     },
     "execution_count": 75,
     "metadata": {},
     "output_type": "execute_result"
    }
   ],
   "source": [
    "# Fancy indexing is the name for when an array or list is used in-place of an index\n",
    "row_indices = [0, -1]\n",
    "M[row_indices]"
   ]
  },
  {
   "cell_type": "code",
   "execution_count": 77,
   "id": "6d2f09b3",
   "metadata": {},
   "outputs": [
    {
     "data": {
      "text/plain": [
       "array([[0, 0],\n",
       "       [1, 1],\n",
       "       [2, 2],\n",
       "       [3, 3],\n",
       "       [4, 4]])"
      ]
     },
     "execution_count": 77,
     "metadata": {},
     "output_type": "execute_result"
    }
   ],
   "source": [
    "col_indices = [0, -1] # remember, index -1 means the last element\n",
    "M[:, col_indices]"
   ]
  },
  {
   "cell_type": "code",
   "execution_count": 78,
   "id": "03aeac5a",
   "metadata": {},
   "outputs": [
    {
     "data": {
      "text/plain": [
       "array([0, 1, 2, 3, 4])"
      ]
     },
     "execution_count": 78,
     "metadata": {},
     "output_type": "execute_result"
    }
   ],
   "source": [
    "B = np.array(\n",
    "    [n for n in range(5)]\n",
    ")\n",
    "B"
   ]
  },
  {
   "cell_type": "markdown",
   "id": "0d972fe5",
   "metadata": {},
   "source": [
    "<p style=\"color: red; font-size: 20pt; margin: 2%;\"><b>4. Linear Algebra</b></p>"
   ]
  },
  {
   "cell_type": "code",
   "execution_count": 79,
   "id": "a554904f",
   "metadata": {},
   "outputs": [
    {
     "data": {
      "text/plain": [
       "array([   0,    1,    2, ..., 9997, 9998, 9999])"
      ]
     },
     "execution_count": 79,
     "metadata": {},
     "output_type": "execute_result"
    }
   ],
   "source": [
    "v1 = np.arange(0, 10000)\n",
    "v1"
   ]
  },
  {
   "cell_type": "code",
   "execution_count": 80,
   "id": "0ef32f19",
   "metadata": {},
   "outputs": [
    {
     "name": "stdout",
     "output_type": "stream",
     "text": [
      "CPU times: user 3.85 ms, sys: 7 µs, total: 3.86 ms\n",
      "Wall time: 3.88 ms\n"
     ]
    }
   ],
   "source": [
    "%%time\n",
    "for i in range(v1.shape[0]):\n",
    "    v1[i] *= 2 "
   ]
  },
  {
   "cell_type": "code",
   "execution_count": 81,
   "id": "a1347cf5",
   "metadata": {},
   "outputs": [
    {
     "name": "stdout",
     "output_type": "stream",
     "text": [
      "CPU times: user 201 µs, sys: 74 µs, total: 275 µs\n",
      "Wall time: 272 µs\n"
     ]
    }
   ],
   "source": [
    "%%time\n",
    "v1 *= 2"
   ]
  },
  {
   "cell_type": "markdown",
   "id": "578d83f2",
   "metadata": {},
   "source": [
    "#### Scalar Array Operations"
   ]
  },
  {
   "cell_type": "code",
   "execution_count": 82,
   "id": "b6572fe8",
   "metadata": {},
   "outputs": [
    {
     "data": {
      "text/plain": [
       "array([0, 1, 2, 3, 4])"
      ]
     },
     "execution_count": 82,
     "metadata": {},
     "output_type": "execute_result"
    }
   ],
   "source": [
    "v1 = np.arange(0, 5)\n",
    "v1"
   ]
  },
  {
   "cell_type": "code",
   "execution_count": 83,
   "id": "37a05055",
   "metadata": {},
   "outputs": [
    {
     "data": {
      "text/plain": [
       "array([0, 2, 4, 6, 8])"
      ]
     },
     "execution_count": 83,
     "metadata": {},
     "output_type": "execute_result"
    }
   ],
   "source": [
    "v1 * 2"
   ]
  },
  {
   "cell_type": "code",
   "execution_count": 84,
   "id": "dcf994ba",
   "metadata": {},
   "outputs": [
    {
     "data": {
      "text/plain": [
       "array([2, 3, 4, 5, 6])"
      ]
     },
     "execution_count": 84,
     "metadata": {},
     "output_type": "execute_result"
    }
   ],
   "source": [
    "v1 + 2"
   ]
  },
  {
   "cell_type": "code",
   "execution_count": 85,
   "id": "032f1afa",
   "metadata": {},
   "outputs": [
    {
     "name": "stdout",
     "output_type": "stream",
     "text": [
      "[0 2 4 6 8]\n"
     ]
    },
    {
     "data": {
      "text/plain": [
       "array([2, 3, 4, 5, 6])"
      ]
     },
     "execution_count": 85,
     "metadata": {},
     "output_type": "execute_result"
    }
   ],
   "source": [
    "print(v1 * 2)\n",
    "v1 + 2"
   ]
  },
  {
   "cell_type": "markdown",
   "id": "d0786113",
   "metadata": {},
   "source": [
    "#### Element-wise array-array operations"
   ]
  },
  {
   "cell_type": "code",
   "execution_count": 88,
   "id": "3a3c3067",
   "metadata": {},
   "outputs": [
    {
     "data": {
      "text/plain": [
       "array([[2, 4, 6, 8],\n",
       "       [1, 3, 5, 7],\n",
       "       [2, 1, 6, 7]])"
      ]
     },
     "execution_count": 88,
     "metadata": {},
     "output_type": "execute_result"
    }
   ],
   "source": [
    "A = np.array([\n",
    "    [2,4,6,8],\n",
    "    [1,3,5,7],\n",
    "    [2,1,6,7]\n",
    "])\n",
    "A"
   ]
  },
  {
   "cell_type": "code",
   "execution_count": 89,
   "id": "a21225b1",
   "metadata": {},
   "outputs": [
    {
     "data": {
      "text/plain": [
       "array([[ 4, 16, 36, 64],\n",
       "       [ 1,  9, 25, 49],\n",
       "       [ 4,  1, 36, 49]])"
      ]
     },
     "execution_count": 89,
     "metadata": {},
     "output_type": "execute_result"
    }
   ],
   "source": [
    "A * A # element-wise multiplication"
   ]
  },
  {
   "cell_type": "code",
   "execution_count": 92,
   "id": "c880102c",
   "metadata": {},
   "outputs": [
    {
     "data": {
      "text/plain": [
       "array([ 1,  4,  9, 16])"
      ]
     },
     "execution_count": 92,
     "metadata": {},
     "output_type": "execute_result"
    }
   ],
   "source": [
    "v1 = np.array([1,2,3,4])\n",
    "v1 * v1"
   ]
  },
  {
   "cell_type": "code",
   "execution_count": 93,
   "id": "09ab2976",
   "metadata": {},
   "outputs": [
    {
     "data": {
      "text/plain": [
       "array([[ 2,  8, 18, 32],\n",
       "       [ 1,  6, 15, 28],\n",
       "       [ 2,  2, 18, 28]])"
      ]
     },
     "execution_count": 93,
     "metadata": {},
     "output_type": "execute_result"
    }
   ],
   "source": [
    "A * v1"
   ]
  },
  {
   "cell_type": "code",
   "execution_count": 94,
   "id": "9b3bc1a2",
   "metadata": {},
   "outputs": [
    {
     "data": {
      "text/plain": [
       "((3, 4), (4,))"
      ]
     },
     "execution_count": 94,
     "metadata": {},
     "output_type": "execute_result"
    }
   ],
   "source": [
    "A.shape, v1.shape"
   ]
  },
  {
   "cell_type": "code",
   "execution_count": 95,
   "id": "1626f22a",
   "metadata": {},
   "outputs": [
    {
     "data": {
      "text/plain": [
       "array([3, 2, 3, 2])"
      ]
     },
     "execution_count": 95,
     "metadata": {},
     "output_type": "execute_result"
    }
   ],
   "source": [
    "v1 = np.array([3,2,3,2])\n",
    "v1"
   ]
  },
  {
   "cell_type": "code",
   "execution_count": 96,
   "id": "c509884a",
   "metadata": {},
   "outputs": [
    {
     "data": {
      "text/plain": [
       "array([[ 6,  8, 18, 16],\n",
       "       [ 3,  6, 15, 14],\n",
       "       [ 6,  2, 18, 14]])"
      ]
     },
     "execution_count": 96,
     "metadata": {},
     "output_type": "execute_result"
    }
   ],
   "source": [
    "A * v1"
   ]
  },
  {
   "cell_type": "markdown",
   "id": "1693b18b",
   "metadata": {},
   "source": [
    "#### Matrix Algebra"
   ]
  },
  {
   "cell_type": "code",
   "execution_count": 97,
   "id": "8f8382a3",
   "metadata": {},
   "outputs": [
    {
     "ename": "ValueError",
     "evalue": "shapes (3,4) and (3,4) not aligned: 4 (dim 1) != 3 (dim 0)",
     "output_type": "error",
     "traceback": [
      "\u001b[0;31m---------------------------------------------------------------------------\u001b[0m",
      "\u001b[0;31mValueError\u001b[0m                                Traceback (most recent call last)",
      "\u001b[0;32m/var/folders/pb/r59cpd1n6_92ml2jcn5bhnqr0000gn/T/ipykernel_2463/2197872569.py\u001b[0m in \u001b[0;36m<module>\u001b[0;34m\u001b[0m\n\u001b[0;32m----> 1\u001b[0;31m \u001b[0mnp\u001b[0m\u001b[0;34m.\u001b[0m\u001b[0mdot\u001b[0m\u001b[0;34m(\u001b[0m\u001b[0mA\u001b[0m\u001b[0;34m,\u001b[0m \u001b[0mA\u001b[0m\u001b[0;34m)\u001b[0m\u001b[0;34m\u001b[0m\u001b[0;34m\u001b[0m\u001b[0m\n\u001b[0m",
      "\u001b[0;32m<__array_function__ internals>\u001b[0m in \u001b[0;36mdot\u001b[0;34m(*args, **kwargs)\u001b[0m\n",
      "\u001b[0;31mValueError\u001b[0m: shapes (3,4) and (3,4) not aligned: 4 (dim 1) != 3 (dim 0)"
     ]
    }
   ],
   "source": [
    "np.dot(A, A)"
   ]
  },
  {
   "cell_type": "code",
   "execution_count": 98,
   "id": "65b0a67e",
   "metadata": {},
   "outputs": [
    {
     "data": {
      "text/plain": [
       "array([[120, 100, 100],\n",
       "       [100,  84,  84],\n",
       "       [100,  84,  90]])"
      ]
     },
     "execution_count": 98,
     "metadata": {},
     "output_type": "execute_result"
    }
   ],
   "source": [
    "np.dot(A, A.T)"
   ]
  },
  {
   "cell_type": "code",
   "execution_count": 99,
   "id": "704de78f",
   "metadata": {},
   "outputs": [
    {
     "data": {
      "text/plain": [
       "array([[1, 2, 3],\n",
       "       [4, 5, 6],\n",
       "       [7, 8, 9]])"
      ]
     },
     "execution_count": 99,
     "metadata": {},
     "output_type": "execute_result"
    }
   ],
   "source": [
    "A = np.array([\n",
    "    [1,2,3],\n",
    "    [4,5,6],\n",
    "    [7,8,9]\n",
    "])\n",
    "A"
   ]
  },
  {
   "cell_type": "code",
   "execution_count": 100,
   "id": "63597f66",
   "metadata": {},
   "outputs": [
    {
     "data": {
      "text/plain": [
       "array([[ 30,  36,  42],\n",
       "       [ 66,  81,  96],\n",
       "       [102, 126, 150]])"
      ]
     },
     "execution_count": 100,
     "metadata": {},
     "output_type": "execute_result"
    }
   ],
   "source": [
    "np.dot(A, A)"
   ]
  },
  {
   "cell_type": "code",
   "execution_count": 101,
   "id": "439eeeb9",
   "metadata": {},
   "outputs": [
    {
     "data": {
      "text/plain": [
       "array([[ 14,  32,  50],\n",
       "       [ 32,  77, 122],\n",
       "       [ 50, 122, 194]])"
      ]
     },
     "execution_count": 101,
     "metadata": {},
     "output_type": "execute_result"
    }
   ],
   "source": [
    "np.dot(A, A.T)"
   ]
  },
  {
   "cell_type": "code",
   "execution_count": null,
   "id": "a7ebe3f8",
   "metadata": {},
   "outputs": [],
   "source": [
    "M = np.matrix(A)\n",
    "v = np.matrix(v1).T # make it a column vector"
   ]
  },
  {
   "cell_type": "code",
   "execution_count": null,
   "id": "71e6b744",
   "metadata": {},
   "outputs": [],
   "source": [
    "M"
   ]
  },
  {
   "cell_type": "code",
   "execution_count": 102,
   "id": "975a48cd",
   "metadata": {},
   "outputs": [
    {
     "data": {
      "text/plain": [
       "array([ 1,  2,  3,  4,  5,  6,  7,  8,  9, 10])"
      ]
     },
     "execution_count": 102,
     "metadata": {},
     "output_type": "execute_result"
    }
   ],
   "source": [
    "v"
   ]
  },
  {
   "cell_type": "code",
   "execution_count": 103,
   "id": "11c53375",
   "metadata": {},
   "outputs": [
    {
     "data": {
      "text/plain": [
       "array([  1,   4,   9,  16,  25,  36,  49,  64,  81, 100])"
      ]
     },
     "execution_count": 103,
     "metadata": {},
     "output_type": "execute_result"
    }
   ],
   "source": [
    "# Inner product\n",
    "v.T * v"
   ]
  },
  {
   "cell_type": "code",
   "execution_count": 104,
   "id": "1e74c970",
   "metadata": {},
   "outputs": [
    {
     "data": {
      "text/plain": [
       "array([  1,   4,   9,  16,  25,  36,  49,  64,  81, 100])"
      ]
     },
     "execution_count": 104,
     "metadata": {},
     "output_type": "execute_result"
    }
   ],
   "source": [
    "# Outer product\n",
    "v * v.T"
   ]
  },
  {
   "cell_type": "markdown",
   "id": "ec1fcd86",
   "metadata": {},
   "source": [
    "#### Matrix Computations"
   ]
  },
  {
   "cell_type": "code",
   "execution_count": 105,
   "id": "092abad2",
   "metadata": {},
   "outputs": [
    {
     "data": {
      "text/plain": [
       "array([[1, 2, 3],\n",
       "       [4, 5, 6],\n",
       "       [7, 8, 9]])"
      ]
     },
     "execution_count": 105,
     "metadata": {},
     "output_type": "execute_result"
    }
   ],
   "source": [
    "M = np.array([\n",
    "    [1,2,3],\n",
    "    [4,5,6],\n",
    "    [7,8,9]\n",
    "])\n",
    "M"
   ]
  },
  {
   "cell_type": "code",
   "execution_count": 106,
   "id": "eb5609c2",
   "metadata": {},
   "outputs": [
    {
     "data": {
      "text/plain": [
       "array([[ 3.15251974e+15, -6.30503948e+15,  3.15251974e+15],\n",
       "       [-6.30503948e+15,  1.26100790e+16, -6.30503948e+15],\n",
       "       [ 3.15251974e+15, -6.30503948e+15,  3.15251974e+15]])"
      ]
     },
     "execution_count": 106,
     "metadata": {},
     "output_type": "execute_result"
    }
   ],
   "source": [
    "# Inverse\n",
    "I = np.linalg.inv(M) # equivalent to C.I\n",
    "I"
   ]
  },
  {
   "cell_type": "code",
   "execution_count": 107,
   "id": "84bc201d",
   "metadata": {},
   "outputs": [
    {
     "data": {
      "text/plain": [
       "-9.51619735392994e-16"
      ]
     },
     "execution_count": 107,
     "metadata": {},
     "output_type": "execute_result"
    }
   ],
   "source": [
    "# Determinant\n",
    "D = np.linalg.det(M)\n",
    "D"
   ]
  },
  {
   "cell_type": "markdown",
   "id": "3147c4e7",
   "metadata": {},
   "source": [
    "#### Calculations with higher dimensional data"
   ]
  },
  {
   "cell_type": "code",
   "execution_count": 108,
   "id": "9746593b",
   "metadata": {},
   "outputs": [
    {
     "data": {
      "text/plain": [
       "array([[0.9116188 , 0.13719751, 0.83926211],\n",
       "       [0.19055781, 0.65350431, 0.32737792],\n",
       "       [0.56837704, 0.2109388 , 0.19274015]])"
      ]
     },
     "execution_count": 108,
     "metadata": {},
     "output_type": "execute_result"
    }
   ],
   "source": [
    "M = random.rand(3,3)\n",
    "M"
   ]
  },
  {
   "cell_type": "code",
   "execution_count": 109,
   "id": "5c4ba467",
   "metadata": {},
   "outputs": [
    {
     "data": {
      "text/plain": [
       "0.9116187963881484"
      ]
     },
     "execution_count": 109,
     "metadata": {},
     "output_type": "execute_result"
    }
   ],
   "source": [
    "# Global max\n",
    "M.max()"
   ]
  },
  {
   "cell_type": "code",
   "execution_count": 110,
   "id": "51f45a7d",
   "metadata": {},
   "outputs": [
    {
     "data": {
      "text/plain": [
       "array([0.9116188 , 0.65350431, 0.83926211])"
      ]
     },
     "execution_count": 110,
     "metadata": {},
     "output_type": "execute_result"
    }
   ],
   "source": [
    "# Max in each column\n",
    "M.max(axis=0)"
   ]
  },
  {
   "cell_type": "code",
   "execution_count": 112,
   "id": "481dc9d6",
   "metadata": {},
   "outputs": [
    {
     "data": {
      "text/plain": [
       "array([0.9116188 , 0.65350431, 0.56837704])"
      ]
     },
     "execution_count": 112,
     "metadata": {},
     "output_type": "execute_result"
    }
   ],
   "source": [
    "# Max in each row\n",
    "M.max(axis=1)"
   ]
  },
  {
   "cell_type": "markdown",
   "id": "12dbbb1f",
   "metadata": {},
   "source": [
    "<p style=\"color: red; font-size: 20pt; margin: 2%;\"><b>5. Reshaping, Resizing and Stacking arrays</b></p>"
   ]
  },
  {
   "cell_type": "code",
   "execution_count": 114,
   "id": "ff8e6968",
   "metadata": {},
   "outputs": [
    {
     "data": {
      "text/plain": [
       "array([ 1,  2,  3,  4,  5,  6,  7,  8,  9, 10])"
      ]
     },
     "execution_count": 114,
     "metadata": {},
     "output_type": "execute_result"
    }
   ],
   "source": [
    "v = np.array([1,2,3,4,5,6,7,8,9,10])\n",
    "v"
   ]
  },
  {
   "cell_type": "code",
   "execution_count": 115,
   "id": "a153990a",
   "metadata": {},
   "outputs": [
    {
     "data": {
      "text/plain": [
       "array([[ 1,  2,  3,  4,  5],\n",
       "       [ 6,  7,  8,  9, 10]])"
      ]
     },
     "execution_count": 115,
     "metadata": {},
     "output_type": "execute_result"
    }
   ],
   "source": [
    "v.reshape(2,5)"
   ]
  },
  {
   "cell_type": "code",
   "execution_count": 116,
   "id": "6e4e6a3b",
   "metadata": {},
   "outputs": [
    {
     "data": {
      "text/plain": [
       "array([[ 1,  2],\n",
       "       [ 3,  4],\n",
       "       [ 5,  6],\n",
       "       [ 7,  8],\n",
       "       [ 9, 10]])"
      ]
     },
     "execution_count": 116,
     "metadata": {},
     "output_type": "execute_result"
    }
   ],
   "source": [
    "v.reshape(5,2)"
   ]
  },
  {
   "cell_type": "code",
   "execution_count": 117,
   "id": "3571c44d",
   "metadata": {},
   "outputs": [
    {
     "ename": "ValueError",
     "evalue": "cannot reshape array of size 10 into shape (4,2)",
     "output_type": "error",
     "traceback": [
      "\u001b[0;31m---------------------------------------------------------------------------\u001b[0m",
      "\u001b[0;31mValueError\u001b[0m                                Traceback (most recent call last)",
      "\u001b[0;32m/var/folders/pb/r59cpd1n6_92ml2jcn5bhnqr0000gn/T/ipykernel_2463/3666680388.py\u001b[0m in \u001b[0;36m<module>\u001b[0;34m\u001b[0m\n\u001b[0;32m----> 1\u001b[0;31m \u001b[0mv\u001b[0m\u001b[0;34m.\u001b[0m\u001b[0mreshape\u001b[0m\u001b[0;34m(\u001b[0m\u001b[0;36m4\u001b[0m\u001b[0;34m,\u001b[0m\u001b[0;36m2\u001b[0m\u001b[0;34m)\u001b[0m\u001b[0;34m\u001b[0m\u001b[0;34m\u001b[0m\u001b[0m\n\u001b[0m",
      "\u001b[0;31mValueError\u001b[0m: cannot reshape array of size 10 into shape (4,2)"
     ]
    }
   ],
   "source": [
    "v.reshape(4,2)"
   ]
  },
  {
   "cell_type": "code",
   "execution_count": null,
   "id": "856aa9b4",
   "metadata": {},
   "outputs": [],
   "source": []
  }
 ],
 "metadata": {
  "kernelspec": {
   "display_name": "Python 3",
   "language": "python",
   "name": "python3"
  },
  "language_info": {
   "codemirror_mode": {
    "name": "ipython",
    "version": 3
   },
   "file_extension": ".py",
   "mimetype": "text/x-python",
   "name": "python",
   "nbconvert_exporter": "python",
   "pygments_lexer": "ipython3",
   "version": "3.11.2"
  },
  "vscode": {
   "interpreter": {
    "hash": "2a5e0e52a088b649155d4b0d7a1390d71c1fe55bd07b067cd7bff3efb10bcdcf"
   }
  }
 },
 "nbformat": 4,
 "nbformat_minor": 5
}
