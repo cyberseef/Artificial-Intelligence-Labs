{
  "cells": [
    {
      "attachments": {},
      "cell_type": "markdown",
      "id": "WmgfsiAjzLK8",
      "metadata": {
        "id": "WmgfsiAjzLK8"
      },
      "source": [
        "**Submission Guidelines:**\n",
        "1. Please submit both a `soft copy and a hard copy` of your assignment along with a `report` by the specified deadline. Any submissions after the deadline will incur a penalty in the form of mark deduction.\n",
        "2. Please ensure that your document contains your roll numbers, names, and section clearly. To fill in the naming cell, double-click on it and enter your details.\n",
        "3. Create a folder and place your `notebook (.ipynb)` and the `report (.docx)` files inside it. Name the folder and the files according to the following format: RollNumber_Name_Section. For example, Folder: `20i-7777_Joseph_BCY(T)`, NoteBook: `20i-7777_Joseph_BCY(T).ipynb` and Report: `20i-7777_Joseph_BCY(T).docx`.\n",
        "4. You are encouraged to work on each task of the assignment independently or in a **group of no more than two persons**.\n",
        "5. No extensions or resubmissions will be granted after the submission deadline.\n",
        "6. The soft copy of your submission **MUST NOT** be photos of the hard copy.\n",
        "7. For the report submission, please follow these guidelines:\n",
        "    - Your report should have at least three sections: Introduction, Experimentation Explained, Conclusion\n",
        "    - Your report should include visual aids to show comparison between the algorithms\n",
        "    - Font-size: 12, \n",
        "    - Font-Family: Times New Roman,\n",
        "    - Line-Spacing: 1.5pt\n",
        "\n",
        "By adhering to these submission guidelines, you can ensure that your assignment is properly submitted and evaluated. Failure to comply with these guidelines may result in mark deduction or other penalties.\n",
        "<h4 style='color: red'><br>Deadline: 11:59 PM, 6th-April-2023</h4>"
      ]
    },
    {
      "attachments": {},
      "cell_type": "markdown",
      "id": "_AWVi1N1zLK-",
      "metadata": {
        "id": "_AWVi1N1zLK-"
      },
      "source": [
        "<pre>Student1: \n",
        "\n",
        "Student2:\n",
        "    </pre>"
      ]
    },
    {
      "attachments": {},
      "cell_type": "markdown",
      "id": "Qhrl1o-MzLK_",
      "metadata": {
        "id": "Qhrl1o-MzLK_"
      },
      "source": [
        "<h1 style='text-align: center'>ASSIGNMENT#02</h1>\n",
        "<h1 style='text-align: center'>Genetic Algorithm for <b>The Rabbit and Carrot</b> game on a grid</h1>"
      ]
    },
    {
      "attachments": {},
      "cell_type": "markdown",
      "id": "L-yTTJIIzLK_",
      "metadata": {
        "id": "L-yTTJIIzLK_"
      },
      "source": [
        "**Assignment Statement:**\n",
        "\n",
        "You are given a board game where a rabbit has to collect as many carrots as possible on the board. The board has different types of cells, such as empty cells, carrot cells, obstacle cells, and trap cells. Consider the rabbit can move in four directions: up, down, left, and right. Additionally, the rabbit has a limited number of moves and a limited amount of energy. The rabbit loses energy when it moves or hits an obstacle. The rabbit gains energy when it eats a carrot. The rabbit dies if it runs out of energy or falls into a trap.\n",
        "\n",
        "Your task is to design and implement an algorithm to solve this game: a `genetic algorithm`. You should explain your approach clearly and justify your choices of parameters, operators, constraints, or heuristics. You should also provide a critical analysis of the algorithms, pros and cons, performance metrics, strengths and weaknesses, with previously implement `BFS`, `DFS` and `A*` and their suitability for this game.\n",
        "\n",
        "You should submit your code and a report that documents your algorithms and your analysis. Your report should follow the submission guidelines provided by the instructor. Your code should be well-commented and readable.\n",
        "\n",
        "This assignment will test your understanding of genetic algorithm, as well as your ability to apply it to a real-world problem. You will also demonstrate your skills in problem-solving, programming, and writing.\n",
        "\n",
        "**Input:**\n",
        "The input for the game is a board that represents the environment where the rabbit and the carrots are located. The board is a two-dimensional grid of cells, where each cell can have one of four types: empty, carrot, obstacle, or trap. The board also specifies the initial position and direction of the rabbit, as well as the number of moves and the amount of energy that the rabbit has. The input can be given as a text file, a graphical user interface, or any other suitable format.\n",
        "\n",
        "**Outputs:**\n",
        "The output for the game is a sequence of actions that the rabbit should take to collect as many carrots as possible on the board. Each action can be one of four types: move up, move down, move left, or move right. The output also shows the final state of the board, the rabbit, and the carrots after executing the actions. The output can be displayed as a text file, a graphical user interface, or any other suitable format."
      ]
    },
    {
      "attachments": {},
      "cell_type": "markdown",
      "id": "tp-XfsM1zLLA",
      "metadata": {
        "id": "tp-XfsM1zLLA"
      },
      "source": [
        "### Importing Necessary Imports"
      ]
    },
    {
      "cell_type": "code",
      "execution_count": 1,
      "id": "F3EHWVAizLLA",
      "metadata": {
        "id": "F3EHWVAizLLA"
      },
      "outputs": [],
      "source": [
        "# Import random module\n",
        "import random"
      ]
    },
    {
      "attachments": {},
      "cell_type": "markdown",
      "id": "C0dhTcnKzLLB",
      "metadata": {
        "id": "C0dhTcnKzLLB"
      },
      "source": [
        "### Initializing Base Variables"
      ]
    },
    {
      "cell_type": "code",
      "execution_count": 2,
      "id": "my7_YvXLzLLB",
      "metadata": {
        "id": "my7_YvXLzLLB"
      },
      "outputs": [],
      "source": [
        "# Define the cell types\n",
        "EMPTY = 0\n",
        "CARROT = 1\n",
        "OBSTACLE = 2\n",
        "TRAP = 3\n",
        "\n",
        "# Define the action types\n",
        "UP = 0\n",
        "DOWN = 1\n",
        "LEFT = 2\n",
        "RIGHT = 3\n",
        "\n",
        "# Define the board size\n",
        "ROWS = 5\n",
        "COLS = 5\n",
        "\n",
        "# Define the initial number of moves and energy for the rabbit\n",
        "MOVES = 20\n",
        "ENERGY = 10"
      ]
    },
    {
      "attachments": {},
      "cell_type": "markdown",
      "id": "o93EvkFmzLLB",
      "metadata": {
        "id": "o93EvkFmzLLB"
      },
      "source": [
        "### User-Defined Functions"
      ]
    },
    {
      "cell_type": "code",
      "execution_count": 3,
      "id": "E1UIrAgkzLLB",
      "metadata": {
        "id": "E1UIrAgkzLLB"
      },
      "outputs": [],
      "source": [
        "# Generate a random board with the given cell types and probabilities\n",
        "def generate_board():\n",
        "    board = []\n",
        "    for i in range(ROWS):\n",
        "        row = []\n",
        "        for j in range(COLS):\n",
        "            cell = random.choices([EMPTY, CARROT, OBSTACLE, TRAP], weights=[0.6, 0.2, 0.1, 0.1])[0]\n",
        "            row.append(cell)\n",
        "        board.append(row)\n",
        "    return board"
      ]
    },
    {
      "cell_type": "code",
      "execution_count": 4,
      "id": "KHhVwe04zLLB",
      "metadata": {
        "id": "KHhVwe04zLLB"
      },
      "outputs": [],
      "source": [
        "# Display the board in a 2D way with symbols for each cell type\n",
        "def display_board(board):\n",
        "    symbols = {EMPTY: \".\", CARROT: \"C\", OBSTACLE: \"O\", TRAP: \"T\"}\n",
        "    for i in range(ROWS):\n",
        "        for j in range(COLS):\n",
        "            print(symbols[board[i][j]], end=\" \")\n",
        "        print()\n",
        "    print()"
      ]
    },
    {
      "cell_type": "code",
      "execution_count": 5,
      "id": "hWloOdpZzLLC",
      "metadata": {
        "id": "hWloOdpZzLLC"
      },
      "outputs": [],
      "source": [
        "# Generate a random initial position and direction for the rabbit\n",
        "def generate_rabbit():\n",
        "    x = random.randint(0, ROWS - 1)\n",
        "    y = random.randint(0, COLS - 1)\n",
        "    direction = random.randint(0, 3)\n",
        "    return x, y, direction"
      ]
    },
    {
      "cell_type": "code",
      "execution_count": 6,
      "id": "k8f5ZkDYzLLC",
      "metadata": {
        "id": "k8f5ZkDYzLLC"
      },
      "outputs": [],
      "source": [
        "# Display the rabbit's position, direction, moves, and energy\n",
        "def display_rabbit(x, y, direction, moves, energy):\n",
        "    directions = {UP: \"↑\", DOWN: \"↓\", LEFT: \"←\", RIGHT: \"→\"}\n",
        "    print(f\"Rabbit's position: ({x}, {y})\")\n",
        "    print(f\"Rabbit's direction: {directions[direction]}\")\n",
        "    print(f\"Rabbit's moves left: {moves}\")\n",
        "    print(f\"Rabbit's energy: {energy}\")\n",
        "    print()"
      ]
    },
    {
      "cell_type": "code",
      "execution_count": 7,
      "id": "8k8PiiDDzLLC",
      "metadata": {
        "colab": {
          "base_uri": "https://localhost:8080/"
        },
        "id": "8k8PiiDDzLLC",
        "outputId": "3ce40ef4-42c1-41ed-fe63-0e37a42f7d09"
      },
      "outputs": [
        {
          "name": "stdout",
          "output_type": "stream",
          "text": [
            ". O . . C \n",
            ". . . . . \n",
            ". . . T C \n",
            ". . . . . \n",
            ". O C O C \n",
            "\n",
            "Rabbit's position: (2, 0)\n",
            "Rabbit's direction: ←\n",
            "Rabbit's moves left: 20\n",
            "Rabbit's energy: 10\n",
            "\n"
          ]
        }
      ],
      "source": [
        "# Test the code by generating and displaying a board and a rabbit\n",
        "board = generate_board()\n",
        "display_board(board)\n",
        "x, y, direction = generate_rabbit()\n",
        "display_rabbit(x, y, direction, MOVES, ENERGY)"
      ]
    },
    {
      "attachments": {},
      "cell_type": "markdown",
      "id": "M-hITw69zLLD",
      "metadata": {
        "id": "M-hITw69zLLD"
      },
      "source": [
        "<hr style=\"height:3px;border:none;color:#333;background-color:#333;\" />"
      ]
    },
    {
      "attachments": {},
      "cell_type": "markdown",
      "id": "HWjH-CIGzLLD",
      "metadata": {
        "id": "HWjH-CIGzLLD"
      },
      "source": [
        "## Start Your Work From Here!"
      ]
    },
    {
      "attachments": {},
      "cell_type": "markdown",
      "id": "0A-lKlRhzLLD",
      "metadata": {
        "id": "0A-lKlRhzLLD"
      },
      "source": [
        "### Solve Using Genetic Algorithm - Provide Solution in Below Cells (You Can Create Further Cells)"
      ]
    },
    {
      "cell_type": "code",
      "execution_count": 8,
      "id": "vWoNepGAzLLE",
      "metadata": {
        "colab": {
          "base_uri": "https://localhost:8080/"
        },
        "id": "vWoNepGAzLLE",
        "outputId": "688e063a-dccd-4005-ec47-d70e543ee215"
      },
      "outputs": [
        {
          "name": "stdout",
          "output_type": "stream",
          "text": [
            "C C . T . \n",
            ". . C . . \n",
            ". O T C T \n",
            "O . T . . \n",
            "T . . . C \n",
            "\n",
            "Rabbit's position: (4, 0)\n",
            "Rabbit's direction: ↑\n",
            "Rabbit's moves left: 20\n",
            "Rabbit's energy: 10\n",
            "\n",
            "Generation 1: best fitness score = 9\n",
            "Generation 2: best fitness score = 9\n",
            "Generation 3: best fitness score = 9\n",
            "Generation 4: best fitness score = 9\n",
            "Generation 5: best fitness score = 9\n",
            "Generation 6: best fitness score = 9\n",
            "Generation 7: best fitness score = 9\n",
            "Generation 8: best fitness score = 9\n",
            "Generation 9: best fitness score = 9\n",
            "Generation 10: best fitness score = 9\n",
            "Generation 11: best fitness score = 9\n",
            "Generation 12: best fitness score = 9\n",
            "Generation 13: best fitness score = 9\n",
            "Generation 14: best fitness score = 9\n",
            "Generation 15: best fitness score = 9\n",
            "Generation 16: best fitness score = 9\n",
            "Generation 17: best fitness score = 9\n",
            "Generation 18: best fitness score = 9\n",
            "Generation 19: best fitness score = 9\n",
            "Generation 20: best fitness score = 9\n",
            "Generation 21: best fitness score = 9\n",
            "Generation 22: best fitness score = 9\n",
            "Generation 23: best fitness score = 9\n",
            "Generation 24: best fitness score = 9\n",
            "Generation 25: best fitness score = 9\n",
            "Generation 26: best fitness score = 9\n",
            "Generation 27: best fitness score = 9\n",
            "Generation 28: best fitness score = 9\n",
            "Generation 29: best fitness score = 9\n",
            "Generation 30: best fitness score = 9\n",
            "Generation 31: best fitness score = 9\n",
            "Generation 32: best fitness score = 9\n",
            "Generation 33: best fitness score = 9\n",
            "Generation 34: best fitness score = 9\n",
            "Generation 35: best fitness score = 9\n",
            "Generation 36: best fitness score = 9\n",
            "Generation 37: best fitness score = 9\n",
            "Generation 38: best fitness score = 9\n",
            "Generation 39: best fitness score = 9\n",
            "Generation 40: best fitness score = 9\n",
            "Generation 41: best fitness score = 9\n",
            "Generation 42: best fitness score = 9\n",
            "Generation 43: best fitness score = 9\n",
            "Generation 44: best fitness score = 9\n",
            "Generation 45: best fitness score = 9\n",
            "Generation 46: best fitness score = 9\n",
            "Generation 47: best fitness score = 9\n",
            "Generation 48: best fitness score = 9\n",
            "Generation 49: best fitness score = 9\n",
            "Generation 50: best fitness score = 9\n",
            "Final state:\n",
            "C C . T . \n",
            ". . C . . \n",
            ". O T C T \n",
            "O . T . . \n",
            "T . . . C \n",
            "\n",
            "Rabbit's position: (2, 0)\n",
            "Rabbit's direction: 0\n",
            "Rabbit's moves left: 19\n",
            "Rabbit's energy: 7\n",
            "Number of carrots collected: 7\n",
            "Final state:\n",
            "C C . T . \n",
            ". . C . . \n",
            ". O T C T \n",
            "O . T . . \n",
            "T . . . C \n",
            "\n",
            "Rabbit's position: (1, 0)\n",
            "Rabbit's direction: 0\n",
            "Rabbit's moves left: 18\n",
            "Rabbit's energy: 6\n",
            "Number of carrots collected: 6\n",
            "Final state:\n",
            ". C . T . \n",
            ". . C . . \n",
            ". O T C T \n",
            "O . T . . \n",
            "T . . . C \n",
            "\n",
            "Rabbit's position: (0, 0)\n",
            "Rabbit's direction: 3\n",
            "Rabbit's moves left: 17\n",
            "Rabbit's energy: 7\n",
            "Number of carrots collected: 7\n",
            "Final state:\n",
            ". . . T . \n",
            ". . C . . \n",
            ". O T C T \n",
            "O . T . . \n",
            "T . . . C \n",
            "\n",
            "Rabbit's position: (0, 1)\n",
            "Rabbit's direction: 3\n",
            "Rabbit's moves left: 16\n",
            "Rabbit's energy: 8\n",
            "Number of carrots collected: 8\n",
            "Final state:\n",
            ". . . T . \n",
            ". . C . . \n",
            ". O T C T \n",
            "O . T . . \n",
            "T . . . C \n",
            "\n",
            "Rabbit's position: (0, 2)\n",
            "Rabbit's direction: 3\n",
            "Rabbit's moves left: 15\n",
            "Rabbit's energy: 7\n",
            "Number of carrots collected: 7\n"
          ]
        }
      ],
      "source": [
        "# Start your code for Genetic Algorithm here!\n",
        "# Import necessary modules\n",
        "import random\n",
        "\n",
        "# Define the cell types\n",
        "EMPTY = 0\n",
        "CARROT = 1\n",
        "OBSTACLE = 2\n",
        "TRAP = 3\n",
        "\n",
        "# Define the action types\n",
        "UP = 0\n",
        "DOWN = 1\n",
        "LEFT = 2\n",
        "RIGHT = 3\n",
        "\n",
        "# Define the board size\n",
        "ROWS = 5\n",
        "COLS = 5\n",
        "\n",
        "# Define the initial number of moves and energy for the rabbit\n",
        "MOVES = 20\n",
        "ENERGY = 10\n",
        "\n",
        "# Generate a random board with the given cell types and probabilities\n",
        "def generate_board():\n",
        "    board = []\n",
        "    for i in range(ROWS):\n",
        "        row = []\n",
        "        for j in range(COLS):\n",
        "            cell = random.choices([EMPTY, CARROT, OBSTACLE, TRAP], weights=[0.6, 0.2, 0.1, 0.1])[0]\n",
        "            row.append(cell)\n",
        "        board.append(row)\n",
        "    return board\n",
        "\n",
        "# Display the board in a 2D way with symbols for each cell type\n",
        "def display_board(board):\n",
        "    symbols = {EMPTY: \".\", CARROT: \"C\", OBSTACLE: \"O\", TRAP: \"T\"}\n",
        "    for i in range(ROWS):\n",
        "        for j in range(COLS):\n",
        "            print(symbols[board[i][j]], end=\" \")\n",
        "        print()\n",
        "    print()\n",
        "\n",
        "# Generate a random initial position and direction for the rabbit\n",
        "def generate_rabbit():\n",
        "    x = random.randint(0, ROWS - 1)\n",
        "    y = random.randint(0, COLS - 1)\n",
        "    direction = random.randint(0, 3)\n",
        "    return x, y, direction\n",
        "\n",
        "# Display the rabbit's position, direction, moves, and energy\n",
        "def display_rabbit(x, y, direction, moves, energy):\n",
        "    directions = {UP: \"↑\", DOWN: \"↓\", LEFT: \"←\", RIGHT: \"→\"}\n",
        "    print(f\"Rabbit's position: ({x}, {y})\")\n",
        "    print(f\"Rabbit's direction: {directions[direction]}\")\n",
        "    print(f\"Rabbit's moves left: {moves}\")\n",
        "    print(f\"Rabbit's energy: {energy}\")\n",
        "    print()\n",
        "# Define the fitness function to evaluate the fitness of each individual\n",
        "def fitness(individual, board, x, y, direction, moves, energy):\n",
        "    # Create a copy of the board to modify\n",
        "    board_copy = [row[:] for row in board]\n",
        "\n",
        "    # Initialize the rabbit's position and energy\n",
        "    pos_x, pos_y, pos_direction = x, y, direction\n",
        "    pos_energy = energy\n",
        "\n",
        "    # Define a dictionary to map actions to coordinates\n",
        "    actions = {UP: (-1, 0), DOWN: (1, 0), LEFT: (0, -1), RIGHT: (0, 1)}\n",
        "\n",
        "    # Define the score and flag for the fitness function\n",
        "    score = 0\n",
        "    done = False\n",
        "\n",
        "    # Iterate through the individual's genes (actions) and execute them\n",
        "    for gene in individual:\n",
        "        # If the rabbit runs out of moves or energy, stop iterating\n",
        "        if moves == 0 or pos_energy == 0:\n",
        "            done = True\n",
        "            break\n",
        "\n",
        "        # Get the next action from the individual's genes\n",
        "        action = gene % 4\n",
        "\n",
        "        # Get the next position from the action and direction\n",
        "        pos_x += actions[pos_direction][0]\n",
        "        pos_y += actions[pos_direction][1]\n",
        "\n",
        "        # Check if the next position is within the board bounds\n",
        "        if pos_x < 0 or pos_x >= ROWS or pos_y < 0 or pos_y >= COLS:\n",
        "            pos_energy -= 1\n",
        "            continue\n",
        "\n",
        "        # Check the cell type of the next position and update the rabbit's energy and score\n",
        "        if board_copy[pos_x][pos_y] == EMPTY:\n",
        "            pos_energy -= 1\n",
        "        elif board_copy[pos_x][pos_y] == CARROT:\n",
        "            pos_energy += 1\n",
        "            score += 1\n",
        "            board_copy[pos_x][pos_y] = EMPTY # update the board\n",
        "        elif board_copy[pos_x][pos_y] == OBSTACLE:\n",
        "            pos_energy -= 2\n",
        "            continue\n",
        "        elif board_copy[pos_x][pos_y] == TRAP:\n",
        "            done = True\n",
        "            break\n",
        "\n",
        "        # Update the rabbit's direction if necessary\n",
        "        if action == LEFT:\n",
        "            pos_direction = (pos_direction + 3) % 4\n",
        "        elif action == RIGHT:\n",
        "            pos_direction = (pos_direction + 1) % 4\n",
        "\n",
        "        # Decrease the remaining moves by 1\n",
        "        moves -= 1\n",
        "\n",
        "    # Add the remaining energy as a bonus to the score\n",
        "    score += pos_energy\n",
        "\n",
        "    # If the rabbit didn't die but still has moves left, subtract the remaining moves from the score\n",
        "    if not done and moves > 0:\n",
        "        score -= moves\n",
        "\n",
        "    # Return the score as the fitness value\n",
        "    return score\n",
        "\n",
        "def genetic_algorithm(board, x, y, direction, moves, energy, population_size=100, num_generations=50, mutation_rate=0.1):\n",
        "    # Initialize the population with random individuals\n",
        "    population = []\n",
        "    for i in range(population_size):\n",
        "        individual = [random.randint(0, 3) for j in range(moves)]\n",
        "        population.append(individual)\n",
        "\n",
        "    # Iterate through the generations\n",
        "    for generation in range(num_generations):\n",
        "        # Evaluate the fitness of each individual in the population\n",
        "        fitness_scores = []\n",
        "        for individual in population:\n",
        "            fitness_score = fitness(individual, board, x, y, direction, moves, energy)\n",
        "            fitness_scores.append(fitness_score)\n",
        "\n",
        "        # Select the best individuals for reproduction\n",
        "        elite_size = int(population_size * 0.1)\n",
        "        elites = sorted(range(len(fitness_scores)), key=lambda k: fitness_scores[k], reverse=True)[:elite_size]\n",
        "        parents = [population[i] for i in elites]\n",
        "\n",
        "        # Generate offspring by crossover and mutation\n",
        "        offspring = []\n",
        "        while len(offspring) < population_size - elite_size:\n",
        "            # Select two parents randomly from the parents pool\n",
        "            parent1, parent2 = random.sample(parents, 2)\n",
        "\n",
        "            # Perform crossover by randomly selecting a pivot point and swapping the genes\n",
        "            pivot = random.randint(0, moves - 1)\n",
        "            child = parent1[:pivot] + parent2[pivot:]\n",
        "\n",
        "            # Perform mutation by randomly selecting a gene and replacing it with a random action\n",
        "            for i in range(moves):\n",
        "                if random.random() < mutation_rate:\n",
        "                    child[i] = random.randint(0, 3)\n",
        "\n",
        "            # Add the child to the offspring pool\n",
        "            offspring.append(child)\n",
        "\n",
        "        # Replace the old population with the new population (elites + offspring)\n",
        "        population = [population[i] for i in elites] + offspring\n",
        "\n",
        "        # Print the best fitness score in this generation\n",
        "        best_fitness_score = max(fitness_scores)\n",
        "        print(f\"Generation {generation + 1}: best fitness score = {best_fitness_score}\")\n",
        "\n",
        "    # Select the best individual as the solution\n",
        "    best_individual_index = fitness_scores.index(max(fitness_scores))\n",
        "    best_individual = population[best_individual_index]\n",
        "\n",
        "    # Define a dictionary to map actions to coordinates\n",
        "    actions = {UP: (-1, 0), DOWN: (1, 0), LEFT: (0, -1), RIGHT: (0, 1)}\n",
        "\n",
        "    pos_x, pos_y, pos_direction = x, y, direction\n",
        "    pos_energy = energy\n",
        "\n",
        "    # Iterate through the best individual's genes (actions) and execute them\n",
        "    for gene in best_individual:\n",
        "        # Get the next action from the individual's genes\n",
        "        action = gene % 4\n",
        "\n",
        "        # Get the next position from the action and direction\n",
        "        pos_x += actions[pos_direction][0]\n",
        "        pos_y += actions[pos_direction][1]\n",
        "\n",
        "        # Check if the next position is within the board bounds\n",
        "        if pos_x < 0 or pos_x >= ROWS or pos_y < 0 or pos_y >= COLS:\n",
        "            pos_energy -= 1\n",
        "            continue\n",
        "\n",
        "        # Check the cell type of the next position and update the rabbit's energy and score\n",
        "        if board[pos_x][pos_y] == EMPTY:\n",
        "            pos_energy -= 1\n",
        "        elif board[pos_x][pos_y] == CARROT:\n",
        "            pos_energy += 1\n",
        "            board[pos_x][pos_y] = EMPTY\n",
        "        elif board[pos_x][pos_y] == OBSTACLE:\n",
        "            pos_energy -= 2\n",
        "            continue\n",
        "        elif board[pos_x][pos_y] == TRAP:\n",
        "            break\n",
        "\n",
        "        if action == LEFT:\n",
        "          pos_direction = (pos_direction + 3) % 4\n",
        "        elif action == RIGHT:\n",
        "          pos_direction = (pos_direction + 1) % 4\n",
        "\n",
        "        # Decrease the remaining moves by 1\n",
        "        moves -= 1\n",
        "\n",
        "        # Add the remaining energy as a bonus to the score\n",
        "        score = pos_energy\n",
        "\n",
        "\n",
        "        # Print the final state of the board, rabbit, and carrots\n",
        "        print(\"Final state:\")\n",
        "        display_board(board)\n",
        "        print(f\"Rabbit's position: ({pos_x}, {pos_y})\")\n",
        "        print(f\"Rabbit's direction: {list(actions.keys())[list(actions.values()).index(actions[pos_direction])]}\")\n",
        "        print(f\"Rabbit's moves left: {moves}\")\n",
        "        print(f\"Rabbit's energy: {pos_energy}\")\n",
        "        print(f\"Number of carrots collected: {score}\")\n",
        "\n",
        "board = generate_board()\n",
        "display_board(board)\n",
        "x, y, direction = generate_rabbit()\n",
        "display_rabbit(x, y, direction, MOVES, ENERGY)\n",
        "genetic_algorithm(board, x, y, direction, MOVES, ENERGY)\n"
      ]
    },
    {
      "attachments": {},
      "cell_type": "markdown",
      "id": "XwD4BjxHzLLE",
      "metadata": {
        "id": "XwD4BjxHzLLE"
      },
      "source": [
        "<hr style=\"height:1px;border:none;color:#333;background-color:#333;\" />"
      ]
    }
  ],
  "metadata": {
    "colab": {
      "provenance": []
    },
    "kernelspec": {
      "display_name": "Python 3",
      "language": "python",
      "name": "python3"
    },
    "language_info": {
      "codemirror_mode": {
        "name": "ipython",
        "version": 3
      },
      "file_extension": ".py",
      "mimetype": "text/x-python",
      "name": "python",
      "nbconvert_exporter": "python",
      "pygments_lexer": "ipython3",
      "version": "3.11.2"
    }
  },
  "nbformat": 4,
  "nbformat_minor": 5
}
