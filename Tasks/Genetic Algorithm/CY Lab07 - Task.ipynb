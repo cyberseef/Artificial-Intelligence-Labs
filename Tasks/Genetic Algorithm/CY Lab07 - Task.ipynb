{
 "cells": [
  {
   "cell_type": "markdown",
   "metadata": {},
   "source": [
    "<h1 style='text-align: center;'>Lab07: Genetic Algorithm</h1>"
   ]
  },
  {
   "cell_type": "code",
   "execution_count": 1,
   "metadata": {},
   "outputs": [],
   "source": [
    "# Importing random module to generate random numbers and turtle module to draw the game\n",
    "from random import randint, sample\n",
    "from turtle import Screen, Turtle"
   ]
  },
  {
   "cell_type": "code",
   "execution_count": 2,
   "metadata": {},
   "outputs": [],
   "source": [
    "# Provide a list to this function and it will print the shapes based on the numbers present in the list in a nice format\n",
    "# Don't make changes to this function\n",
    "def draw_polygon(generation):\n",
    "    window = Screen()\n",
    "    window.title('Genetic Algorithm')\n",
    "    window.screensize(600, 400, bg='black')\n",
    "    window.colormode(255)\n",
    "    draw = Turtle()\n",
    "    draw.hideturtle()\n",
    "    draw.pencolor('white')\n",
    "    draw.speed(8)\n",
    "    def draw_the_shape(optima):\n",
    "        angles = 360 / optima\n",
    "        draw.pendown()\n",
    "        for i in range(optima):\n",
    "            if optima <= 5:\n",
    "                draw.forward(25)\n",
    "            elif optima <= 8:\n",
    "                draw.forward(20)\n",
    "            elif optima <= 10:\n",
    "                draw.forward(14)\n",
    "            elif optima <= 15:\n",
    "                draw.forward(10)\n",
    "            draw.left(angles)\n",
    "    x, y = 0, 0\n",
    "    for i in generation:\n",
    "        x, y = randint(-300, 200), randint(-300, 200)\n",
    "        r, g, b = randint(0, 255), randint(0, 255), randint(0, 255)\n",
    "        draw.pencolor(r,g,b)\n",
    "        draw.penup()\n",
    "        draw.goto(x,y)\n",
    "        draw_the_shape(i)\n",
    "    draw.penup()\n",
    "    draw.goto(x-10,y-12)\n",
    "    draw.write(\"Final Shape\")\n",
    "    window.mainloop()"
   ]
  },
  {
   "cell_type": "code",
   "execution_count": 3,
   "metadata": {},
   "outputs": [],
   "source": [
    "# Restart the kernel everytime you run the draw_polygon function\n",
    "# Sample shape drawing but make sure to restart kernal after printing all the shapes\n",
    "shapes = [5, 10, 3, 4]\n",
    "draw_polygon(shapes)"
   ]
  },
  {
   "cell_type": "code",
   "execution_count": 3,
   "metadata": {},
   "outputs": [],
   "source": [
    "# Write your code here\n",
    "class GeneticAlgorithm:\n",
    "  \n",
    "    def __init__(self, size_of_population, optimal_chromosome):\n",
    "        self.size_of_population = size_of_population\n",
    "        self.optimal_chromosome = f'{optimal_chromosome:08b}'\n",
    "        self.population = []\n",
    "  \n",
    "    def generate_population(self):\n",
    "        self.population = [f'{randint(0, 255):08b}' for i in range(self.size_of_population)]\n",
    "\n",
    "    def cross_over(self):\n",
    "        parent_1, parent_2 = sample(self.population, 2)\n",
    "        split_index = randint(0, 7)\n",
    "        child_1 = parent_1[:split_index] + parent_2[split_index:]\n",
    "        child_2 = parent_2[:split_index] + parent_1[split_index:]\n",
    "        return child_1, child_2\n",
    "\n",
    "    def mutation(self):\n",
    "        index = randint(0, 7)\n",
    "        mutated_bit = '0' if self.optimal_chromosome[index] == '1' else '1'\n",
    "        mutated_chromosome = self.optimal_chromosome[:index] + mutated_bit + self.optimal_chromosome[index+1:]\n",
    "        return mutated_chromosome\n",
    "\n",
    "    def fitness_check(self):\n",
    "        fitness_scores = [sum(1 for i in range(8) if chromosome[i] == self.optimal_chromosome[i]) for chromosome in self.population]\n",
    "        return fitness_scores\n",
    "\n",
    "    def execute(self):\n",
    "        self.generate_population()\n",
    "        for generation in range(10):\n",
    "            print(f'Generation {generation+1}:')\n",
    "            fitness_scores = self.fitness_check()\n",
    "            for i in range(self.size_of_population):\n",
    "                parent_1_index = max(range(self.size_of_population), key=fitness_scores.__getitem__)\n",
    "                parent_1 = self.population[parent_1_index]\n",
    "                fitness_scores[parent_1_index] = -1\n",
    "                parent_2_index = max(range(self.size_of_population), key=fitness_scores.__getitem__)\n",
    "                parent_2 = self.population[parent_2_index]\n",
    "                fitness_scores[parent_2_index] = -1\n",
    "                child_1, child_2 = self.cross_over()\n",
    "                child_1 = self.mutation()\n",
    "                child_2 = self.mutation()\n",
    "                self.population[i] = child_1 if randint(0, 1) == 0 else child_2\n",
    "            print(f'Population: {self.population}')\n",
    "        return self.population\n"
   ]
  },
  {
   "cell_type": "code",
   "execution_count": 4,
   "metadata": {},
   "outputs": [
    {
     "name": "stdout",
     "output_type": "stream",
     "text": [
      "Generation 1:\n",
      "Population: ['00010011', '00010011', '00010011', '00010011', '00000111']\n",
      "Generation 2:\n",
      "Population: ['00100011', '00000001', '00001011', '00001011', '00000001']\n",
      "Generation 3:\n",
      "Population: ['00100011', '00100011', '00001011', '00010011', '00000001']\n",
      "Generation 4:\n",
      "Population: ['01000011', '00000010', '00100011', '00000001', '00000001']\n",
      "Generation 5:\n",
      "Population: ['00000010', '00000111', '10000011', '01000011', '00000001']\n",
      "Generation 6:\n",
      "Population: ['10000011', '01000011', '00000010', '00010011', '00001011']\n",
      "Generation 7:\n",
      "Population: ['00010011', '00000001', '10000011', '00000111', '00000111']\n",
      "Generation 8:\n",
      "Population: ['10000011', '00000001', '00001011', '00100011', '10000011']\n",
      "Generation 9:\n",
      "Population: ['00000010', '00000111', '00001011', '00000010', '00100011']\n",
      "Generation 10:\n",
      "Population: ['00001011', '00001011', '00000001', '00000001', '01000011']\n"
     ]
    }
   ],
   "source": [
    "# A list to store the final matured population evolved from the initial population by the genetic algorithm\n",
    "population = []\n",
    "\n",
    "# Takes in the size of the population (>1)\n",
    "size_of_population = int(input(\"Kindly enter the size of the population: \"))\n",
    "while size_of_population <= 1:\n",
    "    print(\"Try entering a bigger number.\")\n",
    "    size_of_population = int(input(\"Kindly enter the size of the population: \"))\n",
    "\n",
    "# Takes in the optimal chromosome (3~15)\n",
    "chromosome = int(input(\"Enter a number for the polygon: \"))\n",
    "while chromosome not in [3,4,5,6,7,8,9,10,11,12,13,14,15]:\n",
    "    print(\"Try entering a value between (3~15)\\n [3: Triangle, 4: Square, 5: Pentagon ... ]\")\n",
    "    chromosome = int(input(\"Enter a number for the polygon: \"))\n",
    "\n",
    "# Creates an instance of the GeneticAlgorithm class\n",
    "obj = GeneticAlgorithm(size_of_population, chromosome)\n",
    "population = obj.execute()\n",
    "\n",
    "# Converts the binary to decimal\n",
    "temporary_population = []\n",
    "for item in population:\n",
    "    temporary_population.append(int(item, 2))\n",
    "\n",
    "# Draws the final shape\n",
    "draw_polygon(temporary_population)"
   ]
  },
  {
   "cell_type": "code",
   "execution_count": null,
   "metadata": {},
   "outputs": [],
   "source": []
  }
 ],
 "metadata": {
  "kernelspec": {
   "display_name": "Python 3 (ipykernel)",
   "language": "python",
   "name": "python3"
  },
  "language_info": {
   "codemirror_mode": {
    "name": "ipython",
    "version": 3
   },
   "file_extension": ".py",
   "mimetype": "text/x-python",
   "name": "python",
   "nbconvert_exporter": "python",
   "pygments_lexer": "ipython3",
   "version": "3.11.2"
  }
 },
 "nbformat": 4,
 "nbformat_minor": 2
}
