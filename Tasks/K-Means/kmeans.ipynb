{
 "cells": [
  {
   "cell_type": "code",
   "execution_count": 5,
   "metadata": {},
   "outputs": [],
   "source": [
    "import numpy as np\n",
    "import pandas as pd\n",
    "import matplotlib.pyplot as plt"
   ]
  },
  {
   "cell_type": "code",
   "execution_count": 6,
   "metadata": {},
   "outputs": [],
   "source": [
    "class KMeans:\n",
    "    def __init__(self, k):\n",
    "        self.k = k\n",
    "        \n",
    "    def fit(self, X):\n",
    "        # Initialize k centroids randomly from the data points\n",
    "        centroids = X[np.random.choice(len(X), self.k, replace=False)]\n",
    "        \n",
    "        while True:\n",
    "            # Assign each data point to the nearest centroid\n",
    "            distances = np.linalg.norm(X[:, np.newaxis, :] - centroids, axis=2)\n",
    "            labels = np.argmin(distances, axis=1)\n",
    "            \n",
    "            # Update the centroids as the mean of the data points assigned to them\n",
    "            new_centroids = np.array([X[labels == i].mean(axis=0) for i in range(self.k)])\n",
    "            \n",
    "            # Check if the centroids have converged\n",
    "            if np.allclose(new_centroids, centroids):\n",
    "                break\n",
    "            \n",
    "            centroids = new_centroids\n",
    "        \n",
    "        self.centroids = centroids\n",
    "        self.labels = labels\n",
    "        \n",
    "        return self\n",
    "    \n",
    "    def predict(self, X):\n",
    "        distances = np.linalg.norm(X[:, np.newaxis, :] - self.centroids, axis=2)\n",
    "        labels = np.argmin(distances, axis=1)\n",
    "        return labels"
   ]
  },
  {
   "cell_type": "code",
   "execution_count": 7,
   "metadata": {},
   "outputs": [],
   "source": [
    "import os"
   ]
  },
  {
   "cell_type": "code",
   "execution_count": 9,
   "metadata": {},
   "outputs": [],
   "source": [
    "filename = os.path.join(\"Users\", \"username\", \"Documents\", \"dataset.csv\")\n",
    "\n",
    "if os.path.exists(filename):\n",
    "    # Load the dataset into a pandas dataframe\n",
    "    df = pd.read_csv(filename)\n",
    "\n",
    "    # Convert the dataframe to a numpy array\n",
    "    X = df.to_numpy()\n",
    "\n",
    "    # Instantiate the KMeans class with k=3\n",
    "    kmeans = KMeans(k=3)\n",
    "\n",
    "    # Fit the KMeans model to the data\n",
    "    kmeans.fit(X)\n",
    "\n",
    "    # Get the predicted labels for the data\n",
    "    labels = kmeans.predict(X)\n",
    "\n",
    "    # Plot the data points, color-coded by predicted cluster label\n",
    "    plt.scatter(X[:, 0], X[:, 2], c=labels, cmap='viridis')\n",
    "    plt.xlabel('Sepal Length')\n",
    "    plt.ylabel('Petal Length')\n",
    "    plt.title('K-Means Clustering Results')\n",
    "    plt.show()\n",
    "else:\n",
    "    print(f\"File {filename} not found.\")"
   ]
  },
  {
   "cell_type": "code",
   "execution_count": 11,
   "metadata": {},
   "outputs": [
    {
     "ename": "NameError",
     "evalue": "name 'X' is not defined",
     "output_type": "error",
     "traceback": [
      "\u001b[1;31m---------------------------------------------------------------------------\u001b[0m",
      "\u001b[1;31mNameError\u001b[0m                                 Traceback (most recent call last)",
      "Cell \u001b[1;32mIn[11], line 2\u001b[0m\n\u001b[0;32m      1\u001b[0m \u001b[39m# Plot the data points, color-coded by predicted cluster label\u001b[39;00m\n\u001b[1;32m----> 2\u001b[0m plt\u001b[39m.\u001b[39mscatter(X[:, \u001b[39m0\u001b[39m], X[:, \u001b[39m2\u001b[39m], c\u001b[39m=\u001b[39mlabels, cmap\u001b[39m=\u001b[39m\u001b[39m'\u001b[39m\u001b[39mviridis\u001b[39m\u001b[39m'\u001b[39m)\n\u001b[0;32m      3\u001b[0m plt\u001b[39m.\u001b[39mxlabel(\u001b[39m'\u001b[39m\u001b[39mSepal Length\u001b[39m\u001b[39m'\u001b[39m)\n\u001b[0;32m      4\u001b[0m plt\u001b[39m.\u001b[39mylabel(\u001b[39m'\u001b[39m\u001b[39mPetal Length\u001b[39m\u001b[39m'\u001b[39m)\n",
      "\u001b[1;31mNameError\u001b[0m: name 'X' is not defined"
     ]
    }
   ],
   "source": []
  }
 ],
 "metadata": {
  "kernelspec": {
   "display_name": "Python 3",
   "language": "python",
   "name": "python3"
  },
  "language_info": {
   "codemirror_mode": {
    "name": "ipython",
    "version": 3
   },
   "file_extension": ".py",
   "mimetype": "text/x-python",
   "name": "python",
   "nbconvert_exporter": "python",
   "pygments_lexer": "ipython3",
   "version": "3.11.3"
  },
  "orig_nbformat": 4
 },
 "nbformat": 4,
 "nbformat_minor": 2
}
