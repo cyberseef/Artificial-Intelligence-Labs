{
 "cells": [
  {
   "attachments": {},
   "cell_type": "markdown",
   "metadata": {},
   "source": [
    "### Necessary Imports"
   ]
  },
  {
   "cell_type": "code",
   "execution_count": 39,
   "metadata": {},
   "outputs": [],
   "source": [
    "# Import pandas and matplotlib\n",
    "import pandas as pd\n",
    "import matplotlib.pyplot as plt"
   ]
  },
  {
   "attachments": {},
   "cell_type": "markdown",
   "metadata": {},
   "source": [
    "### Reading Data"
   ]
  },
  {
   "cell_type": "code",
   "execution_count": 40,
   "metadata": {},
   "outputs": [],
   "source": [
    "# Read the dataset\n",
    "df = pd.read_csv('price-prediction.csv')"
   ]
  },
  {
   "attachments": {},
   "cell_type": "markdown",
   "metadata": {},
   "source": [
    "### Visualize Datapoints in Data"
   ]
  },
  {
   "cell_type": "code",
   "execution_count": 41,
   "metadata": {},
   "outputs": [
    {
     "data": {
      "text/plain": [
       "<matplotlib.collections.PathCollection at 0x2059db65ed0>"
      ]
     },
     "execution_count": 41,
     "metadata": {},
     "output_type": "execute_result"
    },
    {
     "data": {
      "image/png": "[encoded data removed]",
      "text/plain": [
       "<Figure size 640x480 with 1 Axes>"
      ]
     },
     "metadata": {},
     "output_type": "display_data"
    }
   ],
   "source": [
    "# Plot the dataset\n",
    "plt.scatter(df['PLOTS'], df['PRICE'])\n"
   ]
  },
  {
   "attachments": {},
   "cell_type": "markdown",
   "metadata": {},
   "source": [
    "### Some Base Functions"
   ]
  },
  {
   "cell_type": "code",
   "execution_count": 42,
   "metadata": {},
   "outputs": [],
   "source": [
    "\n",
    "def plot_data(m, b, data):\n",
    "    # Plot the data points as a scatter plot\n",
    "    plt.scatter(data['PLOTS'], data['PRICE'])\n",
    "\n",
    "    # Find min and max values in the data\n",
    "    x_min = data['PLOTS'].min()\n",
    "    x_max = data['PLOTS'].max()\n",
    "\n",
    "    # Plot the line defined by y = m * x + b\n",
    "    plt.plot([x_min, x_max], [m * x_min + b, m * x_max + b], 'r')\n",
    "\n",
    "    # Set the labels for the x and y axes\n",
    "    plt.xlabel('Plot size')\n",
    "    plt.ylabel('Price')\n",
    "\n",
    "    # Set the title for the plot\n",
    "    plt.title('Price prediction')\n",
    "\n",
    "    # Display the plot\n",
    "    plt.show()"
   ]
  },
  {
   "cell_type": "code",
   "execution_count": 43,
   "metadata": {},
   "outputs": [],
   "source": [
    "def loss_function(m, c, points):\n",
    "    # Initialize the total error to 0\n",
    "    total_error = 0\n",
    "\n",
    "    # Loop through all the points in the dataset\n",
    "    for i in range(len(points)):\n",
    "        # Get the 'x' and 'y' values of the current 'point'        \n",
    "        x = points['PLOTS'][i]\n",
    "        y = points['PRICE'][i]\n",
    "        # Calculate the error for this point and add it to the total error\n",
    "        total_error += (y - (m * x + c)) ** 2\n",
    "\n",
    "    # Return the average error for all points\n",
    "    return total_error / float(len(points))"
   ]
  },
  {
   "cell_type": "code",
   "execution_count": 44,
   "metadata": {},
   "outputs": [],
   "source": [
    "# Formula of slope: -1/N * x * (y - (m * x + b))\n",
    "# Formula of y_intercept: -1/N * (y - (m * x + b))\n",
    "def gradien_descent(current_m, current_b, points, lr):\n",
    "    # Initialize the gradients for m and b to 0\n",
    "    m_gradient = 0\n",
    "    b_gradient = 0\n",
    "    # Get the number of points in the dataset\n",
    "    N = float(len(points))\n",
    "    # Loop through all the points in the dataset\n",
    "    for i in range(len(points)):\n",
    "        # Get the 'x' and 'y' values of the current 'point'\n",
    "        x = points['PLOTS'][i]\n",
    "        y = points['PRICE'][i]\n",
    "        # Calculate the partial derivatives of the loss function with respect to m and b\n",
    "        m_gradient += -(2/N) * x * (y - ((current_m * x) + current_b))\n",
    "        b_gradient += -(2/N) * (y - ((current_m * x) + current_b))\n",
    "    # Update 'm' and 'b' using gradient descent\n",
    "    new_m = current_m - (lr * m_gradient)\n",
    "    new_b = current_b - (lr * b_gradient)\n",
    "\n",
    "    # Return the updated values of m and b\n",
    "    return [new_m, new_b]"
   ]
  },
  {
   "attachments": {},
   "cell_type": "markdown",
   "metadata": {},
   "source": [
    "### Running Script"
   ]
  },
  {
   "cell_type": "code",
   "execution_count": 45,
   "metadata": {},
   "outputs": [
    {
     "name": "stdout",
     "output_type": "stream",
     "text": [
      "4512.131822445605 28.984850737807054\n"
     ]
    }
   ],
   "source": [
    "# Initialize the values of m and b to 0\n",
    "m = 0\n",
    "b = 0\n",
    "# Set the learning rate and number of epochs for gradient descent  \n",
    "learning_rate = 0.000001\n",
    "epochs = 1000\n",
    "# Perform gradient descent for the specified number of epochs\n",
    "for i in range(epochs):\n",
    "    # Update m and b using gradient descent\n",
    "    m, b = gradien_descent(m, b, df, learning_rate)\n",
    "    # Plot the current data\n",
    "    #plot_data(m, b, df)\n",
    "# Print the final values of m and b\n",
    "print(m, b)"
   ]
  },
  {
   "attachments": {},
   "cell_type": "markdown",
   "metadata": {},
   "source": [
    "### Predicting New Data"
   ]
  },
  {
   "cell_type": "code",
   "execution_count": 46,
   "metadata": {},
   "outputs": [
    {
     "name": "stdout",
     "output_type": "stream",
     "text": [
      "Price for 170.0 size of plot should be around $:767091.3946664907\n"
     ]
    }
   ],
   "source": [
    "# Read a datapoint as 'x' from the user\n",
    "x = float(input('Enter the size of plot: '))\n",
    "# Does a prediction by calculating mx+b\n",
    "prediction = m * x + b\n",
    "# Print the prediction\n",
    "print(f'Price for {x} size of plot should be around $:{prediction}')"
   ]
  },
  {
   "attachments": {},
   "cell_type": "markdown",
   "metadata": {},
   "source": [
    "<hr>"
   ]
  }
 ],
 "metadata": {
  "kernelspec": {
   "display_name": "Python 3",
   "language": "python",
   "name": "python3"
  },
  "language_info": {
   "codemirror_mode": {
    "name": "ipython",
    "version": 3
   },
   "file_extension": ".py",
   "mimetype": "text/x-python",
   "name": "python",
   "nbconvert_exporter": "python",
   "pygments_lexer": "ipython3",
   "version": "3.11.2"
  },
  "orig_nbformat": 4,
  "vscode": {
   "interpreter": {
    "hash": "2a5e0e52a088b649155d4b0d7a1390d71c1fe55bd07b067cd7bff3efb10bcdcf"
   }
  }
 },
 "nbformat": 4,
 "nbformat_minor": 2
}
