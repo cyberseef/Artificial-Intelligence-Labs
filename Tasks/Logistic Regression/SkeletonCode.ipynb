{
 "cells": [
  {
   "attachments": {},
   "cell_type": "markdown",
   "metadata": {},
   "source": [
    "# Classification: Logistic Regression"
   ]
  },
  {
   "attachments": {},
   "cell_type": "markdown",
   "metadata": {},
   "source": [
    "<hr>"
   ]
  },
  {
   "attachments": {},
   "cell_type": "markdown",
   "metadata": {},
   "source": [
    "Steps:\n",
    "1. Loading Dataset\n",
    "2. Some Preprocessing\n",
    "3. The Logistic Function\n",
    "4. The Logistic Regression Function\n",
    "5. Testing the Accuracy of the Model\n",
    "6. User Level Predictions"
   ]
  },
  {
   "attachments": {},
   "cell_type": "markdown",
   "metadata": {},
   "source": [
    "<hr>"
   ]
  },
  {
   "attachments": {},
   "cell_type": "markdown",
   "metadata": {},
   "source": [
    "### 1. Loading Dataset"
   ]
  },
  {
   "cell_type": "code",
   "execution_count": 62,
   "metadata": {},
   "outputs": [],
   "source": [
    "# Import pandas, numpy and pyplot\n",
    "import pandas as pd\n",
    "import numpy as np\n",
    "import matplotlib.pyplot as plt"
   ]
  },
  {
   "cell_type": "code",
   "execution_count": 63,
   "metadata": {},
   "outputs": [
    {
     "name": "stdout",
     "output_type": "stream",
     "text": [
      "20\n"
     ]
    }
   ],
   "source": [
    "# Consider this a dataset\n",
    "dataset = {\n",
    "    'age': [22, 25, 47, 52, 46, 56, 55, 60, 62, 61, 18, 28, 27, 29, 49, 30, 21, 31, 44, 33],\n",
    "    'have_insurance': [0, 0, 1, 0, 1, 1, 0, 1, 1, 1, 0, 0, 0, 0, 1, 1, 0, 0, 1, 0]\n",
    "}\n",
    "\n",
    "# Create a dataframe out of the dataset given\n",
    "data = pd.DataFrame(dataset)\n",
    "\n",
    "# Print the length of the dataframe\n",
    "print(len(data))"
   ]
  },
  {
   "cell_type": "code",
   "execution_count": 64,
   "metadata": {},
   "outputs": [
    {
     "name": "stdout",
     "output_type": "stream",
     "text": [
      "   age  have_insurance\n",
      "0   22               0\n",
      "1   25               0\n",
      "2   47               1\n",
      "3   52               0\n",
      "4   46               1\n"
     ]
    }
   ],
   "source": [
    "# Print the first 5 rows of the dataframe\n",
    "print(data.head())"
   ]
  },
  {
   "cell_type": "code",
   "execution_count": 65,
   "metadata": {},
   "outputs": [
    {
     "data": {
      "text/plain": [
       "Text(0, 0.5, 'Have Insurance')"
      ]
     },
     "execution_count": 65,
     "metadata": {},
     "output_type": "execute_result"
    },
    {
     "data": {
      "image/png": "[encoded data removed]",
      "text/plain": [
       "<Figure size 640x480 with 1 Axes>"
      ]
     },
     "metadata": {},
     "output_type": "display_data"
    }
   ],
   "source": [
    "# Scatter plot the binary data (0, 1) based on age\n",
    "plt.scatter(data['age'], data['have_insurance'])\n",
    "\n",
    "# Label the x and y axis\n",
    "plt.xlabel('Age')\n",
    "plt.ylabel('Have Insurance')"
   ]
  },
  {
   "attachments": {},
   "cell_type": "markdown",
   "metadata": {},
   "source": [
    "<hr>"
   ]
  },
  {
   "attachments": {},
   "cell_type": "markdown",
   "metadata": {},
   "source": [
    "### 2. Some Preprocessing"
   ]
  },
  {
   "cell_type": "code",
   "execution_count": 66,
   "metadata": {},
   "outputs": [
    {
     "name": "stdout",
     "output_type": "stream",
     "text": [
      "16\n",
      "4\n"
     ]
    }
   ],
   "source": [
    "# Split the data into training and testing sets\n",
    "train_data = data.sample(frac=0.8, random_state=42)\n",
    "test_data = data.drop(train_data.index)\n",
    "\n",
    "# Print the length of the training and testing data\n",
    "print(len(train_data))\n",
    "print(len(test_data))"
   ]
  },
  {
   "cell_type": "code",
   "execution_count": 67,
   "metadata": {},
   "outputs": [],
   "source": [
    "# Create the design matrix X and target vector y\n",
    "X_train = train_data[['age']].values\n",
    "X_test = test_data[['age']].values\n",
    "y_train = train_data['have_insurance'].values.reshape(-1, 1)\n",
    "y_test = test_data['have_insurance'].values.reshape(-1, 1)"
   ]
  },
  {
   "attachments": {},
   "cell_type": "markdown",
   "metadata": {},
   "source": [
    "<hr>"
   ]
  },
  {
   "attachments": {},
   "cell_type": "markdown",
   "metadata": {},
   "source": [
    "### 3. The Logistic Function or Sigmoid Function\n",
    "\n",
    "$$\\sigma(z) = \\frac{1}{1 + e^{-z}}$$"
   ]
  },
  {
   "cell_type": "code",
   "execution_count": 68,
   "metadata": {},
   "outputs": [
    {
     "name": "stdout",
     "output_type": "stream",
     "text": [
      "Sigmoid(-1):    0.2689414213699951\n",
      "Sigmoid(0):     0.5\n",
      "Sigmoid(1):     0.7310585786300049\n",
      "Sigmoid(100):   1.0\n"
     ]
    }
   ],
   "source": [
    "# Define the sigmoid function\n",
    "def sigmoid(x):\n",
    "    return 1/(1+np.exp(-x))\n",
    "\n",
    "# Calling the sigmoid function\n",
    "print('Sigmoid(-1):   ',sigmoid(-1))\n",
    "print('Sigmoid(0):    ',sigmoid(0))\n",
    "print('Sigmoid(1):    ',sigmoid(1))\n",
    "print('Sigmoid(100):  ',sigmoid(100))"
   ]
  },
  {
   "attachments": {},
   "cell_type": "markdown",
   "metadata": {},
   "source": [
    "<hr>"
   ]
  },
  {
   "attachments": {},
   "cell_type": "markdown",
   "metadata": {},
   "source": [
    "### 4. The Logistic Regression Function\n",
    "Derivative wrt b: $$\\nabla_w J(w,b) = \\frac{1}{m}X^T(\\sigma(Xw + b) - y)$$\n",
    "Derivative wrt X: $$\\nabla_b J(w,b) = \\frac{1}{m}\\sum_{i=1}^m(\\sigma(Xw + b) - y)$$\n",
    "Weight updation : $$w = w - \\alpha \\nabla_w J(w,b)$$"
   ]
  },
  {
   "cell_type": "code",
   "execution_count": 69,
   "metadata": {},
   "outputs": [],
   "source": [
    "\"\"\"\n",
    "    Gradients\n",
    "    ---------\n",
    "    gradw = np.dot(X.T, (y_pred - y)) / y.shape[0]\n",
    "    gradb = np.sum(y_pred - y) / y.shape[0]\n",
    "\n",
    "    Update Parameters\n",
    "    ----------\n",
    "    w = w - lr * gradw\n",
    "    b = b - lr * gradb\n",
    "\"\"\"\n",
    "\n",
    "# Define the logistic regression function\n",
    "def logistic_regression(X, y, num_iter, lr):\n",
    "    # Initialize the parameters\n",
    "    w = np.zeros((X.shape[1], 1))\n",
    "    b = 0\n",
    "    # Loop over the number of iterations\n",
    "    for i in range(num_iter):\n",
    "        # Calculate the logits\n",
    "        logits = np.dot(X, w) + b\n",
    "        # Apply the sigmoid function to the logits\n",
    "        y_pred = sigmoid(logits)\n",
    "        # Calculate the gradient of the loss function\n",
    "        gradw = np.dot(X.T, (y_pred - y)) / y.shape[0]\n",
    "        gradb = np.sum(y_pred - y) / y.shape[0]\n",
    "        # Update the parameters\n",
    "        w = w - lr * gradw\n",
    "        b = b - lr * gradb\n",
    "        \n",
    "    # Return the parameters\n",
    "    return w, b\n",
    "    "
   ]
  },
  {
   "cell_type": "code",
   "execution_count": 70,
   "metadata": {},
   "outputs": [
    {
     "name": "stdout",
     "output_type": "stream",
     "text": [
      "Learned parameters:\n",
      "w = [[0.1442072]]\n",
      "b = -5.7829807196468215\n"
     ]
    }
   ],
   "source": [
    "# Train the logistic regression model\n",
    "w, b = logistic_regression(X_train, y_train, num_iter=10000, lr=0.01)\n",
    "\n",
    "# Print the learned parameters\n",
    "print('Learned parameters:')\n",
    "print('w =', w)\n",
    "print('b =', b)"
   ]
  },
  {
   "attachments": {},
   "cell_type": "markdown",
   "metadata": {},
   "source": [
    "<hr>"
   ]
  },
  {
   "attachments": {},
   "cell_type": "markdown",
   "metadata": {},
   "source": [
    "### 5. Testing Accuracies of the Model"
   ]
  },
  {
   "cell_type": "code",
   "execution_count": 71,
   "metadata": {},
   "outputs": [],
   "source": [
    "# Define the prediction function\n",
    "def predict(X, w, b):\n",
    "    # Calculate the logits\n",
    "    logits = np.dot(X, w) + b   \n",
    "    # Apply the sigmoid function to the logits\n",
    "    y_pred = sigmoid(logits)\n",
    "    # Convert the probabilities to binary predictions\n",
    "    y_pred = np.round(y_pred)\n",
    "    # Return the predictions\n",
    "    return y_pred"
   ]
  },
  {
   "cell_type": "code",
   "execution_count": 72,
   "metadata": {},
   "outputs": [
    {
     "name": "stdout",
     "output_type": "stream",
     "text": [
      "Train accuracy: 0.5078125\n",
      "Test accuracy: 0.5\n"
     ]
    }
   ],
   "source": [
    "# Test the logistic regression model\n",
    "accuracy_train = np.mean(np.array_equal(y_pred_train, y_train))\n",
    "accuracy_test = np.mean(np.array_equal(y_pred_test, y_test))\n",
    "\n",
    "\n",
    "# Calculate the accuracy of the logistic regression model\n",
    "accuracy_train = np.mean(y_pred_train == y_train)\n",
    "accuracy_test = np.mean(y_pred_test == y_test)\n",
    "\n",
    "print('Train accuracy:', accuracy_train)\n",
    "print('Test accuracy:', accuracy_test)"
   ]
  },
  {
   "attachments": {},
   "cell_type": "markdown",
   "metadata": {},
   "source": [
    "<hr>"
   ]
  },
  {
   "attachments": {},
   "cell_type": "markdown",
   "metadata": {},
   "source": [
    "### 6. User Level Predictions"
   ]
  },
  {
   "cell_type": "code",
   "execution_count": 73,
   "metadata": {},
   "outputs": [
    {
     "name": "stdout",
     "output_type": "stream",
     "text": [
      "The person will buy insurance\n"
     ]
    }
   ],
   "source": [
    "age = int(input(\"Enter the age: \"))\n",
    "if predict(np.array([[age]]), w, b) == 1:\n",
    "    print(\"The person will buy insurance\")\n",
    "else:\n",
    "    print(\"The person will not buy insurance\")"
   ]
  },
  {
   "attachments": {},
   "cell_type": "markdown",
   "metadata": {},
   "source": [
    "<hr>"
   ]
  }
 ],
 "metadata": {
  "kernelspec": {
   "display_name": "base",
   "language": "python",
   "name": "python3"
  },
  "language_info": {
   "codemirror_mode": {
    "name": "ipython",
    "version": 3
   },
   "file_extension": ".py",
   "mimetype": "text/x-python",
   "name": "python",
   "nbconvert_exporter": "python",
   "pygments_lexer": "ipython3",
   "version": "3.11.3"
  },
  "orig_nbformat": 4
 },
 "nbformat": 4,
 "nbformat_minor": 2
}
