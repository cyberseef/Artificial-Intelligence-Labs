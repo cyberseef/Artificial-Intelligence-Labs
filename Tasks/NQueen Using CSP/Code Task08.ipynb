{
 "cells": [
  {
   "cell_type": "code",
   "execution_count": 99,
   "metadata": {},
   "outputs": [],
   "source": [
    "import random\n"
   ]
  },
  {
   "cell_type": "code",
   "execution_count": 100,
   "metadata": {},
   "outputs": [],
   "source": [
    "\n",
    "\n",
    "def n_queen(size):\n",
    "    def is_valid(board, row, col):\n",
    "        for r, c in enumerate(board):\n",
    "            if c == col or r - c == row - col or r + c == row + col:\n",
    "                return False\n",
    "        return True\n",
    "\n",
    "    def solve(board, row):\n",
    "        if row == size:\n",
    "            return [board]\n",
    "        solutions = []\n",
    "        for col in range(size):\n",
    "            if is_valid(board, row, col):\n",
    "                solutions.extend(solve(board + [col], row + 1))\n",
    "        return solutions\n",
    "\n",
    "    return solve([], 0)\n",
    "\n",
    "\n",
    "\n",
    "\n",
    "def display_board(b):\n",
    "    n = len(b)\n",
    "    board = [['| - ' for _ in range(n)] for _ in range(n)]\n",
    "    for i, j in enumerate(b):\n",
    "        board[i][j-1] = '| Q '\n",
    "    print('-' * (4 * 4 + 1))\n",
    "    for i in range(4):\n",
    "        print(''.join(board[i]), end='|\\n')\n",
    "        print('-' * (4 * 4 + 1))\n",
    "        \n",
    "def attacking_queens(b):\n",
    "    n = len(b)\n",
    "    count = 0\n",
    "    for i in range(n):\n",
    "        for j in range(i+1, n):\n",
    "            if b[i] == b[j]:\n",
    "                count += 1\n",
    "            elif abs(b[i] - b[j]) == abs(i - j):\n",
    "                count += 1\n",
    "    return count\n",
    "\n"
   ]
  },
  {
   "cell_type": "code",
   "execution_count": 101,
   "metadata": {},
   "outputs": [
    {
     "name": "stdout",
     "output_type": "stream",
     "text": [
      "The board is [1, 2, 3, 4] and attacking queen's value is 6\n",
      "-----------------\n",
      "| Q | - | - | - |\n",
      "-----------------\n",
      "| - | Q | - | - |\n",
      "-----------------\n",
      "| - | - | Q | - |\n",
      "-----------------\n",
      "| - | - | - | Q |\n",
      "-----------------\n",
      "The board is [1, 3, 0, 2] and attacking queen's value is 0\n",
      "-----------------\n",
      "| Q | - | - | - |\n",
      "-----------------\n",
      "| - | - | Q | - |\n",
      "-----------------\n",
      "| - | - | - | Q |\n",
      "-----------------\n",
      "| - | Q | - | - |\n",
      "-----------------\n",
      "The board is [2, 0, 3, 1] and attacking queen's value is 0\n",
      "-----------------\n",
      "| - | Q | - | - |\n",
      "-----------------\n",
      "| - | - | - | Q |\n",
      "-----------------\n",
      "| - | - | Q | - |\n",
      "-----------------\n",
      "| Q | - | - | - |\n",
      "-----------------\n"
     ]
    }
   ],
   "source": [
    "board = [1, 2, 3, 4]\n",
    "print(f'The board is {board} and attacking queen\\'s value is {attacking_queens(board)}')\n",
    "display_board(board)\n",
    "size = 4\n",
    "solutions = n_queen(size)\n",
    "for sol in solutions:\n",
    "    board = [sol[i] for i in range(size)]\n",
    "    print(f'The board is {board} and attacking queen\\'s value is {attacking_queens(board)}')\n",
    "    display_board(board)"
   ]
  }
 ],
 "metadata": {
  "kernelspec": {
   "display_name": "base",
   "language": "python",
   "name": "python3"
  },
  "language_info": {
   "codemirror_mode": {
    "name": "ipython",
    "version": 3
   },
   "file_extension": ".py",
   "mimetype": "text/x-python",
   "name": "python",
   "nbconvert_exporter": "python",
   "pygments_lexer": "ipython3",
   "version": "3.11.2"
  },
  "orig_nbformat": 4
 },
 "nbformat": 4,
 "nbformat_minor": 2
}
