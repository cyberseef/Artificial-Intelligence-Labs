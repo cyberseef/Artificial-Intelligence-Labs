{
 "cells": [
  {
   "attachments": {},
   "cell_type": "markdown",
   "id": "7790fb02",
   "metadata": {},
   "source": [
    "# Introduction to PyTorch"
   ]
  },
  {
   "attachments": {},
   "cell_type": "markdown",
   "id": "ef2d9dcb",
   "metadata": {},
   "source": [
    "## 1 - Beginner's Level Fundamentals"
   ]
  },
  {
   "attachments": {},
   "cell_type": "markdown",
   "id": "7f723c6d",
   "metadata": {},
   "source": [
    "#### - Basic import and `empty(rows, cols)`"
   ]
  },
  {
   "cell_type": "code",
   "execution_count": 1,
   "id": "fcb59d10",
   "metadata": {},
   "outputs": [],
   "source": [
    "# Importing PyTorch\n",
    "import torch"
   ]
  },
  {
   "cell_type": "code",
   "execution_count": 2,
   "id": "29418b90",
   "metadata": {},
   "outputs": [
    {
     "name": "stdout",
     "output_type": "stream",
     "text": [
      "tensor([2.8023e-15])\n",
      "tensor([4.5297e-14, 4.5848e-41, 4.6380e-14])\n"
     ]
    }
   ],
   "source": [
    "# Create a tensor of an empty item - value not initialized\n",
    "x = torch.empty(1)\n",
    "print(x)\n",
    "\n",
    "# Create a tensor of three empty items - values not initialized\n",
    "x = torch.empty(3)\n",
    "print(x)"
   ]
  },
  {
   "cell_type": "code",
   "execution_count": 3,
   "id": "c430f583",
   "metadata": {},
   "outputs": [
    {
     "name": "stdout",
     "output_type": "stream",
     "text": [
      "tensor([[-1.0842e-19,  4.1382e-02,  0.0000e+00],\n",
      "        [ 1.7160e-05,  0.0000e+00,  4.1531e-02]])\n",
      "tensor([[[3.5733e-43, 0.0000e+00, 0.0000e+00],\n",
      "         [0.0000e+00, 0.0000e+00, 0.0000e+00]],\n",
      "\n",
      "        [[0.0000e+00, 0.0000e+00, 0.0000e+00],\n",
      "         [0.0000e+00, 0.0000e+00, 0.0000e+00]]])\n"
     ]
    }
   ],
   "source": [
    "# Create a 2D-tensor of empty items - values not initialized\n",
    "x = torch.empty(2,3)\n",
    "print(x)\n",
    "\n",
    "# Create a 3D-tensor of empty items - values not initialized\n",
    "x = torch.empty(2,2,3)\n",
    "print(x)"
   ]
  },
  {
   "attachments": {},
   "cell_type": "markdown",
   "id": "2d47521b",
   "metadata": {},
   "source": [
    "#### - The `torch.rand(rows, cols)` function"
   ]
  },
  {
   "cell_type": "code",
   "execution_count": 4,
   "id": "2d969b04",
   "metadata": {},
   "outputs": [
    {
     "name": "stdout",
     "output_type": "stream",
     "text": [
      "tensor([0.8437, 0.5846])\n",
      "tensor([[0.8003, 0.3046, 0.8499],\n",
      "        [0.6699, 0.6184, 0.3781],\n",
      "        [0.3774, 0.5651, 0.9609]])\n"
     ]
    }
   ],
   "source": [
    "# Create a tensor of random items\n",
    "x = torch.rand(2)\n",
    "print(x)\n",
    "\n",
    "# Create a 2D-tensor of random items\n",
    "x = torch.rand(3,3)\n",
    "print(x)"
   ]
  },
  {
   "attachments": {},
   "cell_type": "markdown",
   "id": "f0ff82fd",
   "metadata": {},
   "source": [
    "#### - The `zeros(rows, cols)` and `ones(rows, cols)` functions"
   ]
  },
  {
   "cell_type": "code",
   "execution_count": 5,
   "id": "ef5816b9",
   "metadata": {},
   "outputs": [
    {
     "name": "stdout",
     "output_type": "stream",
     "text": [
      "tensor([[0., 0., 0.],\n",
      "        [0., 0., 0.],\n",
      "        [0., 0., 0.]])\n",
      "tensor([[1., 1., 1.],\n",
      "        [1., 1., 1.],\n",
      "        [1., 1., 1.]])\n"
     ]
    }
   ],
   "source": [
    "# Create a tensor of zeros\n",
    "x = torch.zeros(3, 3)\n",
    "print(x)\n",
    "\n",
    "# and, ones\n",
    "x = torch.ones(3, 3)\n",
    "print(x)"
   ]
  },
  {
   "cell_type": "code",
   "execution_count": 6,
   "id": "aff8a2e4",
   "metadata": {},
   "outputs": [
    {
     "name": "stdout",
     "output_type": "stream",
     "text": [
      "tensor([[1., 1.],\n",
      "        [1., 1.]], dtype=torch.float16)\n"
     ]
    }
   ],
   "source": [
    "# Data type of the tensor\n",
    "x = torch.ones(2,2, dtype=torch.float16)\n",
    "print(x)"
   ]
  },
  {
   "attachments": {},
   "cell_type": "markdown",
   "id": "4fc88dd6",
   "metadata": {},
   "source": [
    "#### - Data types, the `dtype` used in PyTorch, `size()` function and creating tensor from a list `tensor( [list] )`"
   ]
  },
  {
   "cell_type": "code",
   "execution_count": 7,
   "id": "c4896adf",
   "metadata": {},
   "outputs": [
    {
     "name": "stdout",
     "output_type": "stream",
     "text": [
      "torch.float16\n",
      "torch.Size([2, 2])\n"
     ]
    }
   ],
   "source": [
    "# Tensor datatype\n",
    "print(x.dtype)\n",
    "\n",
    "# Tensor size\n",
    "print(x.size())"
   ]
  },
  {
   "cell_type": "code",
   "execution_count": 8,
   "id": "db7843d8",
   "metadata": {},
   "outputs": [
    {
     "name": "stdout",
     "output_type": "stream",
     "text": [
      "tensor([21.5200, 10.3300, 41.0000, 11.0000])\n"
     ]
    }
   ],
   "source": [
    "# Create a custom tensor from a list[]\n",
    "x = torch.tensor([21.52, 10.33, 41,11])\n",
    "print(x)"
   ]
  },
  {
   "attachments": {},
   "cell_type": "markdown",
   "id": "105e9686",
   "metadata": {},
   "source": [
    "#### - Arithmetic Operations on PyTorch Tensors"
   ]
  },
  {
   "cell_type": "code",
   "execution_count": 9,
   "id": "0239cae6",
   "metadata": {},
   "outputs": [
    {
     "name": "stdout",
     "output_type": "stream",
     "text": [
      "Tensor#1\n",
      " tensor([[0.2810, 0.6678],\n",
      "        [0.9238, 0.8507]])\n",
      "Tensor#2\n",
      " tensor([[0.8926, 0.3419],\n",
      "        [0.0118, 0.2390]])\n"
     ]
    }
   ],
   "source": [
    "# Operations on tensors\n",
    "x = torch.rand(2,2)\n",
    "y = torch.rand(2,2)\n",
    "print(\"Tensor#1\\n\",x)\n",
    "print(\"Tensor#2\\n\",y)"
   ]
  },
  {
   "cell_type": "code",
   "execution_count": 10,
   "id": "90bd71d1",
   "metadata": {},
   "outputs": [
    {
     "name": "stdout",
     "output_type": "stream",
     "text": [
      "Resultant Tensor\n",
      " tensor([[1.1737, 1.0096],\n",
      "        [0.9356, 1.0896]])\n"
     ]
    }
   ],
   "source": [
    "# Element wise addition\n",
    "z = x+y\n",
    "print(\"Resultant Tensor\\n\",z)"
   ]
  },
  {
   "cell_type": "code",
   "execution_count": 11,
   "id": "0787ca63",
   "metadata": {},
   "outputs": [
    {
     "name": "stdout",
     "output_type": "stream",
     "text": [
      "Resultant Tensor\n",
      " tensor([[1.1737, 1.0096],\n",
      "        [0.9356, 1.0896]])\n"
     ]
    }
   ],
   "source": [
    "# Also element wise addition\n",
    "z = torch.add(x, y)\n",
    "print(\"Resultant Tensor\\n\",z)"
   ]
  },
  {
   "cell_type": "code",
   "execution_count": 12,
   "id": "2bb3afcd",
   "metadata": {},
   "outputs": [
    {
     "name": "stdout",
     "output_type": "stream",
     "text": [
      "Resultant Tensor\n",
      " tensor([[1.1737, 1.0096],\n",
      "        [0.9356, 1.0896]])\n"
     ]
    }
   ],
   "source": [
    "# Also element wise addition but storing in y\n",
    "y.add_(x)\n",
    "print(\"Resultant Tensor\\n\",y)"
   ]
  },
  {
   "cell_type": "code",
   "execution_count": 13,
   "id": "12bf9e27",
   "metadata": {},
   "outputs": [],
   "source": [
    "# Arithmatic Operation\n",
    "\n",
    "# Addition\n",
    "#z = x+y\n",
    "#z = torch.add(x, y)\n",
    "#y.add_(x)\n",
    "\n",
    "# Subtraction\n",
    "#z = x-y\n",
    "#z = torch.sub(x, y)\n",
    "#y.sub_(x)\n",
    "\n",
    "# Multiplication\n",
    "#z = x*y\n",
    "#z = torch.mul(x, y)\n",
    "#y.mul_(x)\n",
    "\n",
    "# Division\n",
    "#z = x/y\n",
    "#z = torch.div(x, y)\n",
    "#y.div_(x)"
   ]
  },
  {
   "attachments": {},
   "cell_type": "markdown",
   "id": "7472e702",
   "metadata": {},
   "source": [
    "#### -  Indexing `x[0]`, Slicing `x[:2]` or `x[2:]` and Fancy Indexing `x[0, [0,1,2]]` or `x[[0,1,2], 0]`"
   ]
  },
  {
   "cell_type": "code",
   "execution_count": 14,
   "id": "d6874d5b",
   "metadata": {},
   "outputs": [
    {
     "name": "stdout",
     "output_type": "stream",
     "text": [
      "tensor([22, 44, 55, 66, 88])\n"
     ]
    }
   ],
   "source": [
    "x = torch.tensor([22,44,55,66,88])\n",
    "print(x)"
   ]
  },
  {
   "cell_type": "code",
   "execution_count": 15,
   "id": "9c3c3ea4",
   "metadata": {},
   "outputs": [
    {
     "name": "stdout",
     "output_type": "stream",
     "text": [
      "First element tensor(22)\n",
      "\n",
      "Last element tensor(88)\n",
      "\n",
      "First two elements tensor([22, 44])\n",
      "\n",
      "Elements after second item tensor([55, 66, 88])\n",
      "\n",
      "Last two elements tensor([66, 88])\n",
      "\n"
     ]
    }
   ],
   "source": [
    "# First element\n",
    "print(\"First element\", x[0], end='\\n\\n')\n",
    "\n",
    "# Last element\n",
    "print(\"Last element\", x[-1], end='\\n\\n')\n",
    "\n",
    "# First two elements\n",
    "print(\"First two elements\", x[:2], end='\\n\\n')\n",
    "\n",
    "# Elements after second item\n",
    "print(\"Elements after second item\", x[2:], end='\\n\\n')\n",
    "\n",
    "# Last two elements\n",
    "print(\"Last two elements\", x[-2:], end='\\n\\n')"
   ]
  },
  {
   "cell_type": "code",
   "execution_count": 16,
   "id": "8fe5d1cd",
   "metadata": {},
   "outputs": [
    {
     "name": "stdout",
     "output_type": "stream",
     "text": [
      "tensor([[ 1,  2,  3,  4,  5],\n",
      "        [ 6,  7,  8,  9, 10],\n",
      "        [11, 12, 13, 14, 15],\n",
      "        [16, 17, 18, 19, 20],\n",
      "        [21, 22, 23, 24, 25]])\n"
     ]
    }
   ],
   "source": [
    "x = [\n",
    "    [1,   2,  3,  4,  5],\n",
    "    [6,   7,  8,  9, 10],\n",
    "    [11, 12, 13, 14, 15],\n",
    "    [16, 17, 18, 19, 20],\n",
    "    [21, 22, 23, 24, 25]\n",
    "]\n",
    "x = torch.tensor(x)\n",
    "print(x)"
   ]
  },
  {
   "cell_type": "code",
   "execution_count": 17,
   "id": "2433b078",
   "metadata": {},
   "outputs": [
    {
     "name": "stdout",
     "output_type": "stream",
     "text": [
      "First row tensor([1, 2, 3, 4, 5])\n",
      "\n",
      "Last row tensor([21, 22, 23, 24, 25])\n",
      "\n",
      "First column tensor([ 1,  6, 11, 16, 21])\n",
      "\n",
      "Last column tensor([ 5, 10, 15, 20, 25])\n",
      "\n"
     ]
    }
   ],
   "source": [
    "# First row\n",
    "print(\"First row\", x[0], end='\\n\\n')\n",
    "\n",
    "# Last row\n",
    "print(\"Last row\", x[-1], end='\\n\\n')\n",
    "\n",
    "# First column\n",
    "print(\"First column\", x[:, 0], end='\\n\\n')\n",
    "\n",
    "# Last column\n",
    "print(\"Last column\", x[:, -1], end='\\n\\n')"
   ]
  },
  {
   "cell_type": "code",
   "execution_count": 18,
   "id": "6e1861a7",
   "metadata": {},
   "outputs": [
    {
     "name": "stdout",
     "output_type": "stream",
     "text": [
      "First two elements at first row tensor([1, 2])\n",
      "\n",
      "Last two elements at first row tensor([4, 5])\n",
      "\n",
      "First two elements at last row tensor([21, 22])\n",
      "\n",
      "Last two elements at last row tensor([24, 25])\n",
      "\n"
     ]
    }
   ],
   "source": [
    "# First two elements at first row\n",
    "print(\"First two elements at first row\", x[0, [0,1]], end='\\n\\n')\n",
    "\n",
    "# Last two elements at first row\n",
    "print(\"Last two elements at first row\", x[0, [-2,-1]], end='\\n\\n')\n",
    "\n",
    "# First two elements at last row\n",
    "print(\"First two elements at last row\", x[-1, [0,1]], end='\\n\\n')\n",
    "\n",
    "# Last two elements at last row\n",
    "print(\"Last two elements at last row\", x[-1, [-2,-1]], end='\\n\\n')"
   ]
  },
  {
   "cell_type": "code",
   "execution_count": 19,
   "id": "09cd9474",
   "metadata": {},
   "outputs": [
    {
     "name": "stdout",
     "output_type": "stream",
     "text": [
      "tensor([[ 1,  2,  3,  4,  5],\n",
      "        [ 6,  7,  8,  9, 10],\n",
      "        [11, 12, 13, 14, 15],\n",
      "        [16, 17, 18, 19, 20],\n",
      "        [21, 22, 23, 24, 25]])\n"
     ]
    }
   ],
   "source": [
    "x = [\n",
    "    [1,   2,  3,  4,  5],\n",
    "    [6,   7,  8,  9, 10],\n",
    "    [11, 12, 13, 14, 15],\n",
    "    [16, 17, 18, 19, 20],\n",
    "    [21, 22, 23, 24, 25]\n",
    "]\n",
    "x = torch.tensor(x)\n",
    "print(x)"
   ]
  },
  {
   "cell_type": "code",
   "execution_count": 20,
   "id": "62654067",
   "metadata": {},
   "outputs": [
    {
     "name": "stdout",
     "output_type": "stream",
     "text": [
      "First two elements at first column tensor([1, 6])\n",
      "\n",
      "Last two elements at first column tensor([16, 21])\n",
      "\n",
      "First two elements at last column tensor([ 5, 10])\n",
      "\n",
      "Last two elements at last column tensor([20, 25])\n",
      "\n"
     ]
    }
   ],
   "source": [
    "# First two elements at first column\n",
    "print(\"First two elements at first column\", x[[0,1], 0], end='\\n\\n')\n",
    "\n",
    "# Last two elements at first column\n",
    "print(\"Last two elements at first column\", x[[-2,-1], 0], end='\\n\\n')\n",
    "\n",
    "# First two elements at last column\n",
    "print(\"First two elements at last column\", x[[0,1], -1], end='\\n\\n')\n",
    "\n",
    "# Last two elements at last column\n",
    "print(\"Last two elements at last column\", x[[-2,-1], -1], end='\\n\\n')"
   ]
  },
  {
   "cell_type": "code",
   "execution_count": 21,
   "id": "3ac18de1",
   "metadata": {},
   "outputs": [
    {
     "name": "stdout",
     "output_type": "stream",
     "text": [
      "First two elements in first two rows\n",
      " tensor([[1, 2],\n",
      "        [6, 7]])\n",
      "\n",
      "Last two elements in last two rows\n",
      " tensor([[ 4,  5],\n",
      "        [ 9, 10]])\n",
      "\n",
      "First two elements in first two columns\n",
      " tensor([[1, 2],\n",
      "        [6, 7]])\n",
      "\n",
      "Last two elements in last two columns\n",
      " tensor([[19, 20],\n",
      "        [24, 25]])\n",
      "\n"
     ]
    }
   ],
   "source": [
    "# First two elements in first two rows\n",
    "print(\"First two elements in first two rows\\n\", x[:2,[0,1]], end='\\n\\n')\n",
    "\n",
    "# Last two elements in last two rows\n",
    "print(\"Last two elements in last two rows\\n\", x[[0,1], -2:], end='\\n\\n')\n",
    "\n",
    "# First two elements in first two columns\n",
    "print(\"First two elements in first two columns\\n\", x[:2,:2], end='\\n\\n')\n",
    "\n",
    "# Last two elements in last two columns\n",
    "print(\"Last two elements in last two columns\\n\", x[-2:,-2:], end='\\n\\n')"
   ]
  },
  {
   "attachments": {},
   "cell_type": "markdown",
   "id": "3c4eea76",
   "metadata": {},
   "source": [
    "#### - The `item()` function"
   ]
  },
  {
   "cell_type": "code",
   "execution_count": 22,
   "id": "f3ce1045",
   "metadata": {},
   "outputs": [
    {
     "name": "stdout",
     "output_type": "stream",
     "text": [
      "A tensor item:  tensor(5)\n",
      "A scalar item:  5\n"
     ]
    }
   ],
   "source": [
    "# Need to print a python scalar from the tensor\n",
    "print(\"A tensor item: \", x[0,-1])\n",
    "print(\"A scalar item: \", x[0,-1].item())"
   ]
  },
  {
   "attachments": {},
   "cell_type": "markdown",
   "id": "9325f51a",
   "metadata": {},
   "source": [
    "## 2 - Intermediate Level"
   ]
  },
  {
   "attachments": {},
   "cell_type": "markdown",
   "id": "82804928",
   "metadata": {},
   "source": [
    "#### - The `reshape(rows, cols)` of numpy is `view(rows, cols)` in PyTorch"
   ]
  },
  {
   "attachments": {},
   "cell_type": "markdown",
   "id": "ca520c2e",
   "metadata": {},
   "source": [
    "#### - Telling `rows` and `cols`"
   ]
  },
  {
   "cell_type": "code",
   "execution_count": 25,
   "id": "b9e2d9bc",
   "metadata": {},
   "outputs": [
    {
     "name": "stdout",
     "output_type": "stream",
     "text": [
      "x1\n",
      " tensor([[1, 2, 3],\n",
      "        [4, 5, 6]])\n",
      "x2\n",
      " tensor([[1, 2],\n",
      "        [3, 4],\n",
      "        [5, 6]])\n"
     ]
    }
   ],
   "source": [
    "# To a higher dimension\n",
    "x = torch.tensor([1,2,3,4,5,6])\n",
    "\n",
    "# 2D dimensional tensors - telling rows and cols\n",
    "x1 = x.view(2,3)\n",
    "x2 = x.view(3,2)\n",
    "\n",
    "# Displayed\n",
    "print(\"2D - x1\\n\", x1)\n",
    "print(\"2D - x2\\n\", x2)"
   ]
  },
  {
   "attachments": {},
   "cell_type": "markdown",
   "id": "43737d32",
   "metadata": {},
   "source": [
    "#### - Just telling one `rows` or `cols` and keeping the other as `-1`"
   ]
  },
  {
   "cell_type": "code",
   "execution_count": 50,
   "id": "e6b394a6",
   "metadata": {},
   "outputs": [
    {
     "name": "stdout",
     "output_type": "stream",
     "text": [
      "1D - x\n",
      " tensor([ 1,  2,  3,  4,  5,  6,  7,  8,  9, 10, 11, 12])\n",
      "\n",
      "2D - x1\n",
      " tensor([[ 1,  2,  3],\n",
      "        [ 4,  5,  6],\n",
      "        [ 7,  8,  9],\n",
      "        [10, 11, 12]])\n",
      "2D - x2\n",
      " tensor([[ 1,  2,  3,  4,  5,  6],\n",
      "        [ 7,  8,  9, 10, 11, 12]])\n"
     ]
    }
   ],
   "source": [
    "# To a higher dimension\n",
    "x = torch.tensor([1,2,3,4,5,6,7,8,9,10,11,12])\n",
    "print(\"1D - x\\n\", x, end='\\n\\n')\n",
    "\n",
    "# 2D dimensional tensors - telling either rows or cols\n",
    "x1 = x.view(4,-1)\n",
    "x2 = x.view(-1,6)\n",
    "\n",
    "# Displayed\n",
    "print(\"2D - x1\\n\", x1)\n",
    "print(\"2D - x2\\n\", x2)"
   ]
  },
  {
   "cell_type": "code",
   "execution_count": 45,
   "id": "27171d6c",
   "metadata": {},
   "outputs": [
    {
     "name": "stdout",
     "output_type": "stream",
     "text": [
      "3D - x\n",
      " tensor([[[0.2420, 0.2802],\n",
      "         [0.0695, 0.9632],\n",
      "         [0.8461, 0.3509]],\n",
      "\n",
      "        [[0.0309, 0.6693],\n",
      "         [0.4334, 0.4676],\n",
      "         [0.7783, 0.8743]],\n",
      "\n",
      "        [[0.2934, 0.1100],\n",
      "         [0.8186, 0.3515],\n",
      "         [0.0674, 0.8360]]])\n"
     ]
    }
   ],
   "source": [
    "# A 3D tensor - to lower dimensions\n",
    "x = torch.rand(3,3,2)\n",
    "print(\"3D - x\\n\", x)"
   ]
  },
  {
   "cell_type": "code",
   "execution_count": 46,
   "id": "563d7aa8",
   "metadata": {},
   "outputs": [
    {
     "name": "stdout",
     "output_type": "stream",
     "text": [
      "2D - x1\n",
      " tensor([[0.2420, 0.2802],\n",
      "        [0.0695, 0.9632],\n",
      "        [0.8461, 0.3509],\n",
      "        [0.0309, 0.6693],\n",
      "        [0.4334, 0.4676],\n",
      "        [0.7783, 0.8743],\n",
      "        [0.2934, 0.1100],\n",
      "        [0.8186, 0.3515],\n",
      "        [0.0674, 0.8360]])\n",
      "2D - x2\n",
      " tensor([[0.2420, 0.2802, 0.0695, 0.9632, 0.8461, 0.3509],\n",
      "        [0.0309, 0.6693, 0.4334, 0.4676, 0.7783, 0.8743],\n",
      "        [0.2934, 0.1100, 0.8186, 0.3515, 0.0674, 0.8360]])\n"
     ]
    }
   ],
   "source": [
    "# Down to 2D dimensional tensors - telling either rows or cols\n",
    "x1 = x.view(9,-1)\n",
    "x2 = x.view(-1,6)\n",
    "\n",
    "# Displayed\n",
    "print(\"2D - x1\\n\", x1)\n",
    "print(\"2D - x2\\n\", x2)"
   ]
  },
  {
   "cell_type": "code",
   "execution_count": 47,
   "id": "802e0d14",
   "metadata": {},
   "outputs": [
    {
     "name": "stdout",
     "output_type": "stream",
     "text": [
      "1D - x3\n",
      " tensor([0.2420, 0.2802, 0.0695, 0.9632, 0.8461, 0.3509, 0.0309, 0.6693, 0.4334,\n",
      "        0.4676, 0.7783, 0.8743, 0.2934, 0.1100, 0.8186, 0.3515, 0.0674, 0.8360])\n"
     ]
    }
   ],
   "source": [
    "x3 = x.view(-1)\n",
    "print(\"1D - x3\\n\", x3)"
   ]
  },
  {
   "attachments": {},
   "cell_type": "markdown",
   "id": "177e3cbe",
   "metadata": {},
   "source": [
    "#### - Typecasting with `NumPy` and some `cuda` operations"
   ]
  },
  {
   "cell_type": "code",
   "execution_count": 55,
   "id": "fa705d3a",
   "metadata": {},
   "outputs": [],
   "source": [
    "import numpy as np"
   ]
  },
  {
   "cell_type": "code",
   "execution_count": 64,
   "id": "6e42fac8",
   "metadata": {},
   "outputs": [
    {
     "name": "stdout",
     "output_type": "stream",
     "text": [
      "tensor([1., 1., 1., 1., 1.]) \n",
      " <class 'torch.Tensor'>\n",
      "[1. 1. 1. 1. 1.] \n",
      " <class 'numpy.ndarray'>\n"
     ]
    }
   ],
   "source": [
    "a = torch.ones(5)\n",
    "print(a,\"\\n\",type(a))\n",
    "\n",
    "b = a.numpy()\n",
    "print(b,\"\\n\",type(b))"
   ]
  },
  {
   "cell_type": "code",
   "execution_count": 65,
   "id": "f796a3ef",
   "metadata": {},
   "outputs": [
    {
     "name": "stdout",
     "output_type": "stream",
     "text": [
      "tensor([2., 2., 2., 2., 2.])\n",
      "[2. 2. 2. 2. 2.]\n"
     ]
    }
   ],
   "source": [
    "a.add_(1)\n",
    "print(a)\n",
    "\n",
    "# Because both a and b points to the same location\n",
    "print(b)"
   ]
  },
  {
   "cell_type": "code",
   "execution_count": 73,
   "id": "8bb6f67d",
   "metadata": {},
   "outputs": [
    {
     "name": "stdout",
     "output_type": "stream",
     "text": [
      "[1. 1. 1. 1. 1.]\n",
      "tensor([1., 1., 1., 1., 1.], dtype=torch.float64)\n"
     ]
    }
   ],
   "source": [
    "a = np.ones(5)\n",
    "print(a)\n",
    "\n",
    "b = torch.from_numpy(a)\n",
    "print(b)"
   ]
  },
  {
   "cell_type": "code",
   "execution_count": 74,
   "id": "895587dd",
   "metadata": {},
   "outputs": [
    {
     "name": "stdout",
     "output_type": "stream",
     "text": [
      "[2. 2. 2. 2. 2.]\n",
      "tensor([2., 2., 2., 2., 2.], dtype=torch.float64)\n"
     ]
    }
   ],
   "source": [
    "# Both will be changed again\n",
    "a += 1\n",
    "print(a)\n",
    "print(b)"
   ]
  },
  {
   "cell_type": "code",
   "execution_count": 77,
   "id": "559af3f1",
   "metadata": {
    "scrolled": true
   },
   "outputs": [
    {
     "name": "stdout",
     "output_type": "stream",
     "text": [
      "Not available\n"
     ]
    }
   ],
   "source": [
    "if torch.cuda.is_available():\n",
    "    device = torch.device('cuda')\n",
    "    x = torch.ones(5, device=device)\n",
    "    y = torch.ones(5)\n",
    "    y = y.to(device)\n",
    "    z = x + y\n",
    "    z.to('cpu')\n",
    "else:\n",
    "    print(\"Not available\")"
   ]
  },
  {
   "attachments": {},
   "cell_type": "markdown",
   "id": "961f560f",
   "metadata": {},
   "source": [
    "#### - For optimizing a variable or a vector or a matrix, we do `requires_grad=True` when creating it - `False` by default"
   ]
  },
  {
   "cell_type": "code",
   "execution_count": 78,
   "id": "cc58ce6c",
   "metadata": {},
   "outputs": [
    {
     "name": "stdout",
     "output_type": "stream",
     "text": [
      "tensor([1., 1., 1., 1., 1.], requires_grad=True)\n"
     ]
    }
   ],
   "source": [
    "x = torch.ones(5, requires_grad=True)\n",
    "print(x)"
   ]
  }
 ],
 "metadata": {
  "kernelspec": {
   "display_name": "Python 3 (ipykernel)",
   "language": "python",
   "name": "python3"
  },
  "language_info": {
   "codemirror_mode": {
    "name": "ipython",
    "version": 3
   },
   "file_extension": ".py",
   "mimetype": "text/x-python",
   "name": "python",
   "nbconvert_exporter": "python",
   "pygments_lexer": "ipython3",
   "version": "3.9.7"
  }
 },
 "nbformat": 4,
 "nbformat_minor": 5
}
