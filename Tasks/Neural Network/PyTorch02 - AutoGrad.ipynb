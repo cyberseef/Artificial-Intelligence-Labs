{
 "cells": [
  {
   "cell_type": "code",
   "execution_count": 1,
   "id": "db6281df",
   "metadata": {},
   "outputs": [],
   "source": [
    "import torch"
   ]
  },
  {
   "cell_type": "markdown",
   "id": "bb4d0349",
   "metadata": {},
   "source": [
    "#### - The `rand(3)` means only positive randoms while the `randn(3)` includes negative randoms too"
   ]
  },
  {
   "cell_type": "code",
   "execution_count": 23,
   "id": "9b27d082",
   "metadata": {},
   "outputs": [
    {
     "name": "stdout",
     "output_type": "stream",
     "text": [
      "tensor([-0.3389,  0.7706,  1.0508], requires_grad=True)\n"
     ]
    }
   ],
   "source": [
    "x = torch.randn(3, requires_grad=True)\n",
    "print(x)"
   ]
  },
  {
   "cell_type": "code",
   "execution_count": 24,
   "id": "e2b10777",
   "metadata": {},
   "outputs": [
    {
     "name": "stdout",
     "output_type": "stream",
     "text": [
      "tensor([1.6611, 2.7706, 3.0508], grad_fn=<AddBackward0>)\n"
     ]
    }
   ],
   "source": [
    "# For addition <AddBackward>\n",
    "z1 = x + 2\n",
    "print(z1)"
   ]
  },
  {
   "cell_type": "markdown",
   "id": "d4e2112f",
   "metadata": {},
   "source": [
    "#### - A graph is maintained when `requires_grad=True` just like the following"
   ]
  },
  {
   "cell_type": "markdown",
   "id": "65a4bc1f",
   "metadata": {},
   "source": [
    "<img src=\"images/computational_graph.png\" height=\"30%\" width=\"30%\">\n",
    "<ul>"
   ]
  },
  {
   "cell_type": "code",
   "execution_count": 25,
   "id": "8f197b04",
   "metadata": {},
   "outputs": [
    {
     "name": "stdout",
     "output_type": "stream",
     "text": [
      "tensor([0.2297, 1.1875, 2.2085], grad_fn=<MulBackward0>)\n"
     ]
    }
   ],
   "source": [
    "# For multiplication <MulBackward>\n",
    "z2 = x * x * 2\n",
    "print(z2)"
   ]
  },
  {
   "cell_type": "code",
   "execution_count": 26,
   "id": "55e7213a",
   "metadata": {},
   "outputs": [
    {
     "name": "stdout",
     "output_type": "stream",
     "text": [
      "tensor(1.2086, grad_fn=<MeanBackward0>)\n"
     ]
    }
   ],
   "source": [
    "# For mean <MeanBackward>\n",
    "z3 = z2.mean()\n",
    "print(z3)"
   ]
  },
  {
   "cell_type": "code",
   "execution_count": 28,
   "id": "c6b24885",
   "metadata": {},
   "outputs": [
    {
     "name": "stdout",
     "output_type": "stream",
     "text": [
      "tensor([-0.4518,  1.0274,  1.4011])\n"
     ]
    }
   ],
   "source": [
    "# To calculate gradient\n",
    "z3.backward() #dz1/dx\n",
    "print(x.grad)"
   ]
  },
  {
   "cell_type": "markdown",
   "id": "12832b7b",
   "metadata": {},
   "source": [
    "#### - A short gradient calculation\n",
    "<ul>\n",
    "    <li>Forward Pass (Black)</li>\n",
    "    <li>Backward Pass (Red)</li>\n",
    "</ul>"
   ]
  },
  {
   "cell_type": "markdown",
   "id": "ef1d67f7",
   "metadata": {},
   "source": [
    "<img src=\"images/simple_neuralnet.png\">"
   ]
  },
  {
   "cell_type": "code",
   "execution_count": 78,
   "id": "ead0b63b",
   "metadata": {},
   "outputs": [],
   "source": [
    "# Define feature, label and weight\n",
    "x = torch.tensor(2.0)\n",
    "w = torch.tensor(1.0, requires_grad=True)\n",
    "y = torch.tensor(4.0)"
   ]
  },
  {
   "cell_type": "code",
   "execution_count": 79,
   "id": "d562f248",
   "metadata": {},
   "outputs": [
    {
     "name": "stdout",
     "output_type": "stream",
     "text": [
      "y_hat:  2.0\n",
      "loss:  4.0\n"
     ]
    }
   ],
   "source": [
    "# The forward pass and compute loss\n",
    "y_hat = w * x\n",
    "loss = (y_hat - y)**2\n",
    "print(\"y_hat: \", y_hat.item())\n",
    "print(\"loss: \", loss.item())"
   ]
  },
  {
   "cell_type": "code",
   "execution_count": 80,
   "id": "b91c6146",
   "metadata": {},
   "outputs": [],
   "source": [
    "# The backward pass and gradient computation (main with local)\n",
    "loss.backward()"
   ]
  },
  {
   "cell_type": "code",
   "execution_count": 81,
   "id": "56599e90",
   "metadata": {},
   "outputs": [
    {
     "name": "stdout",
     "output_type": "stream",
     "text": [
      "dL/dw:  -8.0\n"
     ]
    }
   ],
   "source": [
    "# The final weight derivative after gradient calculation\n",
    "print(\"dL/dw: \",w.grad.item())"
   ]
  },
  {
   "cell_type": "code",
   "execution_count": 82,
   "id": "eebfb3d6",
   "metadata": {},
   "outputs": [
    {
     "name": "stdout",
     "output_type": "stream",
     "text": [
      "New weight 1.0800000429153442\n"
     ]
    }
   ],
   "source": [
    "# Update the weight with the learning rate\n",
    "w = w - 0.01 * w.grad\n",
    "print(\"New weight\" ,w.item())"
   ]
  }
 ],
 "metadata": {
  "kernelspec": {
   "display_name": "Python 3 (ipykernel)",
   "language": "python",
   "name": "python3"
  },
  "language_info": {
   "codemirror_mode": {
    "name": "ipython",
    "version": 3
   },
   "file_extension": ".py",
   "mimetype": "text/x-python",
   "name": "python",
   "nbconvert_exporter": "python",
   "pygments_lexer": "ipython3",
   "version": "3.9.7"
  }
 },
 "nbformat": 4,
 "nbformat_minor": 5
}
