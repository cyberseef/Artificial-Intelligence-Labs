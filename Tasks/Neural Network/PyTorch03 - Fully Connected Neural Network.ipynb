{
 "cells": [
  {
   "cell_type": "code",
   "execution_count": 1,
   "metadata": {},
   "outputs": [],
   "source": [
    "import pandas\n",
    "import numpy\n",
    "import matplotlib.pyplot as plt\n",
    "from torch.utils.data import Dataset, DataLoader\n",
    "from torch import nn\n",
    "from torch import optim\n",
    "from torch.nn import functional as F\n",
    "from torch.autograd import Variable\n",
    "from sklearn import datasets\n",
    "import torch"
   ]
  },
  {
   "cell_type": "code",
   "execution_count": 2,
   "metadata": {},
   "outputs": [
    {
     "data": {
      "text/html": [
       "<div>\n",
       "<style scoped>\n",
       "    .dataframe tbody tr th:only-of-type {\n",
       "        vertical-align: middle;\n",
       "    }\n",
       "\n",
       "    .dataframe tbody tr th {\n",
       "        vertical-align: top;\n",
       "    }\n",
       "\n",
       "    .dataframe thead th {\n",
       "        text-align: right;\n",
       "    }\n",
       "</style>\n",
       "<table border=\"1\" class=\"dataframe\">\n",
       "  <thead>\n",
       "    <tr style=\"text-align: right;\">\n",
       "      <th></th>\n",
       "      <th>sepal_length</th>\n",
       "      <th>sepal_width</th>\n",
       "      <th>petal_length</th>\n",
       "      <th>petal_width</th>\n",
       "      <th>target</th>\n",
       "    </tr>\n",
       "  </thead>\n",
       "  <tbody>\n",
       "    <tr>\n",
       "      <th>0</th>\n",
       "      <td>5.1</td>\n",
       "      <td>3.5</td>\n",
       "      <td>1.4</td>\n",
       "      <td>0.2</td>\n",
       "      <td>0</td>\n",
       "    </tr>\n",
       "    <tr>\n",
       "      <th>1</th>\n",
       "      <td>4.9</td>\n",
       "      <td>3.0</td>\n",
       "      <td>1.4</td>\n",
       "      <td>0.2</td>\n",
       "      <td>0</td>\n",
       "    </tr>\n",
       "    <tr>\n",
       "      <th>2</th>\n",
       "      <td>4.7</td>\n",
       "      <td>3.2</td>\n",
       "      <td>1.3</td>\n",
       "      <td>0.2</td>\n",
       "      <td>0</td>\n",
       "    </tr>\n",
       "    <tr>\n",
       "      <th>3</th>\n",
       "      <td>4.6</td>\n",
       "      <td>3.1</td>\n",
       "      <td>1.5</td>\n",
       "      <td>0.2</td>\n",
       "      <td>0</td>\n",
       "    </tr>\n",
       "    <tr>\n",
       "      <th>4</th>\n",
       "      <td>5.0</td>\n",
       "      <td>3.6</td>\n",
       "      <td>1.4</td>\n",
       "      <td>0.2</td>\n",
       "      <td>0</td>\n",
       "    </tr>\n",
       "  </tbody>\n",
       "</table>\n",
       "</div>"
      ],
      "text/plain": [
       "   sepal_length  sepal_width  petal_length  petal_width  target\n",
       "0           5.1          3.5           1.4          0.2       0\n",
       "1           4.9          3.0           1.4          0.2       0\n",
       "2           4.7          3.2           1.3          0.2       0\n",
       "3           4.6          3.1           1.5          0.2       0\n",
       "4           5.0          3.6           1.4          0.2       0"
      ]
     },
     "execution_count": 2,
     "metadata": {},
     "output_type": "execute_result"
    }
   ],
   "source": [
    "read_data = datasets.load_iris()\n",
    "data = read_data.data\n",
    "target = read_data.target\n",
    "data = pandas.DataFrame(data)\n",
    "target = pandas.DataFrame(target)\n",
    "data = pandas.concat([data, target], axis=1)\n",
    "data.columns = ['sepal_length', 'sepal_width', 'petal_length', 'petal_width', 'target']\n",
    "data.head()"
   ]
  },
  {
   "cell_type": "code",
   "execution_count": 3,
   "metadata": {},
   "outputs": [],
   "source": [
    "# Split the data into train and test\n",
    "train = data.sample(frac=0.8, random_state=200)\n",
    "test = data.drop(train.index)\n",
    "\n",
    "# Convert the data into tensors\n",
    "train_x = torch.from_numpy(train[['sepal_length', 'sepal_width', 'petal_length', 'petal_width']].values).float()\n",
    "train_y = torch.from_numpy(train[['target']].values)\n",
    "test_x = torch.from_numpy(test[['sepal_length', 'sepal_width', 'petal_length', 'petal_width']].values).float()\n",
    "test_y = torch.from_numpy(test[['target']].values)"
   ]
  },
  {
   "cell_type": "code",
   "execution_count": 4,
   "metadata": {},
   "outputs": [],
   "source": [
    "class Model(nn.Module):\n",
    "    def __init__(self, num_layers=3, hidden_size=16, activation=F.relu):\n",
    "        super(Model, self).__init__()\n",
    "        self.layers = nn.ModuleList()\n",
    "        self.num_layers = num_layers\n",
    "        self.activation = activation\n",
    "        self.input_layer = nn.Linear(4, hidden_size)\n",
    "        for i in range(num_layers - 1):\n",
    "            self.layers.append(nn.Linear(hidden_size, hidden_size))\n",
    "        self.output_layer = nn.Linear(hidden_size, 3)\n",
    "        \n",
    "    def forward(self, x):\n",
    "        x = self.input_layer(x)\n",
    "        x = self.activation(x)\n",
    "        for i in range(self.num_layers - 1):\n",
    "            x = self.layers[i](x)\n",
    "            x = self.activation(x)\n",
    "        x = self.output_layer(x)\n",
    "        return x"
   ]
  },
  {
   "cell_type": "code",
   "execution_count": 5,
   "metadata": {},
   "outputs": [
    {
     "data": {
      "text/plain": [
       "tensor([[0, 1, 0],\n",
       "        [0, 0, 1],\n",
       "        [1, 0, 0],\n",
       "        [1, 0, 0],\n",
       "        [0, 1, 0],\n",
       "        [0, 0, 1],\n",
       "        [0, 1, 0],\n",
       "        [0, 1, 0],\n",
       "        [0, 1, 0],\n",
       "        [0, 0, 1],\n",
       "        [0, 0, 1],\n",
       "        [1, 0, 0],\n",
       "        [1, 0, 0],\n",
       "        [1, 0, 0],\n",
       "        [0, 0, 1],\n",
       "        [1, 0, 0],\n",
       "        [0, 1, 0],\n",
       "        [1, 0, 0],\n",
       "        [0, 1, 0],\n",
       "        [0, 0, 1],\n",
       "        [1, 0, 0],\n",
       "        [0, 1, 0],\n",
       "        [0, 0, 1],\n",
       "        [1, 0, 0],\n",
       "        [1, 0, 0],\n",
       "        [1, 0, 0],\n",
       "        [0, 1, 0],\n",
       "        [0, 0, 1],\n",
       "        [0, 0, 1],\n",
       "        [0, 1, 0],\n",
       "        [1, 0, 0],\n",
       "        [0, 1, 0],\n",
       "        [0, 1, 0],\n",
       "        [1, 0, 0],\n",
       "        [0, 1, 0],\n",
       "        [1, 0, 0],\n",
       "        [1, 0, 0],\n",
       "        [1, 0, 0],\n",
       "        [0, 0, 1],\n",
       "        [0, 1, 0],\n",
       "        [0, 1, 0],\n",
       "        [1, 0, 0],\n",
       "        [1, 0, 0],\n",
       "        [0, 1, 0],\n",
       "        [0, 0, 1],\n",
       "        [0, 0, 1],\n",
       "        [0, 0, 1],\n",
       "        [1, 0, 0],\n",
       "        [0, 0, 1],\n",
       "        [0, 1, 0],\n",
       "        [0, 0, 1],\n",
       "        [0, 1, 0],\n",
       "        [0, 1, 0],\n",
       "        [0, 1, 0],\n",
       "        [0, 0, 1],\n",
       "        [1, 0, 0],\n",
       "        [0, 1, 0],\n",
       "        [0, 1, 0],\n",
       "        [0, 1, 0],\n",
       "        [0, 0, 1],\n",
       "        [1, 0, 0],\n",
       "        [1, 0, 0],\n",
       "        [0, 0, 1],\n",
       "        [1, 0, 0],\n",
       "        [1, 0, 0],\n",
       "        [0, 0, 1],\n",
       "        [0, 1, 0],\n",
       "        [1, 0, 0],\n",
       "        [1, 0, 0],\n",
       "        [0, 0, 1],\n",
       "        [1, 0, 0],\n",
       "        [1, 0, 0],\n",
       "        [0, 0, 1],\n",
       "        [0, 0, 1],\n",
       "        [0, 1, 0],\n",
       "        [0, 1, 0],\n",
       "        [0, 0, 1],\n",
       "        [1, 0, 0],\n",
       "        [1, 0, 0],\n",
       "        [0, 0, 1],\n",
       "        [0, 1, 0],\n",
       "        [1, 0, 0],\n",
       "        [0, 0, 1],\n",
       "        [0, 0, 1],\n",
       "        [1, 0, 0],\n",
       "        [1, 0, 0],\n",
       "        [0, 1, 0],\n",
       "        [0, 0, 1],\n",
       "        [0, 1, 0],\n",
       "        [0, 0, 1],\n",
       "        [1, 0, 0],\n",
       "        [0, 1, 0],\n",
       "        [1, 0, 0],\n",
       "        [0, 0, 1],\n",
       "        [0, 1, 0],\n",
       "        [0, 0, 1],\n",
       "        [0, 1, 0],\n",
       "        [0, 0, 1],\n",
       "        [0, 1, 0],\n",
       "        [0, 0, 1],\n",
       "        [0, 0, 1],\n",
       "        [0, 1, 0],\n",
       "        [0, 1, 0],\n",
       "        [0, 0, 1],\n",
       "        [0, 1, 0],\n",
       "        [1, 0, 0],\n",
       "        [0, 0, 1],\n",
       "        [0, 0, 1],\n",
       "        [0, 1, 0],\n",
       "        [0, 1, 0],\n",
       "        [1, 0, 0],\n",
       "        [1, 0, 0],\n",
       "        [0, 0, 1],\n",
       "        [1, 0, 0],\n",
       "        [0, 1, 0],\n",
       "        [0, 0, 1],\n",
       "        [0, 1, 0],\n",
       "        [1, 0, 0],\n",
       "        [1, 0, 0],\n",
       "        [1, 0, 0]])"
      ]
     },
     "execution_count": 5,
     "metadata": {},
     "output_type": "execute_result"
    }
   ],
   "source": [
    "# One hot encoding of the target\n",
    "train_y_one_hot = F.one_hot(train_y.squeeze().long())\n",
    "test_y_one_hot = F.one_hot(test_y.squeeze().long())\n",
    "\n",
    "train_y_one_hot"
   ]
  },
  {
   "cell_type": "code",
   "execution_count": 6,
   "metadata": {},
   "outputs": [
    {
     "data": {
      "text/plain": [
       "torch.Size([120, 3])"
      ]
     },
     "execution_count": 6,
     "metadata": {},
     "output_type": "execute_result"
    }
   ],
   "source": [
    "train_y_one_hot.shape"
   ]
  },
  {
   "cell_type": "code",
   "execution_count": 7,
   "metadata": {},
   "outputs": [
    {
     "name": "stdout",
     "output_type": "stream",
     "text": [
      "torch.Size([120, 4])\n",
      "torch.Size([120, 3])\n",
      "torch.Size([30, 4])\n",
      "torch.Size([30, 3])\n",
      "torch.Size([120, 1])\n",
      "torch.Size([30, 1])\n"
     ]
    }
   ],
   "source": [
    "print(train_x.shape)\n",
    "print(train_y_one_hot.shape)\n",
    "print(test_x.shape)\n",
    "print(test_y_one_hot.shape)\n",
    "print(train_y.shape)\n",
    "print(test_y.shape)"
   ]
  },
  {
   "cell_type": "code",
   "execution_count": 8,
   "metadata": {},
   "outputs": [
    {
     "name": "stdout",
     "output_type": "stream",
     "text": [
      "Epoch: 0, Loss: 1.1030614376068115\n",
      "Epoch: 100, Loss: 1.1006057262420654\n",
      "Epoch: 200, Loss: 1.0984030961990356\n",
      "Epoch: 300, Loss: 1.0963894128799438\n",
      "Epoch: 400, Loss: 1.0944256782531738\n",
      "Epoch: 500, Loss: 1.0923523902893066\n",
      "Epoch: 600, Loss: 1.0898537635803223\n",
      "Epoch: 700, Loss: 1.087302327156067\n",
      "Epoch: 800, Loss: 1.0845227241516113\n",
      "Epoch: 900, Loss: 1.0815434455871582\n",
      "Epoch: 1000, Loss: 1.0787917375564575\n",
      "Epoch: 1100, Loss: 1.0759042501449585\n",
      "Epoch: 1200, Loss: 1.072838544845581\n",
      "Epoch: 1300, Loss: 1.0695672035217285\n",
      "Epoch: 1400, Loss: 1.065999150276184\n",
      "Epoch: 1500, Loss: 1.0620630979537964\n",
      "Epoch: 1600, Loss: 1.0577439069747925\n",
      "Epoch: 1700, Loss: 1.0529876947402954\n",
      "Epoch: 1800, Loss: 1.0477802753448486\n",
      "Epoch: 1900, Loss: 1.0420259237289429\n",
      "Epoch: 2000, Loss: 1.0356616973876953\n",
      "Epoch: 2100, Loss: 1.0287044048309326\n",
      "Epoch: 2200, Loss: 1.0210093259811401\n",
      "Epoch: 2300, Loss: 1.0123063325881958\n",
      "Epoch: 2400, Loss: 1.002440094947815\n",
      "Epoch: 2500, Loss: 0.9912684559822083\n",
      "Epoch: 2600, Loss: 0.9788133502006531\n",
      "Epoch: 2700, Loss: 0.9646585583686829\n",
      "Epoch: 2800, Loss: 0.9482368230819702\n",
      "Epoch: 2900, Loss: 0.9294756054878235\n",
      "Epoch: 3000, Loss: 0.908634603023529\n",
      "Epoch: 3100, Loss: 0.8857491612434387\n",
      "Epoch: 3200, Loss: 0.8609951138496399\n",
      "Epoch: 3300, Loss: 0.8345944881439209\n",
      "Epoch: 3400, Loss: 0.8072336316108704\n",
      "Epoch: 3500, Loss: 0.7795730829238892\n",
      "Epoch: 3600, Loss: 0.7520508170127869\n",
      "Epoch: 3700, Loss: 0.7253201007843018\n",
      "Epoch: 3800, Loss: 0.6999809741973877\n",
      "Epoch: 3900, Loss: 0.6756175756454468\n",
      "Epoch: 4000, Loss: 0.6517557501792908\n",
      "Epoch: 4100, Loss: 0.6284369826316833\n",
      "Epoch: 4200, Loss: 0.6053880453109741\n",
      "Epoch: 4300, Loss: 0.5817773938179016\n",
      "Epoch: 4400, Loss: 0.5588604211807251\n",
      "Epoch: 4500, Loss: 0.5363721251487732\n",
      "Epoch: 4600, Loss: 0.5139105916023254\n",
      "Epoch: 4700, Loss: 0.4913133978843689\n",
      "Epoch: 4800, Loss: 0.46901607513427734\n",
      "Epoch: 4900, Loss: 0.4468657672405243\n"
     ]
    },
    {
     "data": {
      "image/png": "[encoded data removed]",
      "text/plain": [
       "<Figure size 640x480 with 1 Axes>"
      ]
     },
     "metadata": {},
     "output_type": "display_data"
    }
   ],
   "source": [
    "model = Model(num_layers=5, hidden_size=32, activation=F.leaky_relu)\n",
    "criterion = nn.CrossEntropyLoss()\n",
    "optimizer = optim.SGD(model.parameters(), lr=0.001)\n",
    "losses = []\n",
    "for epoch in range(5000):\n",
    "    optimizer.zero_grad()\n",
    "    out = model(train_x)\n",
    "    train_y_one_hot = train_y_one_hot.float()\n",
    "    loss = criterion(out, train_y_one_hot)\n",
    "    losses.append(loss.item())\n",
    "    loss.backward()\n",
    "    optimizer.step()\n",
    "    if epoch % 100 == 0:\n",
    "        print('Epoch: {}, Loss: {}'.format(epoch, loss.item()))\n",
    "\n",
    "plt.plot(losses)\n",
    "plt.show()"
   ]
  },
  {
   "cell_type": "code",
   "execution_count": 9,
   "metadata": {},
   "outputs": [
    {
     "name": "stdout",
     "output_type": "stream",
     "text": [
      "Predicted:  tensor([0, 0, 0, 0, 0, 0, 0, 0, 1, 1, 1, 2, 2, 1, 2, 1, 1, 1, 2, 2, 2, 2, 2, 2,\n",
      "        2, 2, 2, 2, 2, 2])\n",
      "Actual:  tensor([0, 0, 0, 0, 0, 0, 0, 0, 1, 1, 1, 1, 1, 1, 1, 1, 1, 1, 2, 2, 2, 2, 2, 2,\n",
      "        2, 2, 2, 2, 2, 2], dtype=torch.int32)\n",
      "Accuracy of the network on the 30 test images: 90 %\n"
     ]
    }
   ],
   "source": [
    "# Predict the test data\n",
    "out = model(test_x)\n",
    "_, predicted = torch.max(out.data, 1)\n",
    "print('Predicted: ', predicted)\n",
    "print('Actual: ', test_y.squeeze())\n",
    "\n",
    "# Calculate the accuracy\n",
    "correct = 0\n",
    "total = len(predicted)\n",
    "for i in range(total):\n",
    "    if predicted[i] == test_y[i]:\n",
    "        correct += 1\n",
    "print('Accuracy of the network on the 30 test images: %d %%' % (\n",
    "    100 * correct / total))"
   ]
  }
 ],
 "metadata": {
  "kernelspec": {
   "display_name": "base",
   "language": "python",
   "name": "python3"
  },
  "language_info": {
   "codemirror_mode": {
    "name": "ipython",
    "version": 3
   },
   "file_extension": ".py",
   "mimetype": "text/x-python",
   "name": "python",
   "nbconvert_exporter": "python",
   "pygments_lexer": "ipython3",
   "version": "3.11.3"
  },
  "vscode": {
   "interpreter": {
    "hash": "3ce2397aef71c0d12f785fd87c0b7fef94ead8d2f4d1a9ae094c6557efed0fcb"
   }
  }
 },
 "nbformat": 4,
 "nbformat_minor": 2
}
