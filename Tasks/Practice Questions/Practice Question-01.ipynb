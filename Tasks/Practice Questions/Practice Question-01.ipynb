{
 "cells": [
  {
   "cell_type": "markdown",
   "id": "a665a864",
   "metadata": {},
   "source": [
    "<h3>Scenario</h3>\n",
    "<p>This code calculates the remaining number of bananas a camel has after a journey given the total number of bananas, the distance to be traveled, and the maximum load capacity of the camel. It takes inputs, keeps track of the remaining bananas after each iteration, and stops when there are no more bananas left. The final result is the number of bananas the camel has at the end of the journey.</p>\n",
    "<p>The code takes inputs for the total number of bananas at the start, the distance to be covered, and the maximum load capacity of the camel. Then, it initializes a variable lose to keep track of the number of bananas lost in each iteration of the loop and another variable start to keep track of the remaining bananas at the end of each iteration.</p>\n",
    "<p>The loop iterates for the given distance, and in each iteration, the start value decreases in each iteration of the inner while loop until it becomes less than or equal to 0. The number of bananas lost in each iteration is updated and the new start value is calculated. The loop continues until the start value becomes 0. Finally, the value of start is printed, which represents the number of bananas that the camel has left after the journey.</p>\n",
    "<hr>\n",
    "<h3>Puzzle Description:</h3>\n",
    "<ol>\n",
    "    <li>There is a desert, one camel and 3000 bananas.</li>\n",
    "    <li>The camel has to transport as many bananas 1 km(1000 m).</li>\n",
    "    <li>However each iteration, the camel eats one banana.</li>\n",
    "    <li>Also the camel can only carry 1000 bananas at the same time.</li>\n",
    "    <li>What is the maximum number of bananas the camel can bring to the other side.</li>\n",
    "</ol>\n",
    "<hr>"
   ]
  },
  {
   "cell_type": "code",
   "execution_count": null,
   "id": "1c1c634e",
   "metadata": {},
   "outputs": [],
   "source": [
    "# Input the starting number of bananas\n",
    "total = int(input('Enter no. of bananas at starting: '))      # 30 Bananas\n",
    "\n",
    "# Input the distance to be traveled\n",
    "distance = int(input('Enter distance you want to cover: '))   # 10 Distance\n",
    "\n",
    "# Input the load capacity of the camel\n",
    "load = int(input('Enter max load capacity of your camel: '))  # 10 Load Capacity"
   ]
  },
  {
   "cell_type": "code",
   "execution_count": null,
   "id": "11c8bb10",
   "metadata": {},
   "outputs": [],
   "source": [
    "# Initialize the number of bananas lost to 0\n",
    "lose = 0\n",
    "\n",
    "# Set the starting number of bananas\n",
    "start = total"
   ]
  },
  {
   "cell_type": "code",
   "execution_count": null,
   "id": "bce0317c",
   "metadata": {},
   "outputs": [],
   "source": [
    "# Iterate for the distance to be traveled\n",
    "for i in range(distance):\n",
    "    \n",
    "    # Keep track of the number of bananas lost in each iteration\n",
    "    while start > 0:\n",
    "        start = start - load\n",
    "        \n",
    "        # Here if condition is checking that camel doesn't move back if there is only one banana left.\n",
    "        if start == 1:\n",
    "            \n",
    "            # Lose is decreased because if camel try to get remaining one banana he will lose one extra banana for covering that two miles.\n",
    "            lose = lose - 1\n",
    "        \n",
    "        # Here we are increasing lose because for moving backward and forward by one mile two bananas will be lose\n",
    "        lose = lose + 2\n",
    "    \n",
    "    # Here lose is decreased as in last trip camel will not go back.\n",
    "    lose = lose - 1\n",
    "    \n",
    "    # Calculate the new starting number of bananas\n",
    "    start = total - lose\n",
    "    \n",
    "    # If there are no more bananas, break from the loop\n",
    "    if start == 0:\n",
    "        break"
   ]
  },
  {
   "cell_type": "code",
   "execution_count": null,
   "id": "e88191e1",
   "metadata": {},
   "outputs": [
    {
     "name": "stdout",
     "output_type": "stream",
     "text": [
      "6\n"
     ]
    }
   ],
   "source": [
    "print(start)"
   ]
  },
  {
   "cell_type": "markdown",
   "id": "3352d197",
   "metadata": {},
   "source": [
    "<hr>"
   ]
  }
 ],
 "metadata": {
  "kernelspec": {
   "display_name": "Python 3",
   "language": "python",
   "name": "python3"
  },
  "language_info": {
   "codemirror_mode": {
    "name": "ipython",
    "version": 3
   },
   "file_extension": ".py",
   "mimetype": "text/x-python",
   "name": "python",
   "nbconvert_exporter": "python",
   "pygments_lexer": "ipython3",
   "version": "3.11.2"
  },
  "vscode": {
   "interpreter": {
    "hash": "2a5e0e52a088b649155d4b0d7a1390d71c1fe55bd07b067cd7bff3efb10bcdcf"
   }
  }
 },
 "nbformat": 4,
 "nbformat_minor": 5
}
