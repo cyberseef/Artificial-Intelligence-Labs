{
 "cells": [
  {
   "cell_type": "markdown",
   "id": "0bbaf9f6",
   "metadata": {},
   "source": [
    "<h3>Description</h3>\n",
    "<p>This code implements a simple reflex agent in Python. A reflex agent is a type of AI system that selects actions based on a set of hard-coded rules. The code defines three lists: percept, states, and rules, which are used to associate a perception with a state and a state with an action. The code also defines three functions: getState, getRules, and simpleReflexAgent. These functions are used to translate a perception into a state and then into an action. The code then prompts the user to select a perception, gets the user's choice, and calls the simpleReflexAgent function with the selected perception. The resulting action is then printed.</p>\n",
    "<ol>\n",
    "    <li>The 'getState' function takes as input a perception and returns the corresponding state.</li>\n",
    "    <li>The 'getRules' function takes as input a state and returns the corresponding action.</li>\n",
    "    <li>The 'simpleReflexAgent' function takes as input a perception and returns the corresponding action.</li>\n",
    "</ol>"
   ]
  },
  {
   "cell_type": "code",
   "execution_count": 1,
   "id": "b96bc3ff",
   "metadata": {},
   "outputs": [],
   "source": [
    "# Define a list of possible perceptions\n",
    "percepts = ['Hamza','Ali','Ahmed','Saad'] \n",
    "\n",
    "# Define a dictionary that maps each perception to a corresponding state\n",
    "states = {'Hamza':'Happy', 'Ali':'Sad', 'Ahmed':'Angry', 'Saad':'Normal'}\n",
    "\n",
    "# Define a dictionary that maps each state to a corresponding action\n",
    "rules = {'Happy':'Smile', 'Sad':'Cry', 'Angry':'Shouting', 'Normal':'Nobody is Normal'}"
   ]
  },
  {
   "cell_type": "code",
   "execution_count": 2,
   "id": "4eea57cb",
   "metadata": {},
   "outputs": [],
   "source": [
    "# Define a function that takes a perception as input and returns the corresponding action\n",
    "def simpleReflexAgent(percep):\n",
    "    \n",
    "    # Look up the corresponding state for the given perception\n",
    "    state = states[percep]\n",
    "    print(state)\n",
    "    \n",
    "    # Look up the corresponding action for the given state\n",
    "    return rules[state]"
   ]
  },
  {
   "cell_type": "code",
   "execution_count": 3,
   "id": "865f7b26",
   "metadata": {},
   "outputs": [
    {
     "name": "stdout",
     "output_type": "stream",
     "text": [
      "SELECT A PERCEPTION OBJECT\n",
      "0: Hamza\n",
      "1: Ali\n",
      "2: Ahmed\n",
      "3: Saad\n",
      "\n",
      "Enter a desired number: 0\n"
     ]
    }
   ],
   "source": [
    "# Prompt the user to select a perception\n",
    "print(\"SELECT A PERCEPTION OBJECT\") \n",
    "print(\"\"\"0: Hamza\n",
    "1: Ali\n",
    "2: Ahmed\n",
    "3: Saad\"\"\") \n",
    "num = int(input(\"\\nEnter a desired number: \")) "
   ]
  },
  {
   "cell_type": "code",
   "execution_count": 4,
   "id": "360e2a30",
   "metadata": {},
   "outputs": [
    {
     "data": {
      "text/plain": [
       "'Hamza'"
      ]
     },
     "execution_count": 4,
     "metadata": {},
     "output_type": "execute_result"
    }
   ],
   "source": [
    "# Get the selected perception from the list of possible perceptions\n",
    "percep = percepts[num]\n",
    "percep"
   ]
  },
  {
   "cell_type": "code",
   "execution_count": 5,
   "id": "bdd8e48e",
   "metadata": {},
   "outputs": [
    {
     "data": {
      "text/plain": [
       "'Smile'"
      ]
     },
     "execution_count": 5,
     "metadata": {},
     "output_type": "execute_result"
    }
   ],
   "source": [
    "# Call the simpleReflexAgent function to get the corresponding action for the selected perception\n",
    "rule = simpleReflexAgent(percep)\n",
    "rule"
   ]
  },
  {
   "cell_type": "code",
   "execution_count": 6,
   "id": "7039c9ad",
   "metadata": {},
   "outputs": [
    {
     "name": "stdout",
     "output_type": "stream",
     "text": [
      "Smile\n"
     ]
    }
   ],
   "source": [
    "# Print the resulting action\n",
    "print(rule)"
   ]
  },
  {
   "cell_type": "markdown",
   "id": "9fd2306b",
   "metadata": {},
   "source": [
    "<hr>"
   ]
  }
 ],
 "metadata": {
  "kernelspec": {
   "display_name": "Python 3",
   "language": "python",
   "name": "python3"
  },
  "language_info": {
   "codemirror_mode": {
    "name": "ipython",
    "version": 3
   },
   "file_extension": ".py",
   "mimetype": "text/x-python",
   "name": "python",
   "nbconvert_exporter": "python",
   "pygments_lexer": "ipython3",
   "version": "3.11.2"
  },
  "vscode": {
   "interpreter": {
    "hash": "2a5e0e52a088b649155d4b0d7a1390d71c1fe55bd07b067cd7bff3efb10bcdcf"
   }
  }
 },
 "nbformat": 4,
 "nbformat_minor": 5
}
