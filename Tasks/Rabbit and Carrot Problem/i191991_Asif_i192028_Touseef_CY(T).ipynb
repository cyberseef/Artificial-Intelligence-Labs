{
  "cells": [
    {
      "cell_type": "markdown",
      "id": "gOrDAmkfB5mr",
      "metadata": {
        "id": "gOrDAmkfB5mr"
      },
      "source": [
        "# **Submission Guidelines:**\n",
        "1. Submit your assignment along with a `report (soft & hard)` before the due date and time. Late submissions will result in a deduction of marks.\n",
        "2. Clearly mention your roll numbers, names, and section on your document. Please fill in the naming cell by double-clicking it.\n",
        "3. Copy and paste your `notebook (.ipynb)` and the `report (.docx)` into a folder, name the folder and the files according to the defined instructions: RollNumber_Name_Section. For example, Folder: `20i-7777_Name_BCY(T)`, NoteBook: `20i-7777_Name_BCY(T).ipynb` and Report: `20i-7777_Name_BCY(T).docx`.\n",
        "4. It is recommended that you attempt each task of the assignment on your own or in a **group of a maximum of two persons**.\n",
        "5. No excuse or resubmission is permissible after the submission deadline.\n",
        "6. The soft form of submission **DOES NOT** mean submitting photos of the hard copy.\n",
        "7. Read the following for report submission guidelines,\n",
        "    - Your report must contain at least three sections Introduction, Experimentation Explained, Conclusion\n",
        "    - Your report must contain visual aid to show comparison between the algorithms\n",
        "    - Font-size: 12, \n",
        "    - Font-Family: Times New Roman,\n",
        "    - Line-Spacing: 1.5pt\n",
        "\n",
        "By following these submission guidelines, you can ensure that your assignment is properly submitted and evaluated. Failure to adhere to these guidelines may result in the deduction of marks or other penalties.\n",
        "<h4 style='color: red'><br>Deadline: 11:59 PM, 10-March-2023</h4>"
      ]
    },
    {
      "attachments": {},
      "cell_type": "markdown",
      "id": "nzLUztnsB5mt",
      "metadata": {
        "id": "nzLUztnsB5mt"
      },
      "source": [
        "<pre>Student1: \n",
        "    19I-2028\n",
        "    Malik Touseef Husnain\n",
        "Student2:\n",
        "    19I-1991\n",
        "    Asif Mujeeb</pre>"
      ]
    },
    {
      "cell_type": "markdown",
      "id": "lAiXEEkxB5mu",
      "metadata": {
        "id": "lAiXEEkxB5mu"
      },
      "source": [
        "<h1 style='text-align: center'>ASSIGNMENT#01</h1>\n",
        "<h1 style='text-align: center'>Comparison of Breadth-First Search (BFS), Depth-First Search (DFS) and A* algorithms for the Rabbit and Carrot game on a grid</h1>"
      ]
    },
    {
      "cell_type": "markdown",
      "id": "DNRLgVn3B5mu",
      "metadata": {
        "id": "DNRLgVn3B5mu"
      },
      "source": [
        "**Statement:** The Rabbit and Carrot game is a classic problem in computer science that involves searching for carrots `(represented by ‘1’)` on a grid using an agent/rabbit `(represented by ‘R’)` that can only `move_up()`, `move_down()`, `move_left()` or `move_right()`. The rabbit has no prior knowledge of the carrot locations and can only see neighboring cells. The objective is to find all the carrots in the shortest possible time. This assignment requires you to design, implement, and compare the performance of three search algorithms: `Breadth-First Search (BFS)`, `Depth-First Search (DFS)`, and `A*`. You will evaluate the algorithms' efficiency and effectiveness in finding all the carrots on the grid. The results of this comparison will provide valuable insights into the strengths and weaknesses of each algorithm and help determine the best approach for solving the Rabbit and Carrot game on a grid.\n",
        "\n",
        "**Input:**\n",
        "The input to your designed system is a 2D grid representing the game world - which is already coded and you need to create a grid, just run the given coded cells. Each cell of the grid can either be empty `(represented by '0')` or contain a carrot `(represented by '1')`.\n",
        "\n",
        "**Outputs:**\n",
        "Your designed system should output the following:\n",
        "\n",
        "- The complete path to the goal, as well as the traversal if the goal is reachable. In case the goal is not reachable, the system should provide clear reasons for the failure.\n",
        "- The sequence of actions performed by the rabbit to reach the goal.\n",
        "- The total cost of the path taken by the rabbit to reach the goal.\n",
        "- A grid that shows the path followed by the rabbit. This output does not require graphics.\n",
        "- By providing these outputs, your system will enable the user to analyze the rabbit's behavior and assess the efficiency and effectiveness of the search algorithms used in the Rabbit and Carrot game.\n",
        "\n",
        "**Testing and Performance Evaluation:**\n",
        "- To ensure the effectiveness and efficiency of your program, you should test it on a variety of input games with varying grid sizes and numbers of carrots. This will help you evaluate the performance of the three search algorithms (BFS, DFS and A*) in terms of the number of nodes expanded and runtime.\n",
        "- Additionally, it is essential to discuss the advantages and disadvantages of each algorithm in the context of the Rabbit and Carrot game. This will provide valuable insights into the strengths and weaknesses of each algorithm and help you determine which algorithm is best suited for different types of input games.\n",
        "- Through rigorous testing and performance evaluation, you will gain a deeper understanding of the search algorithms and their ability to solve the Rabbit and Carrot game. You will also be able to determine the optimal approach for solving this classic problem in computer science."
      ]
    },
    {
      "cell_type": "markdown",
      "id": "lh1rFKDtB5mv",
      "metadata": {
        "id": "lh1rFKDtB5mv"
      },
      "source": [
        "### Importing Necessary Modules/Functions\n",
        "<p style='color: red'>No Changes Should be Made to This Cell</p>"
      ]
    },
    {
      "cell_type": "code",
      "execution_count": 4,
      "id": "xIqUPQofB5mw",
      "metadata": {
        "id": "xIqUPQofB5mw"
      },
      "outputs": [],
      "source": [
        "# Random and numpy array imported\n",
        "from random import randint\n",
        "from numpy import array"
      ]
    },
    {
      "cell_type": "markdown",
      "id": "yp1249O6B5mw",
      "metadata": {
        "id": "yp1249O6B5mw"
      },
      "source": [
        "### User-Defined Functions\n",
        "<p style='color: red'>No Changes Should be Made to This Cell</p>"
      ]
    },
    {
      "cell_type": "code",
      "execution_count": 5,
      "id": "lXU1nboeB5mw",
      "metadata": {
        "id": "lXU1nboeB5mw"
      },
      "outputs": [],
      "source": [
        "# Returns an absolutely random game-board\n",
        "def initialize_board():\n",
        "    n = randint(3, 5)\n",
        "    board = list()\n",
        "    for i in range(n):\n",
        "        board.append(list())\n",
        "    for i in range(n):\n",
        "        for j in range(n):\n",
        "            board[i].append(0)\n",
        "    carrots = randint(3, 5)\n",
        "    for c in range(carrots):\n",
        "        i = randint(0, n-1)\n",
        "        j = randint(0, n-1)\n",
        "        board[i][j] = 1\n",
        "    i = randint(0, n-1)\n",
        "    j = randint(0, n-1)\n",
        "    board[i][j] = 'R'\n",
        "    return board"
      ]
    },
    {
      "cell_type": "markdown",
      "id": "XnEWLkaWB5mx",
      "metadata": {
        "id": "XnEWLkaWB5mx"
      },
      "source": [
        "<p style='color: red'>No Changes Should be Made to This Cell</p>"
      ]
    },
    {
      "cell_type": "code",
      "execution_count": 6,
      "id": "nWh_S1hwB5mx",
      "metadata": {
        "id": "nWh_S1hwB5mx"
      },
      "outputs": [],
      "source": [
        "# Display the passed board as parameter in a particular manner\n",
        "def show_board(board):\n",
        "    for row in range(array(board).shape[0]):\n",
        "        for col in range(array(board).shape[1]):\n",
        "            print(board[row][col], end='    ')\n",
        "        print(end='\\n\\n')"
      ]
    },
    {
      "cell_type": "markdown",
      "id": "WvbGhExwB5mx",
      "metadata": {
        "id": "WvbGhExwB5mx"
      },
      "source": [
        "<p style='color: red'>No Changes Should be Made to This Cell</p>"
      ]
    },
    {
      "cell_type": "code",
      "execution_count": 7,
      "id": "y3xXSzlaB5mx",
      "metadata": {
        "colab": {
          "base_uri": "https://localhost:8080/"
        },
        "id": "y3xXSzlaB5mx",
        "outputId": "2337690e-ae50-42cf-bbcb-22d52f321c21"
      },
      "outputs": [
        {
          "name": "stdout",
          "output_type": "stream",
          "text": [
            "0    1    1    \n",
            "\n",
            "0    0    R    \n",
            "\n",
            "0    0    1    \n",
            "\n"
          ]
        }
      ],
      "source": [
        "# Board displayed\n",
        "initial_board = initialize_board()\n",
        "show_board(initial_board)"
      ]
    },
    {
      "cell_type": "markdown",
      "id": "N3I9AZ3jB5my",
      "metadata": {
        "id": "N3I9AZ3jB5my"
      },
      "source": [
        "<hr style=\"height:3px;border:none;color:#333;background-color:#333;\" />"
      ]
    },
    {
      "cell_type": "markdown",
      "id": "m15icl_YB5my",
      "metadata": {
        "id": "m15icl_YB5my"
      },
      "source": [
        "## Start Your Work From Here!"
      ]
    },
    {
      "cell_type": "markdown",
      "id": "Hl5bs3-mB5my",
      "metadata": {
        "id": "Hl5bs3-mB5my"
      },
      "source": [
        "<p style='color: green'>You Can Start Writing Code and Make Changes to It from Here and Onward</p>"
      ]
    },
    {
      "cell_type": "markdown",
      "id": "_tYlcevWB5my",
      "metadata": {
        "id": "_tYlcevWB5my"
      },
      "source": [
        "### Solve Using BFS - Provide Solution in Below Cells (You Can Create Further Cells)"
      ]
    },
    {
      "cell_type": "code",
      "execution_count": 8,
      "id": "VhoAfOlZKd3g",
      "metadata": {
        "id": "VhoAfOlZKd3g"
      },
      "outputs": [],
      "source": [
        "   \n",
        "from queue import Queue\n",
        "\n",
        "def bfs(board):\n",
        "\n",
        "  \n",
        "    rabbit_pos = None\n",
        "    for i in range(len(board)):\n",
        "        for j in range(len(board[i])):\n",
        "            if board[i][j] == 'R':\n",
        "                rabbit_pos = (i, j)\n",
        "                break\n",
        "        if rabbit_pos:\n",
        "            break\n",
        "  \n",
        "    queue = Queue()\n",
        "    \n",
        "    queue.put((rabbit_pos, []))\n",
        "    \n",
        "    visited = set()\n",
        "    carrots = []\n",
        "    while not queue.empty():\n",
        "        pos, actions = queue.get()\n",
        "        if pos in visited:\n",
        "            continue\n",
        "        visited.add(pos)\n",
        "        i, j = pos\n",
        "        if board[i][j] == 1:\n",
        "            carrots.append(pos)\n",
        "        \n",
        "        # Check the neighboring positions of this position (up, down, left, and right) and if they are not visited yet, add them to the queue.\n",
        "        if i > 0 and (i-1, j) not in visited:\n",
        "            queue.put(((i-1, j), actions + ['move_up']))\n",
        "        if i < len(board)-1 and (i+1, j) not in visited:\n",
        "            queue.put(((i+1, j), actions + ['move_down']))\n",
        "        if j > 0 and (i, j-1) not in visited:\n",
        "            queue.put(((i, j-1), actions + ['move_left']))\n",
        "        if j < len(board)-1 and (i, j+1) not in visited:\n",
        "            queue.put(((i, j+1), actions + ['move_right']))\n",
        "    \n",
        "\n",
        "    print(f\"Total number of carrots found: {len(carrots)}\")\n",
        "    print(f\"Sequence of actions: {actions}\")\n",
        "    print(f\"Total cost of the path: {len(actions)}\")\n",
        "    for i in range(len(board)):\n",
        "        for j in range(len(board[i])):\n",
        "            if (i, j) in visited:\n",
        "                print(f\"{board[i][j]:^5}\", end=\"\")\n",
        "            else:\n",
        "                print(f\"{'-':^5}\", end=\"\")\n",
        "        print()\n",
        "        print()\n"
      ]
    },
    {
      "cell_type": "code",
      "execution_count": 9,
      "id": "P1iCXiI6UB11",
      "metadata": {
        "id": "P1iCXiI6UB11"
      },
      "outputs": [
        {
          "name": "stdout",
          "output_type": "stream",
          "text": [
            "Total number of carrots found: 3\n",
            "Sequence of actions: ['move_left', 'move_left', 'move_down']\n",
            "Total cost of the path: 3\n",
            "  0    1    1  \n",
            "\n",
            "  0    0    R  \n",
            "\n",
            "  0    0    1  \n",
            "\n"
          ]
        }
      ],
      "source": [
        "\n",
        "bfs(initial_board)   "
      ]
    },
    {
      "cell_type": "markdown",
      "id": "BVlYGqvhB5my",
      "metadata": {
        "id": "BVlYGqvhB5my"
      },
      "source": [
        "<hr style=\"height:1px;border:none;color:#333;background-color:#333;\" />"
      ]
    },
    {
      "cell_type": "markdown",
      "id": "PJmknt2eB5mz",
      "metadata": {
        "id": "PJmknt2eB5mz"
      },
      "source": [
        "### Solve Using DFS - Provide Solution in Below Cells (You Can Create Further Cells)"
      ]
    },
    {
      "cell_type": "code",
      "execution_count": 10,
      "id": "e62Q8Cc4gmTG",
      "metadata": {
        "id": "e62Q8Cc4gmTG"
      },
      "outputs": [],
      "source": [
        "def dfs(board, pos, visited, actions):\n",
        "    i, j = pos\n",
        "    \n",
        "    if board[i][j] == 1:\n",
        "        visited.add(pos)\n",
        "        return [pos], actions\n",
        "    \n",
        "    visited.add(pos)\n",
        "    \n",
        "    if i > 0 and (i-1, j) not in visited:\n",
        "        path, actions = dfs(board, (i-1, j), visited, actions + ['move_up'])\n",
        "        if path:\n",
        "            return [(i, j)] + path, actions\n",
        "    if i < len(board)-1 and (i+1, j) not in visited:\n",
        "        path, actions = dfs(board, (i+1, j), visited, actions + ['move_down'])\n",
        "        if path:\n",
        "            return [(i, j)] + path, actions\n",
        "    if j > 0 and (i, j-1) not in visited:\n",
        "        path, actions = dfs(board, (i, j-1), visited, actions + ['move_left'])\n",
        "        if path:\n",
        "            return [(i, j)] + path, actions\n",
        "    if j < len(board)-1 and (i, j+1) not in visited:\n",
        "        path, actions = dfs(board, (i, j+1), visited, actions + ['move_right'])\n",
        "        if path:\n",
        "            return [(i, j)] + path, actions\n",
        "    \n",
        "    return [], actions\n",
        "\n",
        "def dfs_search(board):\n",
        "    # Initialize the starting position of the rabbit on the board.\n",
        "    rabbit_pos = None\n",
        "    for i in range(len(board)):\n",
        "        for j in range(len(board[i])):\n",
        "            if board[i][j] == 'R':\n",
        "                rabbit_pos = (i, j)\n",
        "                break\n",
        "        if rabbit_pos:\n",
        "            break\n",
        "    \n",
        "    visited = set()\n",
        "    actions = []\n",
        "    path, actions = dfs(board, rabbit_pos, visited, actions)\n",
        "    \n",
        "    if not path:\n",
        "        print(\"No path found\")\n",
        "        return\n",
        "    \n",
        "    print(\"Path: \")\n",
        "    for pos in path:\n",
        "        i, j = pos\n",
        "        board[i][j] = '.'\n",
        "    show_board(board)\n",
        "    \n",
        "    print(f\"Sequence of actions: {actions}\")\n",
        "    print(f\"Total cost of the path: {len(actions)}\")\n"
      ]
    },
    {
      "cell_type": "code",
      "execution_count": 11,
      "id": "rLp9FFF8U7pL",
      "metadata": {
        "id": "rLp9FFF8U7pL"
      },
      "outputs": [
        {
          "name": "stdout",
          "output_type": "stream",
          "text": [
            "Path: \n",
            "0    1    .    \n",
            "\n",
            "0    0    .    \n",
            "\n",
            "0    0    1    \n",
            "\n",
            "Sequence of actions: ['move_up']\n",
            "Total cost of the path: 1\n"
          ]
        }
      ],
      "source": [
        "dfs_search(initial_board)"
      ]
    },
    {
      "cell_type": "markdown",
      "id": "7r5jwp-sB5mz",
      "metadata": {
        "id": "7r5jwp-sB5mz"
      },
      "source": [
        "<hr style=\"height:1px;border:none;color:#333;background-color:#333;\" />"
      ]
    },
    {
      "cell_type": "markdown",
      "id": "TVL1ORNkB5mz",
      "metadata": {
        "id": "TVL1ORNkB5mz"
      },
      "source": [
        "### Solve Using A* - Provide Solution in Below Cells (You Can Create Further Cells)"
      ]
    },
    {
      "cell_type": "code",
      "execution_count": 15,
      "id": "ghiHe3T-B5mz",
      "metadata": {
        "colab": {
          "base_uri": "https://localhost:8080/"
        },
        "id": "ghiHe3T-B5mz",
        "outputId": "42950f49-2161-4777-8804-d4d210a0d54b"
      },
      "outputs": [
        {
          "name": "stdout",
          "output_type": "stream",
          "text": [
            "Path: (2, 2)\n",
            "Actions: \n",
            "Cost: 0\n",
            "Grid:\n",
            "0    0    0    0    0    \n",
            "\n",
            "0    0    0    0    0    \n",
            "\n",
            "0    0    R    0    0    \n",
            "\n",
            "0    2    0    0    0    \n",
            "\n",
            "0    0    0    0    0    \n",
            "\n"
          ]
        }
      ],
      "source": [
        "from queue import PriorityQueue\n",
        "\n",
        "#----------------------------------------------------Explanation--------------------------------------------------------------------\n",
        "\n",
        "\n",
        "# find_rabbit function returns the index of the rabbit on the board.\n",
        "# neighbors function returns a list of all the neighboring cells of a given cell.\n",
        "# heuristic function returns the Manhattan distance between two cells.\n",
        "# solve function uses A* search to solve the game. It keeps track of the visited cells, the priority queue for the cells to visit, and the current path and cost.\n",
        "# If the rabbit reaches a carrot, it prints the path, actions, and cost. If the queue is empty, it means there is no solution.\n",
        "# The board is manually specified in this example, but it can be generated using initialize_board function like in the previous example.\n",
        "\n",
        "\n",
        "# Returns the index of the rabbit on the board\n",
        "def find_rabbit(board):\n",
        "    for i in range(len(board)):\n",
        "        for j in range(len(board[0])):\n",
        "            if board[i][j] == 'R':\n",
        "                return (i, j)\n",
        "\n",
        "# Returns a list of all the neighboring cells of a given cell\n",
        "def neighbors(board, cell):\n",
        "    i, j = cell\n",
        "    result = []\n",
        "    if i > 0:\n",
        "        result.append((i-1, j))\n",
        "    if i < len(board)-1:\n",
        "        result.append((i+1, j))\n",
        "    if j > 0:\n",
        "        result.append((i, j-1))\n",
        "    if j < len(board[0])-1:\n",
        "        result.append((i, j+1))\n",
        "    return result\n",
        "\n",
        "# Returns the Manhattan distance between two cells\n",
        "def heuristic(a, b):\n",
        "    return abs(a[0] - b[0]) + abs(a[1] - b[1])\n",
        "\n",
        "def solve(board):\n",
        "    start = find_rabbit(board)\n",
        "    queue = PriorityQueue()\n",
        "    queue.put((0, start, [])) \n",
        "    visited = set()\n",
        "    \n",
        "    while not queue.empty():\n",
        "        f_score, current, path = queue.get()\n",
        "        if board[current[0]][current[1]] == 'R':\n",
        "            print(\"Path:\", \" -> \".join(map(str, path + [current])))\n",
        "            print(\"Actions:\", \" -> \".join(map(str, path)))\n",
        "            print(\"Cost:\", f_score)\n",
        "            print(\"Grid:\")\n",
        "            for i in range(len(board)):\n",
        "                for j in range(len(board[0])):\n",
        "                    if (i, j) in path:\n",
        "                        print('X', end='    ')\n",
        "                    else:\n",
        "                        print(board[i][j], end='    ')\n",
        "                print(end='\\n\\n')\n",
        "            return\n",
        "        \n",
        "        visited.add(current)\n",
        "        for neighbor in neighbors(board, current):\n",
        "            if neighbor not in visited and board[neighbor[0]][neighbor[1]] != 0:\n",
        "                g_score = f_score + 1\n",
        "                h_score = heuristic(neighbor, start)\n",
        "                f_score = g_score + h_score\n",
        "                queue.put((f_score, neighbor, path + [current]))\n",
        "                visited.add(neighbor)\n",
        "                \n",
        "    print(\"No solution found\")\n",
        "\n",
        "# Example usage:\n",
        "initial_board = [[0, 0, 0, 0, 0], \n",
        "                 [0, 0, 0, 0, 0], \n",
        "                 [0, 0, 'R', 0, 0], \n",
        "                 [0, 2, 0, 0, 0], \n",
        "                 [0, 0, 0, 0, 0]]\n",
        "\n",
        "solve(initial_board)\n"
      ]
    },
    {
      "cell_type": "markdown",
      "id": "vo3G-jgWB5mz",
      "metadata": {
        "id": "vo3G-jgWB5mz"
      },
      "source": [
        "<hr style=\"height:1px;border:none;color:#333;background-color:#333;\" />"
      ]
    }
  ],
  "metadata": {
    "colab": {
      "provenance": []
    },
    "kernelspec": {
      "display_name": "Python 3",
      "language": "python",
      "name": "python3"
    },
    "language_info": {
      "codemirror_mode": {
        "name": "ipython",
        "version": 3
      },
      "file_extension": ".py",
      "mimetype": "text/x-python",
      "name": "python",
      "nbconvert_exporter": "python",
      "pygments_lexer": "ipython3",
      "version": "3.11.2"
    }
  },
  "nbformat": 4,
  "nbformat_minor": 5
}
