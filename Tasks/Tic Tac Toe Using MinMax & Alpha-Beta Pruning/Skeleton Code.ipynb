{
 "cells": [
  {
   "cell_type": "markdown",
   "metadata": {},
   "source": [
    "# Tic-Tac-Toe: Using Minimax and Alpha-Beta Pruning"
   ]
  },
  {
   "cell_type": "markdown",
   "metadata": {},
   "source": [
    "### Necessary Imports"
   ]
  },
  {
   "cell_type": "code",
   "execution_count": 35,
   "metadata": {},
   "outputs": [],
   "source": [
    "import copy\n",
    "import math\n",
    "import random"
   ]
  },
  {
   "cell_type": "markdown",
   "metadata": {},
   "source": [
    "### Base Variables"
   ]
  },
  {
   "cell_type": "code",
   "execution_count": 36,
   "metadata": {},
   "outputs": [],
   "source": [
    "X = \"X\"\n",
    "O = \"O\"\n",
    "EMPTY = None"
   ]
  },
  {
   "cell_type": "code",
   "execution_count": null,
   "metadata": {},
   "outputs": [],
   "source": []
  },
  {
   "cell_type": "raw",
   "metadata": {},
   "source": []
  },
  {
   "cell_type": "code",
   "execution_count": null,
   "metadata": {},
   "outputs": [],
   "source": []
  },
  {
   "cell_type": "markdown",
   "metadata": {},
   "source": [
    "### Some Fundamental Functionlity"
   ]
  },
  {
   "cell_type": "code",
   "execution_count": 37,
   "metadata": {},
   "outputs": [],
   "source": [
    "# Displays the board in 2D\n",
    "def display(board):\n",
    "    \"\"\"Display the board.\"\"\"\n",
    "    print(\"-------------\")\n",
    "    for row in board:\n",
    "        print(\"|\", end=\"\")\n",
    "        for cell in row:\n",
    "            if cell is None:\n",
    "                print(\" - \", end=\"|\")\n",
    "            else:\n",
    "                print('',cell,'', end=\"|\")\n",
    "        print()\n",
    "        print(\"-------------\")"
   ]
  },
  {
   "cell_type": "code",
   "execution_count": 38,
   "metadata": {},
   "outputs": [],
   "source": [
    "# Returns starting state of the board.\n",
    "def initial_state():\n",
    "    return [[EMPTY, EMPTY, EMPTY],[EMPTY, EMPTY, EMPTY],[EMPTY, EMPTY, EMPTY]]"
   ]
  },
  {
   "cell_type": "code",
   "execution_count": 39,
   "metadata": {},
   "outputs": [],
   "source": [
    "# Returns player 'X' or 'O' who has the next turn on a board.\n",
    "def player(board):\n",
    "    count = sum([1 for row in board for cell in row if cell])\n",
    "    return 'O' if count % 2 else 'X'"
   ]
  },
  {
   "cell_type": "code",
   "execution_count": 40,
   "metadata": {},
   "outputs": [],
   "source": [
    "# Returns set of all possible actions (i, j) available on the board.\n",
    "def actions(board):\n",
    "    res = set()\n",
    "    for i, r in enumerate(board):\n",
    "        res.update((i, j) for j, c in enumerate(r) if c == EMPTY)\n",
    "    return res"
   ]
  },
  {
   "cell_type": "code",
   "execution_count": 41,
   "metadata": {},
   "outputs": [
    {
     "name": "stdout",
     "output_type": "stream",
     "text": [
      "-------------\n",
      "| - | - | - |\n",
      "-------------\n",
      "| - | - | - |\n",
      "-------------\n",
      "| - | - | - |\n",
      "-------------\n"
     ]
    }
   ],
   "source": [
    "board = initial_state()\n",
    "display(board)"
   ]
  },
  {
   "cell_type": "code",
   "execution_count": 42,
   "metadata": {},
   "outputs": [],
   "source": [
    "# Returns the board that results from making move (i, j) on the board.\n",
    "def result(board, action):\n",
    "    curr_player = player(board)\n",
    "    new_board = [row[:] for row in board]\n",
    "    new_board[action[0]][action[1]] = curr_player\n",
    "    return new_board"
   ]
  },
  {
   "cell_type": "code",
   "execution_count": 43,
   "metadata": {},
   "outputs": [],
   "source": [
    "# Returns the winner of the game, if a player is present at three consecutive horizontal boxes.\n",
    "def get_horizontal_winner(board):\n",
    "    for row in board:\n",
    "        if all(cell == row[0] and cell is not None for cell in row):\n",
    "            return row[0]\n",
    "    return None"
   ]
  },
  {
   "cell_type": "code",
   "execution_count": 44,
   "metadata": {},
   "outputs": [],
   "source": [
    "# Returns the winner of the game, if a player is present at three consecutive vertical boxes.\n",
    "def get_vertical_winner(board):\n",
    "    for col in range(len(board[0])):\n",
    "        if all(board[row][col] == board[0][col] for row in range(len(board))):\n",
    "            return board[0][col]\n",
    "    return None"
   ]
  },
  {
   "cell_type": "code",
   "execution_count": 45,
   "metadata": {},
   "outputs": [],
   "source": [
    "# Returns the winner of the game, if a player is present at three consecutive diagonal boxes.\n",
    "def get_diagonal_winner(board):\n",
    "    # Check main diagonals\n",
    "    if all(board[i][i] == board[0][0] for i in range(len(board))):\n",
    "        return board[0][0]\n",
    "    # Check flipped diagonals\n",
    "    if all(board[i][len(board)-1-i] == board[0][len(board)-1] for i in range(len(board))):\n",
    "        return board[0][len(board)-1]\n",
    "    return None"
   ]
  },
  {
   "cell_type": "code",
   "execution_count": 46,
   "metadata": {},
   "outputs": [],
   "source": [
    "# Returns the winner of the game, if any.\n",
    "def winner(board):\n",
    "    return get_horizontal_winner(board) or get_vertical_winner(board) or get_diagonal_winner(board) or None"
   ]
  },
  {
   "cell_type": "code",
   "execution_count": 47,
   "metadata": {},
   "outputs": [],
   "source": [
    "# Returns True if game is over, False otherwise.\n",
    "def terminal(board):\n",
    "    if winner(board):\n",
    "        return True\n",
    "    if any(EMPTY in row for row in board):\n",
    "        return False\n",
    "    return True"
   ]
  },
  {
   "cell_type": "code",
   "execution_count": 48,
   "metadata": {},
   "outputs": [],
   "source": [
    "# Returns 1 if 'X' has won, -1 if 'O' has won, 0 otherwise.\n",
    "def utility(board):\n",
    "    winner_val = winner(board)\n",
    "    if winner_val == X:\n",
    "        return 1\n",
    "    elif winner_val == O:\n",
    "        return -1\n",
    "    return 0"
   ]
  },
  {
   "cell_type": "markdown",
   "metadata": {},
   "source": [
    "# MinMax Algorithm"
   ]
  },
  {
   "cell_type": "markdown",
   "metadata": {},
   "source": [
    "- The `max_val` function takes a `board` as input and returns the maximum possible value that the current player can achieve from the given board state. It recursively evaluates all the possible moves that can be made by the current player and returns the maximum value from the minimum values returned by the opponent.\n",
    "\n",
    "- If the given `board` is already in a terminal state (i.e., the game is over), the `utility` function is called to determine the score of the terminal state.\n",
    "\n",
    "- The function then initializes a variable `v` to negative infinity, which will be used to store the maximum value found so far. It then iterates over all the possible actions that can be taken from the current `board` state, and for each action, it calls the min_val function on the resulting board state. The `min_val` function will return the minimum value that the opponent can achieve from the resulting state. The `max` function is then used to update the `   ` variable to the maximum value between the current `v` and the minimum value returned by `min_val`. Finally, the function returns the maximum value found."
   ]
  },
  {
   "cell_type": "markdown",
   "metadata": {},
   "source": [
    "- The `min_val` function is similar to the `max_val` function, but instead of returning the maximum value that the current player can achieve, it returns the minimum value that the opponent can achieve. It does this by recursively evaluating all the possible moves that the opponent can make and returns the minimum value from the maximum values returned by the current player.\n",
    "\n",
    "- If the given `board` is already in a terminal state (i.e., the game is over), the `utility` function is called to determine the score of the terminal state.\n",
    "\n",
    "- The function initializes a variable `v` to positive infinity, which will be used to store the minimum value found so far. It then iterates over all the possible actions that can be taken from the current `board` state, and for each action, it calls the `max_val` function on the resulting board state. The `max_val` function will return the maximum value that the current player can achieve from the resulting state. The `min` function is then used to update the `v` variable to the minimum value between the current `v` and the maximum value returned by `max_val`. Finally, the function returns the minimum value found.\n"
   ]
  },
  {
   "cell_type": "code",
   "execution_count": 49,
   "metadata": {},
   "outputs": [],
   "source": [
    "def max_val(board):\n",
    "    if terminal(board):\n",
    "        return utility(board)\n",
    "    v = -math.inf\n",
    "    for action in actions(board):\n",
    "        v = max(v, min_val(result(board, action)))\n",
    "    return v\n",
    "\n",
    "def min_val(board):\n",
    "    if terminal(board):\n",
    "        return utility(board)\n",
    "    v = math.inf\n",
    "    for action in actions(board):\n",
    "        v = min(v, max_val(result(board, action)))\n",
    "    return v\n"
   ]
  },
  {
   "cell_type": "markdown",
   "metadata": {},
   "source": [
    "- An implementation of the minimax algorithm for the game of Tic Tac Toe. The algorithm is used to determine the best move for the current player in the game. The function `minimax(board)` takes a `board` as input and returns the best move for the current player.\n",
    "\n",
    "- The function first checks if the `board` is the initial state of the game. If it is, then it returns a random move. Otherwise, it determines the current player and initializes the `action_to_return` variable to `None`.\n",
    "\n",
    "- If the current player is `X`, then the function initializes the `val` variable to negative infinity and iterates over all the possible actions that can be taken on the `board`. For each action, it calls the `min_val` function on the result of applying the action to the `board`. If the resulting value is greater than `val`, then `val` is updated to the resulting value and the `action_to_return` variable is set to the current action.\n",
    "\n",
    "- If the current player is `O`, then the function initializes the `val` variable to positive infinity and iterates over all the possible actions that can be taken on the `board`. For each action, it calls the `max_val` function on the result of applying the action to the `board`. If the resulting value is less than `val`, then `val` is updated to the resulting value and the `action_to_return` variable is set to the current action.\n",
    "\n",
    "- Finally, the function returns the `action_to_return` variable, which is the best move for the current player."
   ]
  },
  {
   "cell_type": "code",
   "execution_count": 50,
   "metadata": {},
   "outputs": [],
   "source": [
    "\n",
    " def max_val(board):\n",
    "    if terminal(board):\n",
    "        return utility(board)\n",
    "    v = -math.inf\n",
    "    for action in actions(board):\n",
    "        v = max(v, min_val(result(board, action)))\n",
    "    return v\n",
    "\n",
    "def minimax(board):\n",
    "    curr_player = player(board)\n",
    "    action_to_return = None\n",
    "\n",
    "    if curr_player == X:\n",
    "        val = -math.inf\n",
    "        for action in actions(board):\n",
    "            new_val = min_val(result(board, action))\n",
    "            if new_val > val:\n",
    "                val = new_val\n",
    "                action_to_return = action\n",
    "    else:\n",
    "        val = math.inf\n",
    "        for action in actions(board):\n",
    "            new_val = max_val(result(board, action))\n",
    "            if new_val < val:\n",
    "                val = new_val\n",
    "                action_to_return = action\n",
    "\n",
    "    return action_to_return\n",
    "\n",
    "\n",
    "    "
   ]
  },
  {
   "cell_type": "markdown",
   "metadata": {},
   "source": [
    "# Running Script"
   ]
  },
  {
   "cell_type": "markdown",
   "metadata": {},
   "source": [
    "- Code implementation of the game of Tic Tac Toe. The code starts by initializing the `user` variable to `None` and the `board` variable to the initial state of the game. It then sets the `ai_turn` variable to `False` and prompts the user to choose a player. \n",
    "\n",
    "- The code then enters a loop that continues until the game is over. In each iteration of the loop, it checks if the game is over by calling the `terminal` function on the `board`. If the game is over, it prints the result of the game and breaks out of the loop. Otherwise, it determines the current player by calling the `player` function on the `board` and prints the current player and the user.\n",
    "\n",
    "- If the game is not over and the current player is not the user, then the code sets the `ai_turn` variable to `True` and selects a move for the AI player by calling the `minimax` function on the `board`. It then applies the selected move to the `board` by calling the `result` function on the `board` and the selected move. Finally, it sets the `ai_turn` variable to `False` and prints the updated `board`.\n",
    "\n",
    "- If the game is not over and the current player is the user, then the code sets the `ai_turn` variable to `True` and prompts the user to enter the position to move. It then applies the selected move to the `board` by calling the `result` function on the `board` and the selected move. Finally, it prints the updated `board`."
   ]
  },
  {
   "cell_type": "code",
   "execution_count": 51,
   "metadata": {},
   "outputs": [
    {
     "name": "stdout",
     "output_type": "stream",
     "text": [
      "Player X's turn:\n",
      "Player X's turn:\n",
      "Player X's turn:\n",
      "Player X's turn:\n",
      "Player X's turn:\n",
      "Invalid move. Try again.\n",
      "Invalid move. Try again.\n",
      "Player X's turn:\n",
      "Player X's turn:\n",
      "Player X's turn:\n",
      "Player X's turn:\n"
     ]
    },
    {
     "ename": "ValueError",
     "evalue": "not enough values to unpack (expected 2, got 1)",
     "output_type": "error",
     "traceback": [
      "\u001b[1;31m---------------------------------------------------------------------------\u001b[0m",
      "\u001b[1;31mValueError\u001b[0m                                Traceback (most recent call last)",
      "Cell \u001b[1;32mIn[51], line 8\u001b[0m\n\u001b[0;32m      6\u001b[0m \u001b[39mif\u001b[39;00m curr_player \u001b[39m==\u001b[39m X:\n\u001b[0;32m      7\u001b[0m     \u001b[39mprint\u001b[39m(\u001b[39m\"\u001b[39m\u001b[39mPlayer X\u001b[39m\u001b[39m'\u001b[39m\u001b[39ms turn:\u001b[39m\u001b[39m\"\u001b[39m)\n\u001b[1;32m----> 8\u001b[0m     i, j \u001b[39m=\u001b[39m \u001b[39mmap\u001b[39m(\u001b[39mint\u001b[39m, \u001b[39minput\u001b[39m(\u001b[39m\"\u001b[39m\u001b[39mEnter row and column (0-2, separated by space): \u001b[39m\u001b[39m\"\u001b[39m)\u001b[39m.\u001b[39msplit())\n\u001b[0;32m      9\u001b[0m     \u001b[39mwhile\u001b[39;00m (i, j) \u001b[39mnot\u001b[39;00m \u001b[39min\u001b[39;00m actions(board):\n\u001b[0;32m     10\u001b[0m         \u001b[39mprint\u001b[39m(\u001b[39m\"\u001b[39m\u001b[39mInvalid move. Try again.\u001b[39m\u001b[39m\"\u001b[39m)\n",
      "\u001b[1;31mValueError\u001b[0m: not enough values to unpack (expected 2, got 1)"
     ]
    }
   ],
   "source": [
    "if __name__ == \"__main__\":\n",
    "    \n",
    "    while not terminal(board):\n",
    "        curr_player = player(board)\n",
    "\n",
    "        if curr_player == X:\n",
    "            print(\"Player X's turn:\")\n",
    "            i, j = map(int, input(\"Enter row and column (0-2, separated by space): \").split())\n",
    "            while (i, j) not in actions(board):\n",
    "                print(\"Invalid move. Try again.\")\n",
    "                i, j = map(int, input(\"Enter row and column (0-2, separated by space): \").split())\n",
    "\n"
   ]
  },
  {
   "cell_type": "code",
   "execution_count": null,
   "metadata": {},
   "outputs": [],
   "source": []
  }
 ],
 "metadata": {
  "kernelspec": {
   "display_name": "Python 3 (ipykernel)",
   "language": "python",
   "name": "python3"
  },
  "language_info": {
   "codemirror_mode": {
    "name": "ipython",
    "version": 3
   },
   "file_extension": ".py",
   "mimetype": "text/x-python",
   "name": "python",
   "nbconvert_exporter": "python",
   "pygments_lexer": "ipython3",
   "version": "3.11.2"
  }
 },
 "nbformat": 4,
 "nbformat_minor": 4
}
